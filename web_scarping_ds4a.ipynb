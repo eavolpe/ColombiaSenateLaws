{
 "cells": [
  {
   "cell_type": "code",
   "execution_count": 1,
   "metadata": {},
   "outputs": [
    {
     "name": "stderr",
     "output_type": "stream",
     "text": [
      "C:\\Users\\emili\\.conda\\envs\\crime\\lib\\site-packages\\urllib3\\connectionpool.py:1043: InsecureRequestWarning: Unverified HTTPS request is being made to host 'leyes.senado.gov.co'. Adding certificate verification is strongly advised. See: https://urllib3.readthedocs.io/en/1.26.x/advanced-usage.html#ssl-warnings\n",
      "  warnings.warn(\n"
     ]
    },
    {
     "data": {
      "text/plain": [
       "<Response [200]>"
      ]
     },
     "execution_count": 1,
     "metadata": {},
     "output_type": "execute_result"
    }
   ],
   "source": [
    "import requests\n",
    "page = requests.get(\"https://leyes.senado.gov.co/proyectos/index.php/proyectos-ley/periodo-legislativo-2006-2010/2006-2007?option=com_joodb&view=catalog&format=html&reset=false&ordering=&orderby=&Itemid=292&task=&search=&searchfield=&limit=0\",\n",
    "                    verify=False)\n",
    "page"
   ]
  },
  {
   "cell_type": "code",
   "execution_count": null,
   "metadata": {},
   "outputs": [],
   "source": []
  },
  {
   "cell_type": "code",
   "execution_count": 6,
   "metadata": {},
   "outputs": [],
   "source": [
    "from bs4 import BeautifulSoup\n",
    "soup = BeautifulSoup(page.content, 'html.parser')"
   ]
  },
  {
   "cell_type": "code",
   "execution_count": 37,
   "metadata": {},
   "outputs": [],
   "source": [
    "# print(soup.prettify())"
   ]
  },
  {
   "cell_type": "code",
   "execution_count": 38,
   "metadata": {
    "scrolled": false
   },
   "outputs": [],
   "source": [
    "# list(soup.children)"
   ]
  },
  {
   "cell_type": "code",
   "execution_count": null,
   "metadata": {},
   "outputs": [],
   "source": [
    "#<a class=\"joodb_titletink\""
   ]
  },
  {
   "cell_type": "code",
   "execution_count": 12,
   "metadata": {},
   "outputs": [],
   "source": [
    "soup = BeautifulSoup(page.content, 'html.parser')\n",
    "# soup.find_all('a')"
   ]
  },
  {
   "cell_type": "code",
   "execution_count": 14,
   "metadata": {},
   "outputs": [
    {
     "data": {
      "text/plain": [
       "[<a class=\"joodb_titletink\" href=\"/proyectos/index.php/proyectos-ley/periodo-legislativo-2006-2010/2006-2007/article/1-por-la-cual-se-otorgan-facultades-extraordinarias-al-presidente-de-la-republica-y-se-dictan-otras-disposiciones\" title=\"Leer Mas...\">\"POR LA CUAL SE OTORGAN FACULTADES EXTRAORDINARIAS AL PRESIDENTE DE LA REPÚBLICA Y SE DICTAN OTRAS DISPOSICIONES\"</a>,\n",
       " <a class=\"joodb_titletink\" href=\"/proyectos/index.php/proyectos-ley/periodo-legislativo-2006-2010/2006-2007/article/2-por-medio-del-cual-se-regula-el-trabajo-asociado-cooperativo\" title=\"Leer Mas...\">\"POR MEDIO DEL CUAL SE REGULA EL TRABAJO ASOCIADO COOPERATIVO\"</a>,\n",
       " <a class=\"joodb_titletink\" href=\"/proyectos/index.php/proyectos-ley/periodo-legislativo-2006-2010/2006-2007/article/3-por-la-cual-se-modifica-la-ley-82-de-1993-ley-mujer-cabeza-de-familia-y-se-dictan-otras-disposiciones\" title=\"Leer Mas...\">\"POR LA CUAL SE MODIFICA LA LEY 82 DE 1993, LEY MUJER CABEZA DE FAMILIA Y SE DICTAN OTRAS DISPOSICIONES\"</a>,\n",
       " <a class=\"joodb_titletink\" href=\"/proyectos/index.php/proyectos-ley/periodo-legislativo-2006-2010/2006-2007/article/4-por-la-cual-se-modifica-el-articulo-233-de-la-ley-599-de-2000\" title=\"Leer Mas...\">\"POR LA CUAL SE MODIFICA EL ARTICULO 233 DE LA LEY 599 DE 2000\"</a>,\n",
       " <a class=\"joodb_titletink\" href=\"/proyectos/index.php/proyectos-ley/periodo-legislativo-2006-2010/2006-2007/article/5-por-el-cual-se-reglamenta-el-habeas-data-y-el-derecho-de-participacion-ante-entidades-financieras-bancarias-y-centrales-o-bancos-de-datos\" title=\"Leer Mas...\">\"POR EL CUAL SE REGLAMENTA EL HABEAS DATA Y EL DERECHO DE PARTICIPACIÓN ANTE ENTIDADES FINANCIERAS, BANCARIAS Y CENTRALES O BANCOS DE DATOS\"</a>,\n",
       " <a class=\"joodb_titletink\" href=\"/proyectos/index.php/proyectos-ley/periodo-legislativo-2006-2010/2006-2007/article/6-por-medio-del-cual-se-reglamenta-parcialmente-la-presicion-de-la-canasta-educativa-se-crea-el-subsidio-para-uniformes-escolares-de-los-estudiantes-de-escasos-recursos-y-se-dictan-otras-disposiciones\" title=\"Leer Mas...\">\"POR MEDIO DEL CUAL SE REGLAMENTA PARCIALMENTE LA PRESICION DE LA CANASTA EDUCATIVA, SE CREA EL SUBSIDIO PARA UNIFORMES ESCOLARES DE LOS ESTUDIANTES DE ESCASOS RECURSOS Y SE DICTAN OTRAS DISPOSICIONES\"</a>,\n",
       " <a class=\"joodb_titletink\" href=\"/proyectos/index.php/proyectos-ley/periodo-legislativo-2006-2010/2006-2007/article/7-por-la-cual-se-modifica-la-ley-388-de-1997-respecto-al-control-del-cumplimiento-de-las-licencias-de-construccion-y-las-sanciones-urbanisticas\" title=\"Leer Mas...\">\"POR LA CUAL SE MODIFICA LA LEY 388 DE 1997 RESPECTO AL CONTROL DEL CUMPLIMIENTO DE LAS LICENCIAS DE CONSTRUCCIÓN Y LAS SANCIONES URBANÍSTICAS\"</a>,\n",
       " <a class=\"joodb_titletink\" href=\"/proyectos/index.php/proyectos-ley/periodo-legislativo-2006-2010/2006-2007/article/8-por-medio-de-la-cual-se-modifican-algunos-articulos-del-codigo-penal-en-materia-de-abuso-sexual-y-se-dictan-otras-disposiciones\" title=\"Leer Mas...\">\"POR MEDIO DE LA CUAL SE MODIFICAN ALGUNOS ARTÍCULOS DEL CÓDIGO PENAL EN MATERIA  DE ABUSO SEXUAL Y SE DICTAN OTRAS DISPOSICIONES\"</a>,\n",
       " <a class=\"joodb_titletink\" href=\"/proyectos/index.php/proyectos-ley/periodo-legislativo-2006-2010/2006-2007/article/9-por-la-cual-se-dictan-normas-generales-a-las-cuales-debe-sujetarse-el-gobierno-para-modificar-los-aranceles-tarifas-y-demas-disposiciones-concernientes-al-regimen-de-aduanas\" title=\"Leer Mas...\">\"POR LA CUAL SE DICTAN NORMAS GENERALES A LAS CUALES DEBE SUJETARSE EL GOBIERNO PARA MODIFICAR LOS ARANCELES, TARIFAS Y DEMÁS DISPOSICIONES CONCERNIENTES AL RÉGIMEN DE ADUANAS\"</a>,\n",
       " <a class=\"joodb_titletink\" href=\"/proyectos/index.php/proyectos-ley/periodo-legislativo-2006-2010/2006-2007/article/10-por-la-cual-se-regula-el-transporte-multimodal-de-carga-y-se-dictan-otras-disposiciones\" title=\"Leer Mas...\">\"POR LA CUAL SE REGULA EL TRANSPORTE MULTIMODAL DE CARGA Y SE DICTAN OTRAS DISPOSICIONES\"</a>,\n",
       " <a class=\"joodb_titletink\" href=\"/proyectos/index.php/proyectos-ley/periodo-legislativo-2006-2010/2006-2007/article/11-por-la-cual-se-regula-el-funcionamiento-de-las-instituciones-que-prestan-servicios-de-atencion-a-la-persona-mayor-y-se-dictan-otras-disposiciones\" title=\"Leer Mas...\">\"POR LA CUAL SE REGULA EL FUNCIONAMIENTO DE LAS INSTITUCIONES QUE PRESTAN SERVICIOS DE ATENCIÓN A LA PERSONA MAYOR, Y SE DICTAN OTRAS DISPOSICIONES\"</a>,\n",
       " <a class=\"joodb_titletink\" href=\"/proyectos/index.php/proyectos-ley/periodo-legislativo-2006-2010/2006-2007/article/12-por-la-cual-se-modifica-el-decreto-ley-111-de-1996-que-recopila-la-ley-58-de-1989-la-ley-179-estatuto-organico-de-presupuesto-y-se-dictan-otras-disposiciones-sobre-agenda-interna\" title=\"Leer Mas...\">\"POR LA CUAL SE MODIFICA EL DECRETO LEY 111 DE 1996, QUE RECOPILA LA LEY 58 DE 1989, LA LEY 179 ESTATUTO ORGÁNICO DE PRESUPUESTO Y SE DICTAN OTRAS DISPOSICIONES SOBRE AGENDA INTERNA\"</a>,\n",
       " <a class=\"joodb_titletink\" href=\"/proyectos/index.php/proyectos-ley/periodo-legislativo-2006-2010/2006-2007/article/13-por-la-cual-se-modifica-el-decreto-numero-274-de-2000-que-regula-el-servicio-exterior-de-la-republica-y-la-manera-diplomatica-y-consular-y-se-dictan-otras-disposiciones\" title=\"Leer Mas...\">\"POR LA CUAL SE MODIFICA EL DECRETO NUMERO 274 DE 2000, QUE REGULA EL SERVICIO EXTERIOR DE LA REPÚBLICA Y LA MANERA DIPLOMÁTICA Y CONSULAR Y SE DICTAN OTRAS DISPOSICIONES\"</a>,\n",
       " <a class=\"joodb_titletink\" href=\"/proyectos/index.php/proyectos-ley/periodo-legislativo-2006-2010/2006-2007/article/14-por-medio-de-la-cual-se-modifica-la-ley-152-de-1994-para-la-planeacion-de-la-agenda-interna\" title=\"Leer Mas...\">\"POR MEDIO DE LA CUAL SE MODIFICA LA LEY 152 DE 1994 PARA LA PLANEACION DE LA AGENDA INTERNA\"</a>,\n",
       " <a class=\"joodb_titletink\" href=\"/proyectos/index.php/proyectos-ley/periodo-legislativo-2006-2010/2006-2007/article/15-por-medio-de-la-cual-se-reforma-la-ley-115-de-1994-para-ordenar-la-ensenanza-de-los-principios-universales-de-la-urbanidad-en-los-primeros-cinco-grados-de-la-educacion-basica-ley-urbanidad\" title=\"Leer Mas...\">\"POR MEDIO DE LA CUAL SE REFORMA LA LEY 115 DE 1994, PARA ORDENAR LA ENSEÑANZA DE LOS PRINCIPIOS UNIVERSALES DE LA URBANIDAD, EN LOS PRIMEROS CINCO GRADOS DE LA EDUCACIÓN BÁSICA- LEY URBANIDAD\"</a>,\n",
       " <a class=\"joodb_titletink\" href=\"/proyectos/index.php/proyectos-ley/periodo-legislativo-2006-2010/2006-2007/article/16-por-la-cual-se-adiciona-un-paragrafo-del-articulo-229-del-codigo-penal-relativo-del-delito-de-violencia-intrafamiliar\" title=\"Leer Mas...\">\"POR LA CUAL SE ADICIONA UN PARÁGRAFO DEL ARTICULO 229 DEL CÓDIGO PENAL, RELATIVO DEL DELITO DE VIOLENCIA INTRAFAMILIAR\"</a>,\n",
       " <a class=\"joodb_titletink\" href=\"/proyectos/index.php/proyectos-ley/periodo-legislativo-2006-2010/2006-2007/article/17-por-medio-de-la-cual-se-establece-la-politica-publica-para-las-personas-mayores-y-se-dictan-otras-disposiciones\" title=\"Leer Mas...\">\"POR MEDIO DE LA CUAL SE ESTABLECE LA POLITICA PUBLICA, PARA LAS PERSONAS MAYORES Y SE DICTAN OTRAS DISPOSICIONES\"</a>,\n",
       " <a class=\"joodb_titletink\" href=\"/proyectos/index.php/proyectos-ley/periodo-legislativo-2006-2010/2006-2007/article/18-por-la-cual-se-establece-rebaja-en-las-sanciones-para-los-remisos-del-servicio-militar-obligatorio\" title=\"Leer Mas...\">\"POR LA CUAL SE ESTABLECE REBAJA EN LAS SANCIONES PARA LOS REMISOS DEL SERVICIO MILITAR OBLIGATORIO\"</a>,\n",
       " <a class=\"joodb_titletink\" href=\"/proyectos/index.php/proyectos-ley/periodo-legislativo-2006-2010/2006-2007/article/19-por-la-cual-se-expide-el-codigo-penal-militar\" title=\"Leer Mas...\">\"POR LA CUAL SE EXPIDE EL CÓDIGO PENAL MILITAR\"</a>,\n",
       " <a class=\"joodb_titletink\" href=\"/proyectos/index.php/proyectos-ley/periodo-legislativo-2006-2010/2006-2007/article/20-por-la-cual-se-hacen-modificaciones-en-el-sistema-general-de-seguridad-social-en-salud\" title=\"Leer Mas...\">\"POR LA CUAL SE HACEN MODIFICACIONES EN EL SISTEMA GENERAL DE SEGURIDAD SOCIAL EN SALUD\"</a>,\n",
       " <a class=\"joodb_titletink\" href=\"/proyectos/index.php/proyectos-ley/periodo-legislativo-2006-2010/2006-2007/article/21-por-la-cual-se-establecen-normas-para-seguridad-social-integral-de-los-conductores-de-taxis-y-se-dictan-otras-disposiciones\" title=\"Leer Mas...\">\"POR LA CUAL SE ESTABLECEN NORMAS PARA SEGURIDAD SOCIAL INTEGRAL DE LOS CONDUCTORES DE TAXIS Y SE DICTAN OTRAS DISPOSICIONES\"</a>,\n",
       " <a class=\"joodb_titletink\" href=\"/proyectos/index.php/proyectos-ley/periodo-legislativo-2006-2010/2006-2007/article/22-por-la-cual-se-dictan-disposiciones-que-regulan-el-funcionamiento-y-operacion-de-los-parques-de-diversiones-atracciones-mecanicas-y-ciudades-de-hierro-en-todo-el-territorio-nacional-y-se-dictan-otras-disposiciones\" title=\"Leer Mas...\">\"POR LA CUAL SE DICTAN DISPOSICIONES QUE REGULAN EL FUNCIONAMIENTO Y OPERACIÓN DE LOS PARQUES DE DIVERSIONES, ATRACCIONES MECÁNICAS Y CIUDADES DE HIERRO EN TODO EL TERRITORIO NACIONAL Y SE DICTAN OTRAS DISPOSICIONES\"</a>,\n",
       " <a class=\"joodb_titletink\" href=\"/proyectos/index.php/proyectos-ley/periodo-legislativo-2006-2010/2006-2007/article/23-por-medio-de-la-cual-se-adoptan-medidas-que-permitan-superar-de-manera-sostenible-la-congestion-judicial-y-propiciar-condiciones-de-eficacia-y-celeridad-en-la-administracion-de-justicia\" title=\"Leer Mas...\">\"POR MEDIO DE LA CUAL SE ADOPTAN MEDIDAS QUE PERMITAN SUPERAR DE MANERA SOSTENIBLE LA CONGESTION JUDICIAL Y PROPICIAR CONDICIONES DE EFICACIA Y CELERIDAD EN LA ADMINISTRACIÓN DE JUSTICIA\"</a>,\n",
       " <a class=\"joodb_titletink\" href=\"/proyectos/index.php/proyectos-ley/periodo-legislativo-2006-2010/2006-2007/article/24-por-medio-de-la-cual-se-protege-la-vigencia-de-la-ley-418-de-1997-prorrogada-y-modificada-por-las-leyes-548-de-1999-y-782-de-2002-y-se-modifican-algunos-de-sus-disposiciones\" title=\"Leer Mas...\">\"POR MEDIO DE LA CUAL SE PROTEGE LA VIGENCIA DE LA LEY 418 DE 1997 PRORROGADA Y MODIFICADA POR LAS LEYES 548 DE 1999 Y 782 DE 2002 Y SE MODIFICAN ALGUNOS DE SUS DISPOSICIONES\"</a>,\n",
       " <a class=\"joodb_titletink\" href=\"/proyectos/index.php/proyectos-ley/periodo-legislativo-2006-2010/2006-2007/article/25-por-el-cual-se-incrementan-penas-en-materia-de-delitos-contra-la-libertad-integridad-y-formaciones-sexuales\" title=\"Leer Mas...\">\"POR EL CUAL SE INCREMENTAN PENAS EN MATERIA DE DELITOS CONTRA LA LIBERTAD, INTEGRIDAD, Y FORMACIONES SEXUALES\"</a>,\n",
       " <a class=\"joodb_titletink\" href=\"/proyectos/index.php/proyectos-ley/periodo-legislativo-2006-2010/2006-2007/article/26-por-la-cual-se-dictan-normas-para-el-fortalecimiento-de-las-instituciones-prestadoras-de-servicios-de-caracter-publico-ips-de-la-red-hospitalaria-nacional-y-se-dictan-otras-disposiciones\" title=\"Leer Mas...\">\"POR LA CUAL SE DICTAN NORMAS PARA EL FORTALECIMIENTO DE LAS INSTITUCIONES PRESTADORAS DE SERVICIOS DE CARÁCTER PUBLICO (IPS) DE LA RED HOSPITALARIA NACIONAL Y SE DICTAN OTRAS DISPOSICIONES\"</a>,\n",
       " <a class=\"joodb_titletink\" href=\"/proyectos/index.php/proyectos-ley/periodo-legislativo-2006-2010/2006-2007/article/27-por-la-cual-se-dictan-las-disposiciones-generales-del-habeas-data-y-se-regula-el-manejo-de-la-informacion-contenida-en-bases-de-datos-personales-en-especial-lo-financiero-y-crediticio-y-se-dictan-otras-disposiciones\" title=\"Leer Mas...\">\"POR LA CUAL SE DICTAN LAS DISPOSICIONES GENERALES DEL HABEAS DATA Y SE REGULA EL MANEJO DE LA INFORMACIÓN CONTENIDA EN BASES DE DATOS PERSONALES, EN ESPECIAL LO FINANCIERO Y CREDITICIO, Y SE DICTAN OTRAS DISPOSICIONES\"</a>,\n",
       " <a class=\"joodb_titletink\" href=\"/proyectos/index.php/proyectos-ley/periodo-legislativo-2006-2010/2006-2007/article/28-por-la-cual-se-modifica-y-adicionan-el-titulo-11-patrimonio-cultural-de-la-nacion-los-articulos-40-49-y-56-del-titulo-iii-del-fomento-y-los-estimulos-o-la-creacion-a-la-investigacion-a-la-actividad-artistica-y-cultural-y-cultural-y-los-articulos-60-y-62-del-titulo-iv-de-la-gestion-cultural-de-la-ley-397-de-1997-y-se-dictan-otras-disposiciones\" title=\"Leer Mas...\">POR LA CUAL SE MODIFICA Y ADICIONAN EL TITULO 11 PATRIMONIO CULTURAL DE LA NACIÓN, LOS ARTÍCULOS 40, 49 Y 56 DEL TITULO III DEL FOMENTO Y LOS ESTÍMULOS O LA CREACIÓN  A LA INVESTIGACIÓN A LA ACTIVIDAD ARTÍSTICA Y CULTURAL Y CULTURAL Y LOS ARTÍCULOS 60 Y 62 DEL TITULO IV DE LA GESTIÓN CULTURAL DE LA LEY 397 DE 1997, Y SE DICTAN OTRAS DISPOSICIONES\"</a>,\n",
       " <a class=\"joodb_titletink\" href=\"/proyectos/index.php/proyectos-ley/periodo-legislativo-2006-2010/2006-2007/article/29-mediante-el-cual-se-reglamenta-el-derecho-de-los-enfermos-terminales-a-desistir-de-medios-terapeuticos-y-se-prohibe-el-encenamiento-terapeutico\" title=\"Leer Mas...\">\"MEDIANTE EL CUAL SE REGLAMENTA EL DERECHO DE LOS ENFERMOS TERMINALES A DESISTIR DE MEDIOS TERAPÉUTICOS Y SE PROHIBE EL ENCEÑAMIENTO TERAPÉUTICO\"</a>,\n",
       " <a class=\"joodb_titletink\" href=\"/proyectos/index.php/proyectos-ley/periodo-legislativo-2006-2010/2006-2007/article/30-por-la-cual-se-dictan-el-estatuto-de-desarrollo-rural-se-reforma-el-estatuto-colombiano-de-desarrollo-rural-se-reforma-el-instituto-colombiano-de-desarrollo-rural-incoder-y-se-dictan-otras-disposiciones\" title=\"Leer Mas...\">\"POR LA CUAL SE DICTAN EL ESTATUTO DE DESARROLLO RURAL, SE REFORMA EL ESTATUTO COLOMBIANO DE DESARROLLO RURAL, SE REFORMA EL INSTITUTO COLOMBIANO DE DESARROLLO RURAL- INCODER- Y SE DICTAN OTRAS DISPOSICIONES\"</a>,\n",
       " <a class=\"joodb_titletink\" href=\"/proyectos/index.php/proyectos-ley/periodo-legislativo-2006-2010/2006-2007/article/31-por-la-cual-se-regula-el-registro-calificado-de-programas-de-educacion-superior-y-se-dictan-otras-disposiciones\" title=\"Leer Mas...\">\"POR LA CUAL SE REGULA EL REGISTRO CALIFICADO DE PROGRAMAS DE EDUCACIÓN SUPERIOR Y SE DICTAN OTRAS DISPOSICIONES\"</a>,\n",
       " <a class=\"joodb_titletink\" href=\"/proyectos/index.php/proyectos-ley/periodo-legislativo-2006-2010/2006-2007/article/32-por-medio-de-la-cual-se-declara-raza-oficial-colombiana-y-patrimonio-cultural-de-la-nacion-al-caballo-criollo-colombiano-en-sus-cuatro-andares-paso-fino-colombiano-trote-y-galope-trocha-y-galope-y-trocha-pura-y-se-dictan-otras-disposiciones\" title=\"Leer Mas...\">\"POR MEDIO DE LA CUAL, SE DECLARA RAZA OFICIAL COLOMBIANA Y PATRIMONIO CULTURAL DE LA NACIÓN AL CABALLO CRIOLLO COLOMBIANO, EN SUS CUATRO ANDARES: PASO FINO COLOMBIANO, TROTE Y GALOPE, TROCHA Y GALOPE, Y TROCHA PURA, Y SE DICTAN OTRAS DISPOSICIONES.\"</a>,\n",
       " <a class=\"joodb_titletink\" href=\"/proyectos/index.php/proyectos-ley/periodo-legislativo-2006-2010/2006-2007/article/33-por-el-cual-se-fija-el-regimen-de-creditos-por-sumas-mal-cobradas-acreditacion-de-intereses\" title=\"Leer Mas...\">\"POR EL CUAL SE FIJA EL RÉGIMEN DE CRÉDITOS POR SUMAS  MAL COBRADAS , ACREDITACIÓN DE INTERESES\"</a>,\n",
       " <a class=\"joodb_titletink\" href=\"/proyectos/index.php/proyectos-ley/periodo-legislativo-2006-2010/2006-2007/article/34-por-medio-de-la-cual-se-dicta-el-estatuto-de-dos-personerias\" title=\"Leer Mas...\">\"POR MEDIO DE LA CUAL SE DICTA EL ESTATUTO DE DOS PERSONERÍAS\"</a>,\n",
       " <a class=\"joodb_titletink\" href=\"/proyectos/index.php/proyectos-ley/periodo-legislativo-2006-2010/2006-2007/article/35-por-la-cual-se-crea-la-comision-de-simplificacion-normativa-del-congreso-de-la-republica-y-se-adiciona-la-ley-5-de-1992\" title=\"Leer Mas...\">\"POR LA CUAL SE CREA LA COMISIÓN DE SIMPLIFICACIÓN NORMATIVA DEL CONGRESO DE LA REPÚBLICA Y SE ADICIONA LA LEY 5 DE 1992\"</a>,\n",
       " <a class=\"joodb_titletink\" href=\"/proyectos/index.php/proyectos-ley/periodo-legislativo-2006-2010/2006-2007/article/36-por-la-cual-se-establece-responsabilidad-de-las-sociedades-matrices-o-controlantes\" title=\"Leer Mas...\">\"POR LA CUAL SE ESTABLECE RESPONSABILIDAD DE LAS SOCIEDADES MATRICES O CONTROLANTES\"</a>,\n",
       " <a class=\"joodb_titletink\" href=\"/proyectos/index.php/proyectos-ley/periodo-legislativo-2006-2010/2006-2007/article/37-por-la-cual-es-prohibida-la-introduccion-o-aportacion-a-residuos-y-desechos-peligrosos-en-cualquier-forma-al-territorio-nacional-y-son-dictados-principios-y-lineamientos-para-la-gestion-integral-de-los-mismos\" title=\"Leer Mas...\">\"POR LA CUAL ES PROHIBIDA LA INTRODUCCIÓN O APORTACIÓN A RESIDUOS Y DESECHOS PELIGROSOS EN CUALQUIER FORMA AL TERRITORIO NACIONAL Y SON DICTADOS PRINCIPIOS Y LINEAMIENTOS PARA LA GESTIÓN INTEGRAL DE LOS MISMOS\"</a>,\n",
       " <a class=\"joodb_titletink\" href=\"/proyectos/index.php/proyectos-ley/periodo-legislativo-2006-2010/2006-2007/article/38-por-la-cual-se-crea-la-comision-de-regulacion-de-salud\" title=\"Leer Mas...\">\"POR LA CUAL SE CREA LA COMISIÓN DE REGULACIÓN DE SALUD\"</a>,\n",
       " <a class=\"joodb_titletink\" href=\"/proyectos/index.php/proyectos-ley/periodo-legislativo-2006-2010/2006-2007/article/39-por-medio-de-la-cual-se-establecen-tarifas-diferenciales-en-el-servicio-publico-de-transporte-de-pasajeros\" title=\"Leer Mas...\">\"POR MEDIO DE LA CUAL SE ESTABLECEN TARIFAS DIFERENCIALES EN EL SERVICIO PÚBLICO DE TRANSPORTE DE PASAJEROS\"</a>,\n",
       " <a class=\"joodb_titletink\" href=\"/proyectos/index.php/proyectos-ley/periodo-legislativo-2006-2010/2006-2007/article/40-por-la-cual-se-hacen-algunas-modificaciones-en-el-sistema-general-de-seguridad-social-en-salud-y-se-dictan-otras-disposiciones\" title=\"Leer Mas...\">\"POR LA CUAL SE HACEN ALGUNAS MODIFICACIONES EN EL SISTEMA GENERAL DE SEGURIDAD SOCIAL EN SALUD Y SE DICTAN OTRAS DISPOSICIONES\"</a>,\n",
       " <a class=\"joodb_titletink\" href=\"/proyectos/index.php/proyectos-ley/periodo-legislativo-2006-2010/2006-2007/article/41-por-la-cual-se-establece-el-regimen-aplicable-a-la-determinacion-del-precio-base-de-liquidacion-de-regalias-de-carbon-y-la-conformacion-de-deducibles-de-transporte-trasiego-y-manejo\" title=\"Leer Mas...\">\"POR LA CUAL SE ESTABLECE EL RÉGIMEN APLICABLE A LA DETERMINACIÓN DEL PRECIO BASE DE LIQUIDACIÓN DE REGALÍAS DE CARBÓN Y LA CONFORMACIÓN DE DEDUCIBLES DE TRANSPORTE TRASIEGO Y MANEJO\"</a>,\n",
       " <a class=\"joodb_titletink\" href=\"/proyectos/index.php/proyectos-ley/periodo-legislativo-2006-2010/2006-2007/article/42-por-la-cual-se-decreta-el-presupuesto-de-rentas-y-recursos-de-capital-y-de-ley-de-apropiaciones-para-la-vigencia-fiscal-del-1-de-enero-de-al-31-de-diciembre-de-2007\" title=\"Leer Mas...\">\"POR LA CUAL SE DECRETA EL PRESUPUESTO DE RENTAS Y RECURSOS DE CAPITAL Y DE LEY DE APROPIACIONES PARA LA VIGENCIA FISCAL DEL            1 DE ENERO DE AL 31 DE DICIEMBRE DE 2007\"</a>,\n",
       " <a class=\"joodb_titletink\" href=\"/proyectos/index.php/proyectos-ley/periodo-legislativo-2006-2010/2006-2007/article/43-por-medio-de-la-cual-se-sustituye-el-estatuto-tributario-de-los-impuestos-administrativos-por-la-direccion-de-impuestos-y-aduanas-nacionales\" title=\"Leer Mas...\">\"POR MEDIO DE LA CUAL SE SUSTITUYE EL ESTATUTO TRIBUTARIO DE LOS IMPUESTOS ADMINISTRATIVOS POR LA DIRECCIÓN DE IMPUESTOS Y ADUANAS NACIONALES\"</a>,\n",
       " <a class=\"joodb_titletink\" href=\"/proyectos/index.php/proyectos-ley/periodo-legislativo-2006-2010/2006-2007/article/44-por-medio-de-la-cual-modifican-los-articulos-15-17-24-25-paragrafo-2-26-de-la-ley-105-de-1993-y-le-fortalece-e-incentiva-la-construccion-mantenimiento-y-adecuacion-de-la-red-vial-terciaria-de-la-republica-de-colombia\" title=\"Leer Mas...\">\"POR MEDIO DE LA CUAL MODIFICAN LOS ARTÍCULOS 15,17,24,25 PARÁGRAFO 2, 26, DE LA LEY 105 DE 1993 Y LE FORTALECE E INCENTIVA LA CONSTRUCCIÓN, MANTENIMIENTO Y ADECUACIÓN DE LA RED VIAL TERCIARIA DE LA REPÚBLICA DE COLOMBIA\"</a>,\n",
       " <a class=\"joodb_titletink\" href=\"/proyectos/index.php/proyectos-ley/periodo-legislativo-2006-2010/2006-2007/article/45-por-medio-de-la-cual-se-modifica-el-articulo-32-de-la-ley-782-de-2002\" title=\"Leer Mas...\">\"POR MEDIO DE LA CUAL SE MODIFICA EL ARTICULO 32 DE LA LEY 782 DE 2002\"</a>,\n",
       " <a class=\"joodb_titletink\" href=\"/proyectos/index.php/proyectos-ley/periodo-legislativo-2006-2010/2006-2007/article/46-por-medio-de-la-cual-se-protege-la-existencia-y-seguridad-del-estado-adicionando-cuatro-articulos-al-titulo-xviii-capitulo-ii-de-la-ley-599-de-2000-que-tipifican-los-delitos-de-incumplimiento-a-la-decicion-administrativa-de-expulcion-y-reingreso-ilegal-al-pais-de-extranjeros-determinados-de-no-excarcelacion\" title=\"Leer Mas...\">\"POR MEDIO DE LA CUAL SE PROTEGE LA EXISTENCIA Y SEGURIDAD DEL ESTADO, ADICIONANDO CUATRO ARTÍCULOS AL TITULO XVIII CAPITULO II DE LA LEY 599 DE 2000 QUE TIPIFICAN LOS DELITOS DE INCUMPLIMIENTO A LA DECICION ADMINISTRATIVA DE EXPULCION Y REINGRESO ILEGAL AL PAÍS DE EXTRANJEROS , DETERMINADOS DE NO EXCARCELACION\"</a>,\n",
       " <a class=\"joodb_titletink\" href=\"/proyectos/index.php/proyectos-ley/periodo-legislativo-2006-2010/2006-2007/article/47-por-medio-de-la-cual-se-modifica-el-articulo-145-de-la-ley-5-de-1992-en-cuanto-al-proceso-legislativo-ordinario-del-reglamento-del-congreso-y-lo-clarifica-la-presentacion-de-dos-titulos-de-los-proyectos-de-ley-determinando-la-materia-a-legislar\" title=\"Leer Mas...\">\"POR MEDIO DE LA CUAL SE MODIFICA EL ARTICULO 145 DE LA LEY 5 DE 1992 EN CUANTO AL PROCESO LEGISLATIVO ORDINARIO DEL REGLAMENTO DEL CONGRESO Y LO CLARIFICA LA PRESENTACIÓN DE DOS TÍTULOS DE LOS PROYECTOS DE LEY DETERMINANDO LA MATERIA A LEGISLAR\"</a>,\n",
       " <a class=\"joodb_titletink\" href=\"/proyectos/index.php/proyectos-ley/periodo-legislativo-2006-2010/2006-2007/article/48-por-medio-de-la-cual-se-desarrolla-el-numeral-2-del-articulo-173-de-la-constitucion-nacional-sobre-las-atribuciones-del-senado-de-la-republica-para-aprobar-o-improbar-los-ascensos-militares-que-confiera-el-gobierno-desde-oficiales-generales-y-oficiales-de-insignia-de-la-fuerza-publica-hasta-el-mas-alto-grado-y-se-determina-su-procedimiento\" title=\"Leer Mas...\">\"POR MEDIO DE LA CUAL SE DESARROLLA EL NUMERAL 2 DEL ARTICULO  173 DE LA CONSTITUCIÓN NACIONAL SOBRE LAS ATRIBUCIONES DEL SENADO DE LA REPÚBLICA PARA APROBAR O IMPROBAR LOS ASCENSOS MILITARES QUE CONFIERA EL GOBIERNO DESDE OFICIALES GENERALES Y OFICIALES DE INSIGNIA DE LA FUERZA PUBLICA, HASTA EL MAS ALTO GRADO Y SE DETERMINA SU  PROCEDIMIENTO\"</a>,\n",
       " <a class=\"joodb_titletink\" href=\"/proyectos/index.php/proyectos-ley/periodo-legislativo-2006-2010/2006-2007/article/49-por-la-cual-se-organiza-el-concurso-de-meritos-para-la-eleccion-del-registrador-nacional-del-estado-civil-en-concordancia-con-lo-dispuesto-en-el-articulo-266-de-la-constitucion-nacional\" title=\"Leer Mas...\">\"POR LA CUAL SE ORGANIZA EL CONCURSO DE MÉRITOS PARA LA ELECCIÓN DEL REGISTRADOR NACIONAL DEL ESTADO CIVIL, EN CONCORDANCIA CON LO DISPUESTO EN EL ARTICULO 266 DE LA CONSTITUCIÓN NACIONAL\"</a>,\n",
       " <a class=\"joodb_titletink\" href=\"/proyectos/index.php/proyectos-ley/periodo-legislativo-2006-2010/2006-2007/article/50-por-medio-de-la-cual-se-aprueba-el-acuerdo-de-dialogo-politico-y-cooperativo-entre-la-comunidad-europea-y-sus-estados-miembros-por-una-parte-y-la-comunidad-andina-y-sus-paises-miembros-bolivia-colombia-ecuador-peru-y-venezuela-por-otra-parte-hecho-en-roma-el-quince-15-de-diciembre-de-dos-mil-tres-2003\" title=\"Leer Mas...\">\"POR MEDIO DE LA CUAL SE APRUEBA EL ACUERDO DE DIALOGO POLÍTICO Y COOPERATIVO ENTRE LA COMUNIDAD EUROPEA Y SUS ESTADOS MIEMBROS POR UNA PARTE, Y LA COMUNIDAD ANDINA Y SUS PAÍSES MIEMBROS (BOLIVIA, COLOMBIA, ECUADOR, PERÚ Y VENEZUELA) POR OTRA PARTE, HECHO EN ROMA, EL QUINCE (15) DE DICIEMBRE DE DOS MIL TRES (2003)</a>,\n",
       " <a class=\"joodb_titletink\" href=\"/proyectos/index.php/proyectos-ley/periodo-legislativo-2006-2010/2006-2007/article/51-por-medio-de-la-cual-se-aprueba-el-protocolo-adicional-al-convenio-de-cooperacion-judicial-en-materia-penal-entre-la-republica-de-colombia-y-el-reino-de-espana-de-29-de-mayo-de-1997-suscrito-en-madrid-a-doce-12-de-julio-de-2005\" title=\"Leer Mas...\">\"POR MEDIO DE LA CUAL SE APRUEBA EL PROTOCOLO ADICIONAL AL CONVENIO DE COOPERACIÓN JUDICIAL EN MATERIA PENAL ENTRE LA REPÚBLICA DE COLOMBIA Y EL REINO DE ESPAÑA, DE 29 DE MAYO DE 1997 SUSCRITO EN MADRID, A DOCE (12) DE JULIO DE 2005\"</a>,\n",
       " <a class=\"joodb_titletink\" href=\"/proyectos/index.php/proyectos-ley/periodo-legislativo-2006-2010/2006-2007/article/52-por-medio-de-la-cual-se-aprueba-el-acuerdo-de-cooperacion-para-la-prevencion-control-y-represion-del-larado-de-activos-derivados-de-cualquier-actividad-ilicita-entre-el-gobierno-de-la-republica-de-colombia-y-el-gobierno-de-la-republica-del-peru-hecho-en-bogota-d-c-el-veinte-20-de-febrero-de-dos-mil-cuatro-2004\" title=\"Leer Mas...\">\"POR MEDIO DE LA CUAL SE APRUEBA EL ACUERDO DE COOPERACIÓN PARA LA PREVENCIÓN, CONTROL Y REPRESION DEL LARADO DE ACTIVOS DERIVADOS DE CUALQUIER ACTIVIDAD ILÍCITA ENTRE EL GOBIERNO DE LA REPÚBLICA DE COLOMBIA Y EL GOBIERNO DE LA REPÚBLICA DEL PERÚ, HECHO EN BOGOTA, D.C. EL VEINTE (20) DE FEBRERO DE DOS MIL CUATRO (2004)\"</a>,\n",
       " <a class=\"joodb_titletink\" href=\"/proyectos/index.php/proyectos-ley/periodo-legislativo-2006-2010/2006-2007/article/53-por-medio-de-la-cual-se-aprueba-el-convenio-entre-el-gobierno-de-la-republica-de-colombia-y-el-gobierno-de-la-republica-de-india-sobre-cooperacion-en-ciencia-y-tecnologia-suscrito-en-bogota-el-11-de-junio-de-2005\" title=\"Leer Mas...\">\"POR MEDIO DE LA CUAL SE APRUEBA EL CONVENIO ENTRE EL GOBIERNO DE LA REPÚBLICA DE COLOMBIA Y EL GOBIERNO DE LA REPÚBLICA DE INDIA SOBRE COOPERACIÓN EN CIENCIA Y TECNOLOGÍA, SUSCRITO EN BOGOTA, EL 11 DE JUNIO DE 2005\"</a>,\n",
       " <a class=\"joodb_titletink\" href=\"/proyectos/index.php/proyectos-ley/periodo-legislativo-2006-2010/2006-2007/article/54-por-medio-de-la-cual-se-aprueban-dos-estatutos-del-consejo-iberoamericano-del-deporte-cid-firmados-en-la-ciudad-de-montevideo-republica-oriental-del-uruguay-el-cuatro-4-de-agosto-de-mil-novecientos-noventa-y-cuatro\" title=\"Leer Mas...\">\"POR MEDIO DE LA CUAL SE APRUEBAN DOS ESTATUTOS DEL CONSEJO IBEROAMERICANO DEL DEPORTE (CID) FIRMADOS EN LA CIUDAD DE MONTEVIDEO, REPÚBLICA ORIENTAL DEL URUGUAY, EL CUATRO (4) DE AGOSTO DE MIL NOVECIENTOS NOVENTA Y CUATRO\"</a>,\n",
       " <a class=\"joodb_titletink\" href=\"/proyectos/index.php/proyectos-ley/periodo-legislativo-2006-2010/2006-2007/article/55-por-medio-de-la-cual-se-aprueba-el-protocolo-adicional-al-acuerdo-entre-la-republica-de-colombia-y-el-organismo-internacional-de-energia-atomica-para-la-aplicacion-de-salvaguardias-en-relacion-con-el-tratado-para-la-proscripcion-de-las-armas-nucleares-en-la-america-latina-hecho-en-viena-a-los-11-dias-del-mes-de-mayo-de-2005\" title=\"Leer Mas...\">POR MEDIO DE LA CUAL SE APRUEBA EL \"PROTOCOLO ADICIONAL AL ACUERDO ENTRE LA REPÚBLICA DE COLOMBIA Y EL ORGANISMO INTERNACIONAL DE ENERGÍA ATÓMICA PARA LA APLICACIÓN DE SALVAGUARDIAS EN RELACIÓN  CON EL TRATADO PARA LA PROSCRIPCIÓN DE LAS ARMAS NUCLEARES EN LA AMÉRICA LATINA\", HECHO EN VIENA A LOS 11 DÍAS DEL MES DE MAYO DE 2005</a>,\n",
       " <a class=\"joodb_titletink\" href=\"/proyectos/index.php/proyectos-ley/periodo-legislativo-2006-2010/2006-2007/article/56-por-medio-de-la-cual-se-aprueba-el-convenio-de-rotterdam-para-la-aplicacion-del-procedimiento-de-consentimiento-fundamentado-previo-a-ciertos-plaquitas-y-productos-quimicos-peligrosos-objeto-de-comercio-internacional-hecho-en-rotterdam-el-diez-10-de-septiembre-de-mil-novecientos-noventa-y-ocho-1998\" title=\"Leer Mas...\">POR MEDIO DE LA CUAL SE APRUEBA EL \"CONVENIO DE ROTTERDAM PARA LA APLICACIÓN DEL PROCEDIMIENTO DE CONSENTIMIENTO FUNDAMENTADO PREVIO A CIERTOS PLAQUITAS Y PRODUCTOS QUÍMICOS PELIGROSOS OBJETO DE COMERCIO INTERNACIONAL\", HECHO EN ROTTERDAM EL DIEZ (10) DE SEPTIEMBRE DE MIL NOVECIENTOS NOVENTA Y OCHO (1998).</a>,\n",
       " <a class=\"joodb_titletink\" href=\"/proyectos/index.php/proyectos-ley/periodo-legislativo-2006-2010/2006-2007/article/57-por-medio-de-la-cual-se-aprueba-el-acuerdo-de-complementacion-economica-no-33-tratado-de-libre-comercio-celebrado-entre-la-republica-de-colombia-dos-estados-mexicanos-y-la-republica-bolivariana-de-venezuela-septimo-protocolo-adicional-suscrito-en-montevideo-uruguay-a-los-tres-3-dias-del-mes-de-agosto-de-dos-mil-cinco-2005\" title=\"Leer Mas...\">POR MEDIO DE LA CUAL SE APRUEBA EL \"ACUERDO DE COMPLEMENTACIÓN ECONÓMICA No 33 (TRATADO DE LIBRE COMERCIO) CELEBRADO ENTRE LA REPÚBLICA DE COLOMBIA, DOS ESTADOS MEXICANOS, Y LA REPÚBLICA BOLIVARIANA DE VENEZUELA- SÉPTIMO PROTOCOLO ADICIONAL\" SUSCRITO EN MONTEVIDEO, URUGUAY, A LOS TRES (3) DÍAS DEL MES DE AGOSTO DE DOS MIL CINCO (2005)</a>,\n",
       " <a class=\"joodb_titletink\" href=\"/proyectos/index.php/proyectos-ley/periodo-legislativo-2006-2010/2006-2007/article/58-por-medio-de-la-cual-el-convenio-de-intercambio-cultural-educativo-y-deportivo-entre-el-gobierno-de-la-republica-de-colombia-y-el-gobierno-de-la-republica-de-eslovenia-hecho-en-viena-el-15-de-marzo-de-2006\" title=\"Leer Mas...\">POR MEDIO DE LA CUAL EL \"CONVENIO DE INTERCAMBIO CULTURAL EDUCATIVO Y DEPORTIVO ENTRE EL GOBIERNO DE LA REPÚBLICA DE COLOMBIA Y EL GOBIERNO DE LA REPÚBLICA DE ESLOVENIA\", HECHO EN VIENA EL 15 DE MARZO DE 2006</a>,\n",
       " <a class=\"joodb_titletink\" href=\"/proyectos/index.php/proyectos-ley/periodo-legislativo-2006-2010/2006-2007/article/59-por-medio-de-la-cual-se-aprueba-el-acuerdo-sobre-los-privilegios-e-inmunidades-de-la-corte-penal-internacional-hecho-en-nueva-york-el-9-de-septiembre-de-2002\" title=\"Leer Mas...\">POR MEDIO DE LA CUAL SE APRUEBA EL \"ACUERDO SOBRE LOS PRIVILEGIOS E INMUNIDADES DE LA CORTE PENAL INTERNACIONAL\", HECHO EN NUEVA YORK EL 9 DE SEPTIEMBRE DE 2002</a>,\n",
       " <a class=\"joodb_titletink\" href=\"/proyectos/index.php/proyectos-ley/periodo-legislativo-2006-2010/2006-2007/article/60-por-el-cual-se-modifica-la-ley-546-de-1999-y-se-destinan-recursos-para-la-vivienda-de-interes-social\" title=\"Leer Mas...\">\"POR EL CUAL SE MODIFICA LA LEY 546 DE 1999 Y SE DESTINAN RECURSOS PARA LA VIVIENDA DE INTERÉS SOCIAL\"</a>,\n",
       " <a class=\"joodb_titletink\" href=\"/proyectos/index.php/proyectos-ley/periodo-legislativo-2006-2010/2006-2007/article/61-por-medio-de-la-cual-se-dictan-normas-prohibitivas-en-materia-de-importacion-y-movimiento-transfronterizo-de-residuos-peligrosos-que-modifican-los-articulo-3-y-5-de-la-ley-430-de-1998-y-se-dictan-otras-disposiciones\" title=\"Leer Mas...\">\"POR MEDIO DE LA CUAL SE DICTAN NORMAS PROHIBITIVAS EN MATERIA DE IMPORTACIÓN Y MOVIMIENTO TRANSFRONTERIZO DE RESIDUOS PELIGROSOS QUE MODIFICAN LOS ARTICULO 3 Y 5 DE LA LEY 430 DE 1998 Y SE DICTAN OTRAS DISPOSICIONES\"</a>,\n",
       " <a class=\"joodb_titletink\" href=\"/proyectos/index.php/proyectos-ley/periodo-legislativo-2006-2010/2006-2007/article/62-por-medio-de-la-cual-se-dictan-reglas-relativas-a-la-vida-util-y-reposicion-de-vehiculos-de-transporte-colectivo-de-pasajeros-y-o-mixto-de-radio-de-accion-metropolitano-distrital-o-municipal-reglas-relativas-a-la-reposicion-de-vehiculos-de-transporte-masivo-de-pasajeros-y-se-dictan-otras-disposiciones\" title=\"Leer Mas...\">\"POR MEDIO DE LA CUAL SE DICTAN REGLAS RELATIVAS A LA VIDA ÚTIL Y REPOSICIÓN DE VEHÍCULOS DE TRANSPORTE COLECTIVO DE PASAJEROS Y/O MIXTO DE RADIO DE ACCIÓN METROPOLITANO, DISTRITAL O MUNICIPAL, REGLAS RELATIVAS A LA REPOSICIÓN DE VEHÍCULOS DE TRANSPORTE MASIVO DE PASAJEROS Y SE DICTAN OTRAS DISPOSICIONES\"</a>,\n",
       " <a class=\"joodb_titletink\" href=\"/proyectos/index.php/proyectos-ley/periodo-legislativo-2006-2010/2006-2007/article/63-por-la-cual-se-expiden-normas-sobre-fabricacion-almacenamiento-transporte-comercializacion-manipulacion-y-uso-de-polvora-y-se-adiciona-el-codigo-de-policia\" title=\"Leer Mas...\">\"POR LA CUAL SE EXPIDEN NORMAS SOBRE FABRICACIÓN, ALMACENAMIENTO, TRANSPORTE, COMERCIALIZACIÓN, MANIPULACIÓN Y USO DE PÓLVORA Y SE ADICIONA EL CÓDIGO DE POLICÍA\"</a>,\n",
       " <a class=\"joodb_titletink\" href=\"/proyectos/index.php/proyectos-ley/periodo-legislativo-2006-2010/2006-2007/article/64-por-la-cual-se-establece-la-participacion-obligatoria-de-las-instituciones-educativas-publicas-y-privadas-en-los-procesos-electorales-y-se-dictan-otras-disposiciones\" title=\"Leer Mas...\">\"POR LA CUAL SE ESTABLECE LA PARTICIPACIÓN OBLIGATORIA DE LAS INSTITUCIONES EDUCATIVAS PÚBLICAS Y PRIVADAS EN LOS PROCESOS ELECTORALES Y SE DICTAN OTRAS DISPOSICIONES\"</a>,\n",
       " <a class=\"joodb_titletink\" href=\"/proyectos/index.php/proyectos-ley/periodo-legislativo-2006-2010/2006-2007/article/65-por-la-cual-se-regula-lo-atinente-a-los-requisitos-y-procedimientos-para-ingresar-al-servicio-educativo-estatal-en-las-zonas-de-dificil-acceso-poblaciones-especiales-o-areas-de-formacion-tecnicas-o-deficitarias-y-se-dictan-otras-disposiciones\" title=\"Leer Mas...\">\"POR LA CUAL SE REGULA LO ATINENTE A LOS REQUISITOS Y PROCEDIMIENTOS PARA INGRESAR AL SERVICIO EDUCATIVO ESTATAL EN LAS ZONAS DE DIFÍCIL ACCESO, POBLACIONES ESPECIALES O ÁREAS DE FORMACIÓN TÉCNICAS O DEFICITARIAS Y SE DICTAN OTRAS DISPOSICIONES\"</a>,\n",
       " <a class=\"joodb_titletink\" href=\"/proyectos/index.php/proyectos-ley/periodo-legislativo-2006-2010/2006-2007/article/66-por-la-cual-se-adiciona-la-ley-361-de-1997\" title=\"Leer Mas...\">\"POR LA CUAL SE ADICIONA LA LEY 361 DE 1997\"</a>,\n",
       " <a class=\"joodb_titletink\" href=\"/proyectos/index.php/proyectos-ley/periodo-legislativo-2006-2010/2006-2007/article/67-por-la-cual-se-promueve-la-universalizacion-de-la-afiliacion-al-sistema-de-seguridad-social-en-salud\" title=\"Leer Mas...\">\"POR LA CUAL SE PROMUEVE LA UNIVERSALIZACIÓN DE LA AFILIACIÓN AL SISTEMA DE SEGURIDAD SOCIAL EN SALUD\"</a>,\n",
       " <a class=\"joodb_titletink\" href=\"/proyectos/index.php/proyectos-ley/periodo-legislativo-2006-2010/2006-2007/article/68-por-medio-de-la-cual-se-asignan-unas-funciones-a-los-notarios\" title=\"Leer Mas...\">\"POR MEDIO DE LA CUAL SE ASIGNAN UNAS FUNCIONES A LOS NOTARIOS\"</a>,\n",
       " <a class=\"joodb_titletink\" href=\"/proyectos/index.php/proyectos-ley/periodo-legislativo-2006-2010/2006-2007/article/69-por-la-cual-se-crea-el-servicio-de-defensoria-tecnica-militar\" title=\"Leer Mas...\">\"POR LA CUAL SE CREA EL SERVICIO DE DEFENSORIA TÉCNICA MILITAR\"</a>,\n",
       " <a class=\"joodb_titletink\" href=\"/proyectos/index.php/proyectos-ley/periodo-legislativo-2006-2010/2006-2007/article/70-por-la-cual-se-regulan-los-contratos-de-adhesion-a-los-sistemas-abiertos-de-tarjetas-de-pago-y-la-tarifa-interbancaria-de-intercambio\" title=\"Leer Mas...\">\"POR LA CUAL SE REGULAN LOS CONTRATOS DE ADHESIÓN A LOS SISTEMAS ABIERTOS DE TARJETAS DE PAGO Y LA TARIFA INTERBANCARIA DE INTERCAMBIO\"</a>,\n",
       " <a class=\"joodb_titletink\" href=\"/proyectos/index.php/proyectos-ley/periodo-legislativo-2006-2010/2006-2007/article/71-por-medio-de-la-cual-se-fortalecen-las-juntas-administradoras-locales-y-se-dictan-otras-disposiciones\" title=\"Leer Mas...\">\"POR MEDIO DE LA CUAL SE FORTALECEN LAS JUNTAS ADMINISTRADORAS LOCALES Y SE DICTAN OTRAS DISPOSICIONES\"</a>,\n",
       " <a class=\"joodb_titletink\" href=\"/proyectos/index.php/proyectos-ley/periodo-legislativo-2006-2010/2006-2007/article/72-por-la-cual-la-nacion-se-vincula-a-la-celebracion-de-los-treinta-30-anos-de-existencia-juridica-de-la-universidad-de-la-guajira-y-ordena-en-su-homenaje-la-construccion-de-algunas-obras\" title=\"Leer Mas...\">\"POR LA CUAL LA NACIÓN SE VINCULA A LA CELEBRACIÓN DE LOS TREINTA (30) AÑOS DE EXISTENCIA JURÍDICA DE LA UNIVERSIDAD DE LA GUAJIRA, Y ORDENA EN SU HOMENAJE LA CONSTRUCCIÓN DE ALGUNAS OBRAS\"</a>,\n",
       " <a class=\"joodb_titletink\" href=\"/proyectos/index.php/proyectos-ley/periodo-legislativo-2006-2010/2006-2007/article/73-por-la-cual-se-crea-el-fondo-para-el-desarrollo-de-la-investigacion-la-ciencia-y-la-tecnologia-de-la-universidad-de-la-guajira\" title=\"Leer Mas...\">\"POR LA CUAL SE CREA EL FONDO PARA EL DESARROLLO DE LA INVESTIGACIÓN, LA CIENCIA Y LA TECNOLOGÍA DE LA UNIVERSIDAD DE LA GUAJIRA\"</a>,\n",
       " <a class=\"joodb_titletink\" href=\"/proyectos/index.php/proyectos-ley/periodo-legislativo-2006-2010/2006-2007/article/74-por-la-cual-se-crea-la-comision-para-los-derechos-de-las-mujeres\" title=\"Leer Mas...\">\"POR LA CUAL SE CREA LA COMISIÓN PARA LOS DERECHOS DE LAS MUJERES\"</a>,\n",
       " <a class=\"joodb_titletink\" href=\"/proyectos/index.php/proyectos-ley/periodo-legislativo-2006-2010/2006-2007/article/75-por-la-cual-se-organiza-el-concurso-de-meritos-para-la-eleccion-del-registrador-nacional-del-estado-civil-en-concordancia-con-lo-dispuesto-en-el-articulo-266-de-la-constitucion-nacional\" title=\"Leer Mas...\">\"POR LA CUAL SE ORGANIZA EL CONCURSO DE MÉRITOS PARA LA ELECCIÓN DEL REGISTRADOR NACIONAL DEL ESTADO CIVIL, EN CONCORDANCIA CON LO DISPUESTO EN EL ARTÍCULO 266 DE LA CONSTITUCIÓN NACIONAL\"</a>,\n",
       " <a class=\"joodb_titletink\" href=\"/proyectos/index.php/proyectos-ley/periodo-legislativo-2006-2010/2006-2007/article/76-por-la-cual-se-modifica-y-se-adiciona-la-ley-5a-de-1992-para-establecer-el-procedimiento-de-eleccion-de-los-miembros-del-consejo-nacional-electoral-por-parte-del-congreso\" title=\"Leer Mas...\">\"POR LA CUAL SE MODIFICA Y SE ADICIONA LA LEY 5A DE 1992 PARA ESTABLECER EL PROCEDIMIENTO DE ELECCIÓN DE LOS MIEMBROS DEL CONSEJO NACIONAL ELECTORAL POR PARTE DEL CONGRESO\"</a>,\n",
       " <a class=\"joodb_titletink\" href=\"/proyectos/index.php/proyectos-ley/periodo-legislativo-2006-2010/2006-2007/article/77-por-la-cual-se-crean-incentivos-para-la-permanencia-de-los-educandos-en-el-proceso-de-formacion-educativa\" title=\"Leer Mas...\">\"POR LA CUAL SE CREAN INCENTIVOS PARA LA PERMANENCIA DE LOS EDUCANDOS EN EL PROCESO DE FORMACIÓN EDUCATIVA\"</a>,\n",
       " <a class=\"joodb_titletink\" href=\"/proyectos/index.php/proyectos-ley/periodo-legislativo-2006-2010/2006-2007/article/78-por-medio-de-la-cual-se-modifica-el-articulo-27-de-la-ley-715-de-2001\" title=\"Leer Mas...\">\"POR MEDIO DE LA CUAL SE MODIFICA EL ARTÍCULO 27 DE LA LEY 715 DE 2001\"</a>,\n",
       " <a class=\"joodb_titletink\" href=\"/proyectos/index.php/proyectos-ley/periodo-legislativo-2006-2010/2006-2007/article/79-por-la-cual-se-reforma-el-regimen-de-pension-de-vejez-por-exposicion-a-alto-riesgo-a-que-se-refiere-la-ley-860-de-2003\" title=\"Leer Mas...\">\"POR LA CUAL SE REFORMA EL RÉGIMEN DE PENSIÓN DE VEJEZ POR EXPOSICIÓN A ALTO RIESGO A QUE SE REFIERE LA LEY 860 DE 2003\"</a>,\n",
       " <a class=\"joodb_titletink\" href=\"/proyectos/index.php/proyectos-ley/periodo-legislativo-2006-2010/2006-2007/article/80-por-la-cual-se-regula-el-hallazgo-de-bienes-por-miembros-de-la-fuerza-publica\" title=\"Leer Mas...\">\"POR LA CUAL SE REGULA EL HALLAZGO DE BIENES POR MIEMBROS DE LA FUERZA PÚBLICA\"</a>,\n",
       " <a class=\"joodb_titletink\" href=\"/proyectos/index.php/proyectos-ley/periodo-legislativo-2006-2010/2006-2007/article/81-por-medio-de-la-cual-se-reforman-parcialmente-las-leyes-906-de-2004-y-599-de-2000-y-se-adoptan-medidas-para-la-prevencion-y-represion-de-la-actividad-delictiva-de-especial-impacto-para-convivencia-y-seguridad-ciudadana\" title=\"Leer Mas...\">\"POR MEDIO DE LA CUAL SE REFORMAN PARCIALMENTE LAS LEYES 906 DE 2004 Y 599 DE 2000 Y SE ADOPTAN MEDIDAS PARA LA PREVENCIÓN Y REPRESIÓN DE LA ACTIVIDAD DELICTIVA DE ESPECIAL IMPACTO PARA CONVIVENCIA Y SEGURIDAD CIUDADANA\"</a>,\n",
       " <a class=\"joodb_titletink\" href=\"/proyectos/index.php/proyectos-ley/periodo-legislativo-2006-2010/2006-2007/article/82-por-la-cual-se-modifica-la-ley-430-de-1998-en-materia-de-residuos-peligrosos-y-se-dictan-otras-disposiciones\" title=\"Leer Mas...\">\"POR LA CUAL SE MODIFICA LA LEY 430 DE 1998, EN MATERIA DE RESIDUOS PELIGROSOS, Y SE DICTAN OTRAS DISPOSICIONES\"</a>,\n",
       " <a class=\"joodb_titletink\" href=\"/proyectos/index.php/proyectos-ley/periodo-legislativo-2006-2010/2006-2007/article/83-por-medio-del-cual-se-adicionan-algunas-normas-a-la-ley-986-de-2005-y-se-dictan-otras-disposiciones\" title=\"Leer Mas...\">\"POR MEDIO DEL CUAL SE ADICIONAN ALGUNAS NORMAS A LA LEY 986 DE 2005 Y SE DICTAN OTRAS DISPOSICIONES\"</a>,\n",
       " <a class=\"joodb_titletink\" href=\"/proyectos/index.php/proyectos-ley/periodo-legislativo-2006-2010/2006-2007/article/84-por-medio-de-la-cual-se-toman-medidas-frente-a-las-solicitudes-de-reconocimiento-de-pensiones-y-o-sustituciones-de-pensiones-de-sobrevivientes\" title=\"Leer Mas...\">\"POR MEDIO DE LA CUAL SE TOMAN MEDIDAS FRENTE A LAS SOLICITUDES DE RECONOCIMIENTO DE PENSIONES Y/O SUSTITUCIONES DE PENSIONES DE SOBREVIVIENTES\"</a>,\n",
       " <a class=\"joodb_titletink\" href=\"/proyectos/index.php/proyectos-ley/periodo-legislativo-2006-2010/2006-2007/article/85-por-medio-de-la-cual-se-adiciona-un-paragrafo-al-articulo-decimotercero-de-la-ley-797-de-2003\" title=\"Leer Mas...\">\"POR MEDIO DE LA CUAL SE ADICIONA UN PARÁGRAFO AL ARTÍCULO DECIMOTERCERO DE LA LEY 797 DE 2003\"</a>,\n",
       " <a class=\"joodb_titletink\" href=\"/proyectos/index.php/proyectos-ley/periodo-legislativo-2006-2010/2006-2007/article/86-por-medio-de-la-cual-se-crea-el-sistema-nacional-de-proteccion-a-la-mujer-en-estado-de-embarazo-y-en-el-posparto-se-establecen-los-programas-de-promocion-a-la-acogida-de-la-vida-y-se-dictan-otras-disposiciones\" title=\"Leer Mas...\">\"POR MEDIO DE LA CUAL SE CREA EL SISTEMA NACIONAL DE PROTECCIÓN A LA MUJER EN ESTADO DE EMBARAZO Y EN EL POSPARTO, SE ESTABLECEN LOS PROGRAMAS DE PROMOCIÓN A LA ACOGIDA DE LA VIDA Y SE DICTAN OTRAS DISPOSICIONES\"</a>,\n",
       " <a class=\"joodb_titletink\" href=\"/proyectos/index.php/proyectos-ley/periodo-legislativo-2006-2010/2006-2007/article/87-mediante-la-cual-se-adiciona-un-inciso-al-articulo-183-de-la-ley-115-de-1994\" title=\"Leer Mas...\">\"MEDIANTE LA CUAL SE ADICIONA UN INCISO AL ARTÍCULO 183 DE LA LEY 115 DE 1994\"</a>,\n",
       " <a class=\"joodb_titletink\" href=\"/proyectos/index.php/proyectos-ley/periodo-legislativo-2006-2010/2006-2007/article/88-por-medio-de-la-cual-se-establece-el-tratamiento-de-las-pequenas-causas-en-materia-penal\" title=\"Leer Mas...\">\"POR MEDIO DE LA CUAL SE ESTABLECE EL TRATAMIENTO DE LAS PEQUEÑAS CAUSAS EN MATERIA PENAL\"</a>,\n",
       " <a class=\"joodb_titletink\" href=\"/proyectos/index.php/proyectos-ley/periodo-legislativo-2006-2010/2006-2007/article/89-por-la-cual-se-modifica-el-inciso-1-del-articulo-27-del-decreto-numero-1421-de-1993-por-la-cual-se-dicta-el-regimen-especial-para-el-distrito-capital-de-santa-fe-de-bogota\" title=\"Leer Mas...\">\"POR LA CUAL SE MODIFICA EL INCISO 1° DEL ARTÍCULO 27 DEL DECRETO NÚMERO 1421 DE 1993 \"POR LA CUAL SE DICTA EL RÉGIMEN ESPECIAL PARA EL DISTRITO CAPITAL DE SANTA FE DE BOGOTA\"</a>,\n",
       " <a class=\"joodb_titletink\" href=\"/proyectos/index.php/proyectos-ley/periodo-legislativo-2006-2010/2006-2007/article/90-por-la-cual-se-adiciona-al-codigo-civil-colombiano-el-articulo-1604-bis-referido-al-regimen-general-de-las-clausulas-restrictivas-de-responsabilidad\" title=\"Leer Mas...\">\"POR LA CUAL SE ADICIONA AL CÓDIGO CIVIL COLOMBIANO EL ARTÍCULO 1604 BIS, REFERIDO AL RÉGIMEN GENERAL DE LAS CLÁUSULAS RESTRICTIVAS DE RESPONSABILIDAD\"</a>,\n",
       " <a class=\"joodb_titletink\" href=\"/proyectos/index.php/proyectos-ley/periodo-legislativo-2006-2010/2006-2007/article/91-por-medio-de-la-cual-se-honra-la-memoria-del-ilustre-colombiano-jose-vicente-gual-acosta-asignandole-su-nombre-a-un-inmueble-publico\" title=\"Leer Mas...\">\"POR MEDIO DE LA CUAL SE HONRA LA MEMORIA DEL ILUSTRE COLOMBIANO JOSÉ VICENTE GUAL ACOSTA, ASIGNÁNDOLE SU NOMBRE A UN INMUEBLE PÚBLICO\"</a>,\n",
       " <a class=\"joodb_titletink\" href=\"/proyectos/index.php/proyectos-ley/periodo-legislativo-2006-2010/2006-2007/article/92-por-la-cual-se-establece-el-procedimiento-sancionatorio-ambiental\" title=\"Leer Mas...\">\"POR LA CUAL SE ESTABLECE EL PROCEDIMIENTO SANCIONATORIO AMBIENTAL\"</a>,\n",
       " <a class=\"joodb_titletink\" href=\"/proyectos/index.php/proyectos-ley/periodo-legislativo-2006-2010/2006-2007/article/93-por-la-cual-se-establecen-incentivos-a-la-conservacion-y-al-uso-sostenible-de-la-diversidad-biologica\" title=\"Leer Mas...\">\"POR LA CUAL SE ESTABLECEN INCENTIVOS A LA CONSERVACIÓN Y AL USO SOSTENIBLE DE LA DIVERSIDAD BIOLÓGICA\"</a>,\n",
       " <a class=\"joodb_titletink\" href=\"/proyectos/index.php/proyectos-ley/periodo-legislativo-2006-2010/2006-2007/article/94-por-la-cual-se-crean-incentivos-al-turismo-y-se-dictan-otras-disposiciones\" title=\"Leer Mas...\">\"POR LA CUAL SE CREAN INCENTIVOS AL TURISMO Y SE DICTAN OTRAS DISPOSICIONES\"</a>,\n",
       " <a class=\"joodb_titletink\" href=\"/proyectos/index.php/proyectos-ley/periodo-legislativo-2006-2010/2006-2007/article/95-por-medio-de-la-cual-se-reglamenta-el-ejercicio-del-derecho-de-peticion-ante-organizaciones-privadas-articulo-23-de-la-constitucion-politica\" title=\"Leer Mas...\">\"POR MEDIO DE LA CUAL SE REGLAMENTA EL EJERCICIO DEL DERECHO DE PETICIÓN ANTE ORGANIZACIONES PRIVADAS. ARTÍCULO 23 DE LA CONSTITUCIÓN POLÍTICA\"</a>,\n",
       " <a class=\"joodb_titletink\" href=\"/proyectos/index.php/proyectos-ley/periodo-legislativo-2006-2010/2006-2007/article/96-por-medio-de-la-cual-se-modifica-parcialmente-la-ley-683-de-2001\" title=\"Leer Mas...\">\"POR MEDIO DE LA CUAL SE MODIFICA PARCIALMENTE LA LEY 683 DE 2001\"</a>,\n",
       " <a class=\"joodb_titletink\" href=\"/proyectos/index.php/proyectos-ley/periodo-legislativo-2006-2010/2006-2007/article/97-por-la-cual-se-desarrolla-el-numeral-6-del-articulo-136-de-la-constitucion-nacional-complementando-las-disposiciones-de-la-ley-5-de-1992\" title=\"Leer Mas...\">\"POR LA CUAL SE DESARROLLA EL NUMERAL 6 DEL ARTÍCULO 136 DE LA CONSTITUCIÓN NACIONAL, COMPLEMENTANDO LAS DISPOSICIONES DE LA LEY 5ª DE 1992\"</a>,\n",
       " <a class=\"joodb_titletink\" href=\"/proyectos/index.php/proyectos-ley/periodo-legislativo-2006-2010/2006-2007/article/98-por-la-cual-se-reforma-parcialmente-la-ley-294-de-1996-y-se-dictan-normas-para-la-promocion-integral-de-los-derechos-y-de-la-igualdad-de-la-mujer\" title=\"Leer Mas...\">\"POR LA CUAL SE REFORMA PARCIALMENTE LA LEY 294 DE 1996 Y SE DICTAN NORMAS PARA LA PROMOCIÓN INTEGRAL DE LOS DERECHOS Y DE LA IGUALDAD DE LA MUJER\"</a>,\n",
       " <a class=\"joodb_titletink\" href=\"/proyectos/index.php/proyectos-ley/periodo-legislativo-2006-2010/2006-2007/article/99-por-la-cual-se-reglamentan-los-articulos-64-65-y-66-de-la-constitucion-nacional\" title=\"Leer Mas...\">\"POR LA CUAL SE REGLAMENTAN LOS ARTÍCULOS 64, 65, Y 66 DE LA CONSTITUCIÓN NACIONAL\"</a>,\n",
       " <a class=\"joodb_titletink\" href=\"/proyectos/index.php/proyectos-ley/periodo-legislativo-2006-2010/2006-2007/article/100-terminacion-de-la-vida-de-una-forma-digna-y-humana-y-asistencia-al-suicidio-por-el-cual-se-reglamentan-las-practicas-de-la-eutanasia-y-la-asistencia-al-suicidio-en-colombia-y-se-dictan-otras-disposiciones\" title=\"Leer Mas...\">\"TERMINACIÓN DE LA VIDA DE UNA FORMA DIGNA Y HUMANA Y ASISTENCIA AL SUICIDIO, POR EL CUAL SE REGLAMENTAN LAS PRÁCTICAS DE LA EUTANASIA Y LA ASISTENCIA AL SUICIDIO EN COLOMBIA Y SE DICTAN OTRAS DISPOSICIONES\"</a>,\n",
       " <a class=\"joodb_titletink\" href=\"/proyectos/index.php/proyectos-ley/periodo-legislativo-2006-2010/2006-2007/article/101-por-la-cual-se-dictan-normas-para-la-atencion-a-las-personas-victimas-de-abuso-sexual-y-asalto-sexual\" title=\"Leer Mas...\">\"POR LA CUAL SE DICTAN NORMAS PARA LA ATENCIÓN A LAS PERSONAS VÍCTIMAS DE ABUSO SEXUAL Y ASALTO SEXUAL\"</a>,\n",
       " <a class=\"joodb_titletink\" href=\"/proyectos/index.php/proyectos-ley/periodo-legislativo-2006-2010/2006-2007/article/102-por-medio-de-la-cual-se-establece-un-proceso-especial-para-el-saneamiento-de-la-titulacion-de-la-propiedad-inmueble\" title=\"Leer Mas...\">\"POR MEDIO DE LA CUAL SE ESTABLECE UN PROCESO ESPECIAL PARA EL SANEAMIENTO DE LA TITULACIÓN DE LA PROPIEDAD INMUEBLE\"</a>,\n",
       " <a class=\"joodb_titletink\" href=\"/proyectos/index.php/proyectos-ley/periodo-legislativo-2006-2010/2006-2007/article/103-por-la-cual-se-expide-el-codigo-electoral-y-se-dictan-otras-disposiciones\" title=\"Leer Mas...\">\"POR LA CUAL SE EXPIDE EL CÓDIGO ELECTORAL Y SE DICTAN OTRAS DISPOSICIONES\"</a>,\n",
       " <a class=\"joodb_titletink\" href=\"/proyectos/index.php/proyectos-ley/periodo-legislativo-2006-2010/2006-2007/article/104-por-medio-de-la-cual-se-autoriza-la-prestacion-del-servicio-de-transporte-publico-terrestre-alternativo-y-se-dictan-otras-disposiciones\" title=\"Leer Mas...\">\"POR MEDIO DE LA CUAL SE AUTORIZA LA PRESTACIÓN DEL SERVICIO DE TRANSPORTE PÚBLICO TERRESTRE ALTERNATIVO Y SE DICTAN OTRAS DISPOSICIONES\"</a>,\n",
       " <a class=\"joodb_titletink\" href=\"/proyectos/index.php/proyectos-ley/periodo-legislativo-2006-2010/2006-2007/article/105-por-la-cual-se-desarrolla-el-articulo-131-de-la-constitucion-politica-en-cuanto-a-la-regulacion-de-la-carrera-notarial-y-la-realizacion-de-los-concursos-publicos-de-acceso-a-ella\" title=\"Leer Mas...\">\"POR LA CUAL SE DESARROLLA EL ARTÍCULO 131 DE LA CONSTITUCIÓN POLÍTICA, EN CUANTO A LA REGULACIÓN DE LA CARRERA NOTARIAL Y LA REALIZACIÓN DE LOS CONCURSOS PÚBLICOS DE ACCESO A ELLA\"</a>,\n",
       " <a class=\"joodb_titletink\" href=\"/proyectos/index.php/proyectos-ley/periodo-legislativo-2006-2010/2006-2007/article/106-por-la-cual-se-crea-el-sistema-nacional-de-informacion-y-gestion-de-residuos-snigr-se-establecen-las-politicas-publicas-para-la-formulacion-del-plan-maestro-nacional-de-manejo-integral-y-gestion-de-residuos-peligrosos-especiales-y-convencionales-se-modifican-los-decretos-1505-de-2003-1713-de-2002-y-se-dictan-otras-disposiciones\" title=\"Leer Mas...\">\"POR LA CUAL SE CREA EL SISTEMA NACIONAL DE INFORMACIÓN Y GESTIÓN DE RESIDUOS, SNIGR, SE ESTABLECEN LAS POLÍTICAS PÚBLICAS PARA LA FORMULACIÓN DEL PLAN MAESTRO NACIONAL DE MANEJO INTEGRAL Y GESTIÓN DE RESIDUOS PELIGROSOS, ESPECIALES Y CONVENCIONALES, SE MODIFICAN LOS DECRETOS 1505 DE 2003, 1713 DE 2002, Y SE DICTAN OTRAS DISPOSICIONES\"</a>,\n",
       " <a class=\"joodb_titletink\" href=\"/proyectos/index.php/proyectos-ley/periodo-legislativo-2006-2010/2006-2007/article/107-por-medio-del-cual-se-otorgan-facultades-a-los-concejos-distritales-y-o-municipales-de-las-ciudades-en-las-cuales-se-hayan-construido-sistemas-integrados-de-transporte-masivo-para-que-instituyan-un-subsidio-de-transporte-para-la-poblacion-estudiantil-de-educacion-basica-y-media-pertenecientes-a-los-estratos-i-y-ii-y-universitaria-en-general-asi-como-para-las-personas-de-la-tercera-edad-de-los-estratos-i-y-ii\" title=\"Leer Mas...\">\"POR MEDIO DEL CUAL SE OTORGAN FACULTADES A LOS CONCEJOS DISTRITALES Y/O MUNICIPALES DE LAS CIUDADES EN LAS CUALES SE HAYAN CONSTRUIDO SISTEMAS INTEGRADOS DE TRANSPORTE MASIVO, PARA QUE INSTITUYAN UN SUBSIDIO DE TRANSPORTE PARA LA POBLACIÓN ESTUDIANTIL DE EDUCACIÓN BÁSICA Y MEDIA PERTENECIENTES A LOS ESTRATOS I Y II, Y UNIVERSITARIA EN GENERAL; ASÍ COMO PARA LAS PERSONAS DE LA TERCERA EDAD DE LOS ESTRATOS I Y II\"</a>,\n",
       " <a class=\"joodb_titletink\" href=\"/proyectos/index.php/proyectos-ley/periodo-legislativo-2006-2010/2006-2007/article/108-por-medio-de-la-cual-se-modifican-las-leyes-136-de-1994-y-617-de-2000-y-se-dictan-otras-disposiciones\" title=\"Leer Mas...\">\"POR MEDIO DE LA CUAL SE MODIFICAN LAS LEYES 136 DE 1994 Y 617 DE 2000 Y SE DICTAN OTRAS DISPOSICIONES\"</a>,\n",
       " <a class=\"joodb_titletink\" href=\"/proyectos/index.php/proyectos-ley/periodo-legislativo-2006-2010/2006-2007/article/109-por-medio-de-la-cual-se-modifican-las-leyes-136-de-1994-y-617-de-2000-y-se-dictan-otras-disposiciones\" title=\"Leer Mas...\">\"POR MEDIO DE LA CUAL SE MODIFICAN LAS LEYES 136 DE 1994 Y 617 DE 2000 Y SE DICTAN OTRAS DISPOSICIONES\"</a>,\n",
       " <a class=\"joodb_titletink\" href=\"/proyectos/index.php/proyectos-ley/periodo-legislativo-2006-2010/2006-2007/article/110-por-la-cual-se-crea-la-factura-cambiaria-de-prestacion-de-servicios-de-salud\" title=\"Leer Mas...\">\"POR LA CUAL SE CREA LA FACTURA CAMBIARÍA DE PRESTACIÓN DE SERVICIOS DE SALUD\"</a>,\n",
       " <a class=\"joodb_titletink\" href=\"/proyectos/index.php/proyectos-ley/periodo-legislativo-2006-2010/2006-2007/article/111-por-la-cual-se-adiciona-un-paragrafo-2-al-articulo-2-de-la-ley-1023-de-2006-y-se-dictan-otras-disposiciones\" title=\"Leer Mas...\">\"POR LA CUAL SE ADICIONA UN PARÁGRAFO 2° AL ARTÍCULO 2° DE LA LEY 1023 DE 2006 Y SE DICTAN OTRAS DISPOSICIONES\"</a>,\n",
       " <a class=\"joodb_titletink\" href=\"/proyectos/index.php/proyectos-ley/periodo-legislativo-2006-2010/2006-2007/article/112-por-la-cual-se-expide-el-codigo-penal-militar\" title=\"Leer Mas...\">\"POR LA CUAL SE EXPIDE EL CÓDIGO PENAL MILITAR\"</a>,\n",
       " <a class=\"joodb_titletink\" href=\"/proyectos/index.php/proyectos-ley/periodo-legislativo-2006-2010/2006-2007/article/113-por-medio-de-la-cual-modifican-los-articulos-16-paragrafo-3-17-y-24-de-la-ley-105-de-1993-y-se-fortalece-e-incentiva-la-construccion-mantenimiento-y-adecuacion-de-la-red-vial-terciaria-de-la-republica-de-colombia\" title=\"Leer Mas...\">\"POR MEDIO DE LA CUAL MODIFICAN LOS ARTÍCULOS 16 PARÁGRAFO 3°, 17 Y 24 DE LA LEY 105 DE 1993 Y SE FORTALECE E INCENTIVA LA CONSTRUCCIÓN, MANTENIMIENTO Y ADECUACIÓN DE LA RED VIAL TERCIARIA DE LA REPÚBLICA DE COLOMBIA\"</a>,\n",
       " <a class=\"joodb_titletink\" href=\"/proyectos/index.php/proyectos-ley/periodo-legislativo-2006-2010/2006-2007/article/114-por-la-cual-se-modifica-la-naturaleza-juridica-de-ecopetrol-s-a-y-se-dictan-otras-disposiciones\" title=\"Leer Mas...\">\"POR LA CUAL SE MODIFICA LA NATURALEZA JURÍDICA DE ECOPETROL S. A. Y SE DICTAN OTRAS DISPOSICIONES\"</a>,\n",
       " <a class=\"joodb_titletink\" href=\"/proyectos/index.php/proyectos-ley/periodo-legislativo-2006-2010/2006-2007/article/115-por-la-cual-se-reglamenta-el-inciso-1-del-articulo-266-de-la-constitucion-politica-y-se-dictan-otras-disposiciones\" title=\"Leer Mas...\">\"POR LA CUAL SE REGLAMENTA EL INCISO 1º DEL ARTÍCULO 266 DE LA CONSTITUCIÓN POLÍTICA Y SE DICTAN OTRAS DISPOSICIONES\"</a>,\n",
       " <a class=\"joodb_titletink\" href=\"/proyectos/index.php/proyectos-ley/periodo-legislativo-2006-2010/2006-2007/article/116-por-medio-de-la-cual-se-castigan-conductas-de-hurto-calificado-hurto-de-automotores-y-partes-esenciales-y-se-reajustan-penas-para-conductas-graves-contra-el-patrimonio-economico\" title=\"Leer Mas...\">\"POR MEDIO DE LA CUAL SE CASTIGAN CONDUCTAS DE HURTO CALIFICADO, HURTO DE AUTOMOTORES Y PARTES ESENCIALES, Y SE REAJUSTAN PENAS PARA CONDUCTAS GRAVES CONTRA EL PATRIMONIO ECONÓMICO\"</a>,\n",
       " <a class=\"joodb_titletink\" href=\"/proyectos/index.php/proyectos-ley/periodo-legislativo-2006-2010/2006-2007/article/117-por-la-cual-se-introducen-modificaciones-en-el-sistema-general-de-seguridad-social-en-salud\" title=\"Leer Mas...\">\"POR LA CUAL SE INTRODUCEN MODIFICACIONES EN EL SISTEMA GENERAL DE SEGURIDAD SOCIAL EN SALUD\"</a>,\n",
       " <a class=\"joodb_titletink\" href=\"/proyectos/index.php/proyectos-ley/periodo-legislativo-2006-2010/2006-2007/article/118-por-medio-de-la-cual-se-autoriza-la-afiliacion-del-congreso-de-la-republica-al-foro-interparlamentario-de-las-americas-y-se-dictan-otras-disposiciones\" title=\"Leer Mas...\">\"POR MEDIO DE LA CUAL SE AUTORIZA LA AFILIACIÓN DEL CONGRESO DE LA REPÚBLICA AL FORO INTERPARLAMENTARIO DE LAS AMÉRICAS Y SE DICTAN OTRAS DISPOSICIONES\"</a>,\n",
       " <a class=\"joodb_titletink\" href=\"/proyectos/index.php/proyectos-ley/periodo-legislativo-2006-2010/2006-2007/article/119-por-la-cual-se-modifican-las-normas-que-regulan-el-testamento-cerrado-su-apertura-y-publicacion-y-se-dictan-otras-disposiciones\" title=\"Leer Mas...\">\"POR LA CUAL SE MODIFICAN LAS NORMAS QUE REGULAN EL TESTAMENTO CERRADO SU APERTURA Y PUBLICACIÓN Y SE DICTAN OTRAS DISPOSICIONES\"</a>,\n",
       " <a class=\"joodb_titletink\" href=\"/proyectos/index.php/proyectos-ley/periodo-legislativo-2006-2010/2006-2007/article/120-por-medio-de-la-cual-se-derogan-algunos-articulos-de-la-ley-789-del-2002\" title=\"Leer Mas...\">\"POR MEDIO DE LA CUAL SE DEROGAN ALGUNOS ARTÍCULOS DE LA LEY 789 DEL 2002\"</a>,\n",
       " <a class=\"joodb_titletink\" href=\"/proyectos/index.php/proyectos-ley/periodo-legislativo-2006-2010/2006-2007/article/121-por-medio-de-la-cual-la-nacion-se-asocia-a-la-celebracion-de-los-470-anos-de-la-villa-hispanica-del-municipio-de-tibana-departamento-de-boyaca\" title=\"Leer Mas...\">\"POR MEDIO DE LA CUAL LA NACIÓN SE ASOCIA A LA CELEBRACIÓN DE LOS 470 AÑOS DE LA VILLA HISPÁNICA DEL MUNICIPIO DE TIBANÁ, DEPARTAMENTO DE BOYACÁ\"</a>,\n",
       " <a class=\"joodb_titletink\" href=\"/proyectos/index.php/proyectos-ley/periodo-legislativo-2006-2010/2006-2007/article/122-por-medio-de-la-cual-se-establece-un-subsidio-de-transporte-para-la-poblacion-estudiantil-de-educacion-basica-y-media-pertenecientes-a-los-estratos-i-y-ii-y-universitaria-en-general-asi-como-para-las-personas-de-la-tercera-edad-de-los-estratos-i-y-ii\" title=\"Leer Mas...\">\"POR MEDIO DE LA CUAL SE ESTABLECE UN SUBSIDIO DE TRANSPORTE PARA LA POBLACIÓN ESTUDIANTIL DE EDUCACIÓN BÁSICA Y MEDIA PERTENECIENTES A LOS ESTRATOS I Y II, Y UNIVERSITARIA EN GENERAL; ASÍ COMO PARA LAS PERSONAS DE LA TERCERA EDAD DE LOS ESTRATOS I Y II\"</a>,\n",
       " <a class=\"joodb_titletink\" href=\"/proyectos/index.php/proyectos-ley/periodo-legislativo-2006-2010/2006-2007/article/123-por-la-cual-se-deroga-el-libro-segundo-y-se-reforma-el-libro-tercero-de-la-ley-100-de-1993-y-algunos-articulos-referentes-a-salud-contenidos-en-la-ley-715-de-2001-y-se-constituye-el-sistema-integral-de-salud\" title=\"Leer Mas...\">\"POR LA CUAL SE DEROGA EL LIBRO SEGUNDO Y SE REFORMA EL LIBRO TERCERO DE LA LEY 100 DE 1993 Y ALGUNOS ARTÍCULOS REFERENTES A SALUD CONTENIDOS EN LA LEY 715 DE 2001 Y SE CONSTITUYE EL SISTEMA INTEGRAL DE SALUD\"</a>,\n",
       " <a class=\"joodb_titletink\" href=\"/proyectos/index.php/proyectos-ley/periodo-legislativo-2006-2010/2006-2007/article/124-por-la-cual-se-dictan-normas-tendientes-a-procurar-la-proteccion-promocion-y-defensa-de-los-derechos-de-las-personas-mayores\" title=\"Leer Mas...\">\"POR LA CUAL SE DICTAN NORMAS TENDIENTES A PROCURAR LA PROTECCIÓN, PROMOCIÓN Y DEFENSA DE LOS DERECHOS DE LAS PERSONAS MAYORES\"</a>,\n",
       " <a class=\"joodb_titletink\" href=\"/proyectos/index.php/proyectos-ley/periodo-legislativo-2006-2010/2006-2007/article/125-por-medio-de-la-cual-se-dictan-normas-en-materia-de-vivienda-de-interes-social-y-se-dictan-otras-disposiciones\" title=\"Leer Mas...\">\"POR MEDIO DE LA CUAL SE DICTAN NORMAS EN MATERIA DE VIVIENDA DE INTERÉS SOCIAL Y SE DICTAN OTRAS DISPOSICIONES\"</a>,\n",
       " <a class=\"joodb_titletink\" href=\"/proyectos/index.php/proyectos-ley/periodo-legislativo-2006-2010/2006-2007/article/126-por-medio-de-la-cual-se-modifican-los-articulos-106-y-107-de-la-ley-769-del-2-de-agosto-de-2002-y-se-dictan-otras-disposiciones\" title=\"Leer Mas...\">\"POR MEDIO DE LA CUAL SE MODIFICAN LOS ARTÍCULOS 106 Y 107 DE LA LEY 769 DEL 2 DE AGOSTO DE 2002 Y SE DICTAN OTRAS DISPOSICIONES\"</a>,\n",
       " <a class=\"joodb_titletink\" href=\"/proyectos/index.php/proyectos-ley/periodo-legislativo-2006-2010/2006-2007/article/127-por-la-cual-se-expiden-normas-en-defensa-de-los-usuarios-de-los-servicios-publicos-domiciliarios-se-dicta-un-regimen-especial-para-los-predios-compartidos-inquilinatos-mixtos-y-de-multiusuarios-y-se-establecen-otras-disposiciones\" title=\"Leer Mas...\">\"POR LA CUAL SE EXPIDEN NORMAS EN DEFENSA DE LOS USUARIOS DE LOS SERVICIOS PÚBLICOS DOMICILIARIOS, SE DICTA UN RÉGIMEN ESPECIAL PARA LOS PREDIOS COMPARTIDOS, INQUILINATOS, MIXTOS Y DE MULTIUSUARIOS Y SE ESTABLECEN OTRAS DISPOSICIONES\"</a>,\n",
       " <a class=\"joodb_titletink\" href=\"/proyectos/index.php/proyectos-ley/periodo-legislativo-2006-2010/2006-2007/article/128-por-la-cual-se-modifica-el-articulo-164-de-la-ley-23-de-1982\" title=\"Leer Mas...\">\"POR LA CUAL SE MODIFICA EL ARTÍCULO 164 DE LA LEY 23 DE 1982\"</a>,\n",
       " <a class=\"joodb_titletink\" href=\"/proyectos/index.php/proyectos-ley/periodo-legislativo-2006-2010/2006-2007/article/129-por-la-cual-se-ordena-la-afiliacion-obligatoria-de-las-entidades-oficiales-del-orden-nacional-departamental-y-municipal-a-la-administradora-de-riesgos-profesionales-del-instituto-de-seguros-sociales\" title=\"Leer Mas...\">\"POR LA CUAL SE ORDENA LA AFILIACIÓN OBLIGATORIA DE LAS ENTIDADES OFICIALES DEL ORDEN NACIONAL, DEPARTAMENTAL Y MUNICIPAL A LA ADMINISTRADORA DE RIESGOS PROFESIONALES DEL INSTITUTO DE SEGUROS SOCIALES\"</a>,\n",
       " <a class=\"joodb_titletink\" href=\"/proyectos/index.php/proyectos-ley/periodo-legislativo-2006-2010/2006-2007/article/130-por-la-cual-se-regula-el-servicio-publico-de-transporte-terrestre-con-automotores-extranjeros-en-zonas-de-fronteras-y-se-dictan-otras-disposiciones\" title=\"Leer Mas...\">\"POR LA CUAL SE REGULA EL SERVICIO PÚBLICO DE TRANSPORTE TERRESTRE CON AUTOMOTORES EXTRANJEROS EN ZONAS DE FRONTERAS Y SE DICTAN OTRAS DISPOSICIONES\"</a>,\n",
       " <a class=\"joodb_titletink\" href=\"/proyectos/index.php/proyectos-ley/periodo-legislativo-2006-2010/2006-2007/article/131-por-medio-de-la-cual-se-modifica-la-ley-581-del-2000-que-reglamenta-la-adecuada-y-efectiva-participacion-de-la-mujer-en-los-niveles-decisorios-de-las-diferentes-ramas-y-organos-del-poder-publico-de-conformidad-con-los-articulos-13-40-y-43-de-la-constitucion-politica-nacional-y-se-dictan-otras-disposiciones\" title=\"Leer Mas...\">\"POR MEDIO DE LA CUAL SE MODIFICA LA LEY 581 DEL 2000 QUE REGLAMENTA LA ADECUADA Y EFECTIVA PARTICIPACIÓN DE LA MUJER EN LOS NIVELES DECISORIOS DE LAS DIFERENTES RAMAS Y ÓRGANOS DEL PODER PÚBLICO, DE CONFORMIDAD CON LOS ARTÍCULOS 13, 40 Y 43 DE LA CONSTITUCIÓN POLÍTICA NACIONAL Y SE DICTAN OTRAS DISPOSICIONES\"</a>,\n",
       " <a class=\"joodb_titletink\" href=\"/proyectos/index.php/proyectos-ley/periodo-legislativo-2006-2010/2006-2007/article/132-por-la-cual-la-nacion-se-asocia-a-la-conmemoracion-de-los-120-anos-de-la-honorable-corte-suprema-de-justicia-de-colombia-como-tribunal-de-casacion-y-se-dictan-otras-disposiciones\" title=\"Leer Mas...\">\"POR LA CUAL LA NACIÓN SE ASOCIA A LA CONMEMORACIÓN DE LOS 120 AÑOS DE LA HONORABLE CORTE SUPREMA DE JUSTICIA DE COLOMBIA COMO TRIBUNAL DE CASACIÓN Y SE DICTAN OTRAS DISPOSICIONES\"</a>,\n",
       " <a class=\"joodb_titletink\" href=\"/proyectos/index.php/proyectos-ley/periodo-legislativo-2006-2010/2006-2007/article/133-por-medio-de-la-cual-se-adiciona-el-articulo-2-de-la-ley-733-de-2002\" title=\"Leer Mas...\">\"POR MEDIO DE LA CUAL SE ADICIONA EL ARTÍCULO 2° DE LA LEY 733 DE 2002\"</a>,\n",
       " <a class=\"joodb_titletink\" href=\"/proyectos/index.php/proyectos-ley/periodo-legislativo-2006-2010/2006-2007/article/134-por-medio-de-la-cual-se-adiciona-el-articulo-38-de-la-ley-270-de-1996\" title=\"Leer Mas...\">\"POR MEDIO DE LA CUAL SE ADICIONA EL ARTÍCULO 38 DE LA LEY 270 DE 1996\"</a>,\n",
       " <a class=\"joodb_titletink\" href=\"/proyectos/index.php/proyectos-ley/periodo-legislativo-2006-2010/2006-2007/article/135-por-medio-de-la-cual-se-crea-el-fondo-para-el-desarrollo-del-transporte-de-carga-por-carretera-fondecarga-y-se-dictan-normas-sobre-su-recargo-y-administracion\" title=\"Leer Mas...\">\"POR MEDIO DE LA CUAL SE CREA EL FONDO PARA EL DESARROLLO DEL TRANSPORTE DE CARGA POR CARRETERA, FONDECARGA, Y SE DICTAN NORMAS SOBRE SU RECARGO Y ADMINISTRACIÓN\"</a>,\n",
       " <a class=\"joodb_titletink\" href=\"/proyectos/index.php/proyectos-ley/periodo-legislativo-2006-2010/2006-2007/article/136-por-medio-de-la-cual-se-establece-el-subsidio-de-vivienda-para-lotes-con-servicios-y-unidad-basica-y-se-dictan-otras-disposiciones\" title=\"Leer Mas...\">\"POR MEDIO DE LA CUAL SE ESTABLECE EL SUBSIDIO DE VIVIENDA PARA LOTES CON SERVICIOS Y UNIDAD BÁSICA Y SE DICTAN OTRAS DISPOSICIONES\"</a>,\n",
       " <a class=\"joodb_titletink\" href=\"/proyectos/index.php/proyectos-ley/periodo-legislativo-2006-2010/2006-2007/article/137-por-medio-de-la-cual-se-dictan-disposiciones-en-materia-salarial-y-prestacional-de-los-miembros-de-las-asambleas-departamentales\" title=\"Leer Mas...\">\"POR MEDIO DE LA CUAL SE DICTAN DISPOSICIONES EN MATERIA SALARIAL Y PRESTACIONAL DE LOS MIEMBROS DE LAS ASAMBLEAS DEPARTAMENTALES\"</a>,\n",
       " <a class=\"joodb_titletink\" href=\"/proyectos/index.php/proyectos-ley/periodo-legislativo-2006-2010/2006-2007/article/138-por-la-cual-se-modifica-el-articulo-83-de-la-ley-599-de-2000-codigo-penal\" title=\"Leer Mas...\">\"POR LA CUAL SE MODIFICA EL ARTÍCULO 83 DE LA LEY 599 DE 2000, CÓDIGO PENAL\"</a>,\n",
       " <a class=\"joodb_titletink\" href=\"/proyectos/index.php/proyectos-ley/periodo-legislativo-2006-2010/2006-2007/article/139-por-la-cual-se-reestructura-el-sistema-de-salud-de-la-fuerza-publica-se-crea-la-direccion-general-de-salud-de-la-fuerza-publica-dgsfp-se-modifica-y-establece-la-naturaleza-juridica-del-hospital-militar-central-y-del-hospital-central-de-la-policia-nacional-asi-como-de-la-red-hospitalaria-del-sistema-nacional-de-salud-de-la-fuerza-publica-y-se-dictan-otras-disposiciones-en-materia-de-seguridad-social-para-las-fuerzas-militares-y-la-policia-nacional\" title=\"Leer Mas...\">\"POR LA CUAL SE REESTRUCTURA EL SISTEMA DE SALUD DE LA FUERZA PÚBLICA, SE CREA LA DIRECCIÓN GENERAL DE SALUD DE LA FUERZA PÚBLICA (DGSFP), SE MODIFICA Y ESTABLECE LA NATURALEZA JURÍDICA DEL HOSPITAL MILITAR CENTRAL Y DEL HOSPITAL CENTRAL DE LA POLICÍA NACIONAL ASÍ COMO DE LA RED HOSPITALARIA DEL SISTEMA NACIONAL DE SALUD DE LA FUERZA PÚBLICA Y SE DICTAN OTRAS DISPOSICIONES EN MATERIA DE SEGURIDAD SOCIAL PARA LAS FUERZAS MILITARES Y LA POLICÍA NACIONAL\"</a>,\n",
       " <a class=\"joodb_titletink\" href=\"/proyectos/index.php/proyectos-ley/periodo-legislativo-2006-2010/2006-2007/article/140-por-la-cual-se-modifican-adicionan-y-se-derogan-unos-articulos-al-codigo-electoral-decreto-ley-2241-de-1986-y-se-dictan-otras-disposiciones\" title=\"Leer Mas...\">\"POR LA CUAL SE MODIFICAN, ADICIONAN Y SE DEROGAN UNOS ARTÍCULOS AL CÓDIGO ELECTORAL DECRETO-LEY 2241 DE 1986 Y SE DICTAN OTRAS DISPOSICIONES\"</a>,\n",
       " <a class=\"joodb_titletink\" href=\"/proyectos/index.php/proyectos-ley/periodo-legislativo-2006-2010/2006-2007/article/141-por-la-cual-se-expiden-normas-sobre-la-fiscalizacion-individual-la-revisoria-fiscal-la-junta-central-de-contadores-los-estados-financieros-y-otros-asuntos-relacionados\" title=\"Leer Mas...\">\"POR LA CUAL SE EXPIDEN NORMAS SOBRE LA FISCALIZACION INDIVIDUAL, LA REVISORÍA FISCAL, LA JUNTA CENTRAL DE CONTADORES, LOS ESTADOS FINANCIEROS Y OTROS ASUNTOS RELACIONADOS\"</a>,\n",
       " <a class=\"joodb_titletink\" href=\"/proyectos/index.php/proyectos-ley/periodo-legislativo-2006-2010/2006-2007/article/142-por-medio-de-la-cual-se-establece-la-naturaleza-juridica-y-caracteristicas-de-las-cooperativas-y-precooperativas-de-trabajo-asociado-y-se-dictan-otras-disposiciones\" title=\"Leer Mas...\">\"POR MEDIO DE LA CUAL SE ESTABLECE LA NATURALEZA JURÍDICA Y CARACTERÍSTICAS DE LAS COOPERATIVAS Y PRECOOPERATIVAS DE TRABAJO ASOCIADO Y SE DICTAN OTRAS DISPOSICIONES\"</a>,\n",
       " <a class=\"joodb_titletink\" href=\"/proyectos/index.php/proyectos-ley/periodo-legislativo-2006-2010/2006-2007/article/143-por-medio-de-la-cual-se-autorizan-apropiaciones-presupuestales-para-la-ejecucion-de-obras-en-el-municipio-de-el-dovio-departamento-del-valle-del-cauca-con-motivo-de-la-vinculacion-de-la-nacion-y-el-congreso-de-la-republica-al-primer-cincuentenario-de-su-fundacion\" title=\"Leer Mas...\">\"POR MEDIO DE LA CUAL SE AUTORIZAN APROPIACIONES PRESUPUESTALES PARA LA EJECUCIÓN DE OBRAS EN EL MUNICIPIO DE EL DOVIO, DEPARTAMENTO DEL VALLE DEL CAUCA, CON MOTIVO DE LA VINCULACIÓN DE LA NACIÓN Y EL CONGRESO DE LA REPÚBLICA AL PRIMER CINCUENTENARIO DE SU FUNDACIÓN\"</a>,\n",
       " <a class=\"joodb_titletink\" href=\"/proyectos/index.php/proyectos-ley/periodo-legislativo-2006-2010/2006-2007/article/144-por-la-cual-se-reforman-los-libros-segundo-y-tercero-de-la-ley-100-de-1993-y-se-hacen-algunas-modificaciones-en-el-sistema-general-de-seguridad-social-en-salud-y-se-dictan-otras-disposiciones\" title=\"Leer Mas...\">\"POR LA CUAL SE REFORMAN LOS LIBROS SEGUNDO Y TERCERO DE LA LEY 100 DE 1993 Y SE HACEN ALGUNAS MODIFICACIONES EN EL SISTEMA GENERAL DE SEGURIDAD SOCIAL EN SALUD Y SE DICTAN OTRAS DISPOSICIONES\"</a>,\n",
       " <a class=\"joodb_titletink\" href=\"/proyectos/index.php/proyectos-ley/periodo-legislativo-2006-2010/2006-2007/article/145-por-medio-de-la-cual-se-aprueba-el-convenio-de-cooperacion-tecnica-y-cientifica-entre-el-gobierno-de-la-republica-de-colombia-y-el-gobierno-de-la-republica-dominicana-suscrito-en-la-ciudad-de-bogota-d-c-colombia-a-los-tres-3-dias-del-mes-de-agosto-del-ano-dos-mil-cuatro-2004\" title=\"Leer Mas...\">\"POR MEDIO DE LA CUAL SE APRUEBA EL ¿CONVENIO DE COOPERACIÓN TÉCNICA Y CIENTÍFICA ENTRE EL GOBIERNO DE LA REPÚBLICA DE COLOMBIA Y EL GOBIERNO DE LA REPÚBLICA DOMINICANA¿, SUSCRITO EN LA CIUDAD DE BOGOTÁ, D. C., COLOMBIA, A LOS TRES (3) DÍAS DEL MES DE AGOSTO DEL AÑO DOS MIL CUATRO (2004)\"</a>,\n",
       " <a class=\"joodb_titletink\" href=\"/proyectos/index.php/proyectos-ley/periodo-legislativo-2006-2010/2006-2007/article/146-por-medio-de-la-cual-se-aprueba-el-convenio-entre-la-republica-de-colombia-y-la-confederacion-suiza-sobre-la-promocion-y-la-proteccion-reciproca-de-inversiones-y-su-protocolo-hechos-en-berna-el-17-de-mayo-de-2006\" title=\"Leer Mas...\">\"POR MEDIO DE LA CUAL SE APRUEBA EL ¿CONVENIO ENTRE LA REPÚBLICA DE COLOMBIA Y LA CONFEDERACIÓN SUIZA SOBRE LA PROMOCIÓN Y LA PROTECCIÓN RECÍPROCA DE INVERSIONES Y SU PROTOCOLO¿, HECHOS EN BERNA EL 17 DE MAYO DE 2006\"</a>,\n",
       " <a class=\"joodb_titletink\" href=\"/proyectos/index.php/proyectos-ley/periodo-legislativo-2006-2010/2006-2007/article/147-por-medio-de-la-cual-se-crean-tarifas-especiales-para-los-estudiantes-y-personas-de-la-tercera-edad-en-que-utilicen-los-servicios-publicos-de-transporte-masivo-de-pasajeros-en-colombia\" title=\"Leer Mas...\">\"POR MEDIO DE LA CUAL SE CREAN TARIFAS ESPECIALES PARA LOS ESTUDIANTES Y PERSONAS DE LA TERCERA EDAD EN QUE UTILICEN LOS SERVICIOS PÚBLICOS DE TRANSPORTE MASIVO DE PASAJEROS EN COLOMBIA\"</a>,\n",
       " <a class=\"joodb_titletink\" href=\"/proyectos/index.php/proyectos-ley/periodo-legislativo-2006-2010/2006-2007/article/148-por-medio-de-la-cual-se-modifica-el-articulo-40-del-decreto-25-de-2002-donde-se-fija-reglamentacion-sobre-portabilidad-numerica-y-se-dictan-otras-disposiciones\" title=\"Leer Mas...\">\"POR MEDIO DE LA CUAL SE MODIFICA EL ARTÍCULO 40 DEL DECRETO 25 DE 2002, DONDE SE FIJA REGLAMENTACIÓN SOBRE PORTABILIDAD NUMÉRICA, Y SE DICTAN OTRAS DISPOSICIONES\"</a>,\n",
       " <a class=\"joodb_titletink\" href=\"/proyectos/index.php/proyectos-ley/periodo-legislativo-2006-2010/2006-2007/article/149-por-medio-de-la-cual-se-redefine-el-modelo-institucional-de-regulacion-vigilancia-financiamiento-y-control-del-servicio-de-television-en-colombia-y-se-dictan-otras-disposiciones\" title=\"Leer Mas...\">\"POR MEDIO DE LA CUAL SE REDEFINE EL MODELO INSTITUCIONAL DE REGULACIÓN, VIGILANCIA, FINANCIAMIENTO Y CONTROL DEL SERVICIO DE TELEVISIÓN EN COLOMBIA Y SE DICTAN OTRAS DISPOSICIONES\"</a>,\n",
       " <a class=\"joodb_titletink\" href=\"/proyectos/index.php/proyectos-ley/periodo-legislativo-2006-2010/2006-2007/article/150-por-medio-de-la-cual-se-modifica-parcialmente-los-articulos-26-y-28-de-la-ley-99-de-1993\" title=\"Leer Mas...\">\"POR MEDIO DE LA CUAL SE MODIFICA PARCIALMENTE LOS ARTÍCULOS 26 Y 28 DE LA LEY 99 DE 1993\"</a>,\n",
       " <a class=\"joodb_titletink\" href=\"/proyectos/index.php/proyectos-ley/periodo-legislativo-2006-2010/2006-2007/article/151-por-medio-de-la-cual-la-nacion-se-asocia-a-la-celebracion-de-los-40-anos-de-actividades-academicas-de-la-institucion-educativa-urbana-san-jose-del-municipio-de-ebejico-antioquia-y-se-autorizan-unas-inversiones\" title=\"Leer Mas...\">\"POR MEDIO DE LA CUAL LA NACIÓN SE ASOCIA A LA CELEBRACIÓN DE LOS 40 AÑOS DE ACTIVIDADES ACADÉMICAS DE LA INSTITUCIÓN EDUCATIVA URBANA SAN JOSÉ DEL MUNICIPIO DE EBÉJICO, ANTIOQUIA, Y SE AUTORIZAN UNAS INVERSIONES\"</a>,\n",
       " <a class=\"joodb_titletink\" href=\"/proyectos/index.php/proyectos-ley/periodo-legislativo-2006-2010/2006-2007/article/152-por-medio-de-la-cual-la-nacion-rinde-homenaje-y-exalta-la-vida-publica-de-don-marco-fidel-suarez-presidente-de-la-republica-se-asocia-a-la-celebracion-de-los-150-anos-del-natalicio-del-ilustre-escritor-y-se-autorizan-apropiaciones-presupuestales-para-proyectos-de-interes-social\" title=\"Leer Mas...\">\"POR MEDIO DE LA CUAL LA NACIÓN RINDE HOMENAJE Y EXALTA LA VIDA PÚBLICA DE DON MARCO FIDEL SUÁREZ, PRESIDENTE DE LA REPÚBLICA, SE ASOCIA A LA CELEBRACIÓN DE LOS 150 AÑOS DEL NATALICIO DEL ILUSTRE ESCRITOR Y SE AUTORIZAN APROPIACIONES PRESUPUESTALES PARA PROYECTOS DE INTERÉS SOCIAL\"</a>,\n",
       " <a class=\"joodb_titletink\" href=\"/proyectos/index.php/proyectos-ley/periodo-legislativo-2006-2010/2006-2007/article/153-por-la-cual-se-desarrolla-el-articulo-72-de-la-constitucion-politica-de-colombia-en-lo-referente-a-la-readquisicion-de-bienes-pertenecientes-al-patrimonio-arqueologico-de-la-nacion\" title=\"Leer Mas...\">\"POR LA CUAL SE DESARROLLA EL ARTÍCULO 72 DE LA CONSTITUCIÓN POLÍTICA DE COLOMBIA, EN LO REFERENTE A LA READQUISICIÓN DE BIENES PERTENECIENTES AL PATRIMONIO ARQUEOLÓGICO DE LA NACIÓN\"</a>,\n",
       " <a class=\"joodb_titletink\" href=\"/proyectos/index.php/proyectos-ley/periodo-legislativo-2006-2010/2006-2007/article/154-por-la-cual-se-reglamenta-la-responsabilidad-social-de-las-empresas-y-se-dictan-otras-disposiciones\" title=\"Leer Mas...\">\"POR LA CUAL SE REGLAMENTA LA RESPONSABILIDAD SOCIAL DE LAS EMPRESAS, Y SE DICTAN OTRAS DISPOSICIONES\"</a>,\n",
       " <a class=\"joodb_titletink\" href=\"/proyectos/index.php/proyectos-ley/periodo-legislativo-2006-2010/2006-2007/article/155-por-medio-del-cual-se-reglamenta-el-desarrollo-de-la-vivienda-de-interes-social-urbana-la-adjudicacion-de-subsidios-y-se-dictan-otras-disposiciones\" title=\"Leer Mas...\">\"POR MEDIO DEL CUAL SE REGLAMENTA EL DESARROLLO DE LA VIVIENDA DE INTERÉS SOCIAL URBANA, LA ADJUDICACIÓN DE SUBSIDIOS Y SE DICTAN OTRAS DISPOSICIONES\"</a>,\n",
       " <a class=\"joodb_titletink\" href=\"/proyectos/index.php/proyectos-ley/periodo-legislativo-2006-2010/2006-2007/article/156-por-la-cual-se-crea-la-figura-del-portavoz-del-gobierno\" title=\"Leer Mas...\">\"POR LA CUAL SE CREA LA FIGURA DEL PORTAVOZ DEL GOBIERNO\"</a>,\n",
       " <a class=\"joodb_titletink\" href=\"/proyectos/index.php/proyectos-ley/periodo-legislativo-2006-2010/2006-2007/article/157-por-medio-de-la-cual-se-declara-monumento-nacional-al-templo-de-nuestra-senora-del-rosario-del-municipio-de-rio-de-oro-departamento-del-cesar-y-se-dictan-otras-disposiciones\" title=\"Leer Mas...\">\"POR MEDIO DE LA CUAL SE DECLARA MONUMENTO NACIONAL AL TEMPLO DE NUESTRA SEÑORA DEL ROSARIO DEL MUNICIPIO DE RÍO DE ORO, DEPARTAMENTO DEL CESAR Y SE DICTAN OTRAS DISPOSICIONES\"</a>,\n",
       " <a class=\"joodb_titletink\" href=\"/proyectos/index.php/proyectos-ley/periodo-legislativo-2006-2010/2006-2007/article/158-por-medio-del-cual-se-reforma-la-ley-142-de-1994-se-elimina-el-cargo-fijo-de-la-estructura-tarifaria-de-los-servicios-publicos-domiciliarios\" title=\"Leer Mas...\">\"POR MEDIO DEL CUAL SE REFORMA LA LEY 142 DE 1994, SE ELIMINA EL CARGO FIJO DE LA ESTRUCTURA TARIFARIA DE LOS SERVICIOS PÚBLICOS DOMICILIARIOS\"</a>,\n",
       " <a class=\"joodb_titletink\" href=\"/proyectos/index.php/proyectos-ley/periodo-legislativo-2006-2010/2006-2007/article/159-por-la-cual-se-adiciona-un-literal-al-articulo-91-de-la-ley-136-de-1994\" title=\"Leer Mas...\">\"POR LA CUAL SE ADICIONA UN LITERAL AL ARTÍCULO 91 DE LA LEY 136 DE 1994\"</a>,\n",
       " <a class=\"joodb_titletink\" href=\"/proyectos/index.php/proyectos-ley/periodo-legislativo-2006-2010/2006-2007/article/160-por-la-cual-se-adiciona-un-inciso-al-articulo-454-del-codigo-penal-y-un-5-inciso-al-articulo-235-del-codigo-de-procedimiento-penal\" title=\"Leer Mas...\">\"POR LA CUAL SE ADICIONA UN INCISO AL ARTÍCULO 454 DEL CÓDIGO PENAL Y UN 5° INCISO AL ARTÍCULO 235 DEL CÓDIGO DE PROCEDIMIENTO PENAL\"</a>,\n",
       " <a class=\"joodb_titletink\" href=\"/proyectos/index.php/proyectos-ley/periodo-legislativo-2006-2010/2006-2007/article/161-por-medio-de-la-cual-se-dictan-disposiciones-en-materia-de-catastro-y-se-crea-el-sistema-de-informacion-catastral\" title=\"Leer Mas...\">\"POR MEDIO DE LA CUAL SE DICTAN DISPOSICIONES EN MATERIA DE CATASTRO Y SE CREA EL SISTEMA DE INFORMACIÓN CATASTRAL\"</a>,\n",
       " <a class=\"joodb_titletink\" href=\"/proyectos/index.php/proyectos-ley/periodo-legislativo-2006-2010/2006-2007/article/162-por-la-cual-se-establece-el-marco-regulatorio-de-la-actividad-postal-en-colombia-y-se-dictan-otras-disposiciones\" title=\"Leer Mas...\">\"POR LA CUAL SE ESTABLECE EL MARCO REGULATORIO DE LA ACTIVIDAD POSTAL EN COLOMBIA Y SE DICTAN OTRAS DISPOSICIONES\"</a>,\n",
       " <a class=\"joodb_titletink\" href=\"/proyectos/index.php/proyectos-ley/periodo-legislativo-2006-2010/2006-2007/article/163-por-la-cual-se-establece-una-faja-de-retiro-obligatorio-o-area-de-exclusion-en-las-carreteras-troncales-nacionales-y-variantes-de-las-ciudades-pueblos-y-caserios-se-prohibe-la-construccion-y-edificacion-en-las-zonas-adyacentes-y-se-dictan-otras-disposiciones\" title=\"Leer Mas...\">\"POR LA CUAL SE ESTABLECE UNA FAJA DE RETIRO OBLIGATORIO O AREA DE EXCLUSIÓN, EN LAS CARRETERAS TRONCALES NACIONALES Y VARIANTES DE LAS CIUDADES, PUEBLOS Y CASERÍOS; SE PROHÍBE LA CONSTRUCCIÓN Y EDIFICACIÓN EN LAS ZONAS ADYACENTES Y SE DICTAN OTRAS DISPOSICIONES\"</a>,\n",
       " <a class=\"joodb_titletink\" href=\"/proyectos/index.php/proyectos-ley/periodo-legislativo-2006-2010/2006-2007/article/164-por-medio-de-la-cual-se-expiden-normas-para-la-reserva-y-el-secreto-profesional-en-inteligencia-y-contrainteligencia-se-establecen-mecanismos-para-la-proteccion-a-los-servidores-publicos-que-realizan-estas-actividades-y-se-dictan-otras-disposiciones\" title=\"Leer Mas...\">\"POR MEDIO DE LA CUAL SE EXPIDEN NORMAS PARA LA RESERVA Y EL SECRETO PROFESIONAL EN INTELIGENCIA Y CONTRAINTELIGENCIA, SE ESTABLECEN MECANISMOS PARA LA PROTECCIÓN A LOS SERVIDORES PÚBLICOS QUE REALIZAN ESTAS ACTIVIDADES Y SE DICTAN OTRAS DISPOSICIONES\"</a>,\n",
       " <a class=\"joodb_titletink\" href=\"/proyectos/index.php/proyectos-ley/periodo-legislativo-2006-2010/2006-2007/article/165-por-medio-de-la-cual-se-expiden-normas-sobre-normalizacion-de-redes-electricas-y-de-subsidios-para-estratos-1-y-2\" title=\"Leer Mas...\">\"POR MEDIO DE LA CUAL SE EXPIDEN NORMAS SOBRE NORMALIZACIÓN DE REDES ELÉCTRICAS Y DE SUBSIDIOS PARA ESTRATOS 1 Y 2\"</a>,\n",
       " <a class=\"joodb_titletink\" href=\"/proyectos/index.php/proyectos-ley/periodo-legislativo-2006-2010/2006-2007/article/166-por-medio-de-la-cual-se-establece-una-bonificacion-especial-para-el-personal-de-la-policia-nacional-que-labora-en-el-congreso-de-la-republica\" title=\"Leer Mas...\">\"POR MEDIO DE LA CUAL SE ESTABLECE UNA BONIFICACIÓN ESPECIAL PARA EL PERSONAL DE LA POLICÍA NACIONAL QUE LABORA EN EL CONGRESO DE LA REPÚBLICA\"</a>,\n",
       " <a class=\"joodb_titletink\" href=\"/proyectos/index.php/proyectos-ley/periodo-legislativo-2006-2010/2006-2007/article/167-por-medio-de-la-cual-se-expide-el-estatuto-general-de-los-curadores-urbanos-y-se-adoptan-otras-disposiciones-en-materia-urbanistica\" title=\"Leer Mas...\">\"POR MEDIO DE LA CUAL SE EXPIDE EL ESTATUTO GENERAL DE LOS CURADORES URBANOS Y SE ADOPTAN OTRAS DISPOSICIONES EN MATERIA URBANÍSTICA\"</a>,\n",
       " <a class=\"joodb_titletink\" href=\"/proyectos/index.php/proyectos-ley/periodo-legislativo-2006-2010/2006-2007/article/168-por-medio-de-la-cual-la-nacion-se-asocia-a-la-celebracion-de-los-100-anos-del-municipio-de-alejandria-en-el-departamento-de-antioquia\" title=\"Leer Mas...\">\"POR MEDIO DE LA CUAL LA NACIÓN SE ASOCIA A LA CELEBRACIÓN DE LOS 100 AÑOS DEL MUNICIPIO DE ALEJANDRÍA EN EL DEPARTAMENTO DE ANTIOQUIA\"</a>,\n",
       " <a class=\"joodb_titletink\" href=\"/proyectos/index.php/proyectos-ley/periodo-legislativo-2006-2010/2006-2007/article/169-por-la-cual-la-nacion-se-asocia-a-la-celebracion-de-los-treinta-anos-de-actividades-academicas-de-la-universidad-de-la-guajira-y-se-dictan-otras-disposiciones\" title=\"Leer Mas...\">\"POR LA CUAL LA NACIÓN SE ASOCIA A LA CELEBRACIÓN DE LOS TREINTA AÑOS DE ACTIVIDADES ACADÉMICAS DE LA UNIVERSIDAD DE LA GUAJIRA, Y SE DICTAN OTRAS DISPOSICIONES\"</a>,\n",
       " <a class=\"joodb_titletink\" href=\"/proyectos/index.php/proyectos-ley/periodo-legislativo-2006-2010/2006-2007/article/170-por-la-cual-se-adiciona-un-paragrafo-al-articulo-4-de-la-ley-232-de-1995-y-se-dictan-otras-disposiciones\" title=\"Leer Mas...\">\"POR LA CUAL SE ADICIONA UN PARÁGRAFO AL ARTÍCULO 4° DE LA LEY 232 DE 1995 Y SE DICTAN OTRAS DISPOSICIONES\"</a>,\n",
       " <a class=\"joodb_titletink\" href=\"/proyectos/index.php/proyectos-ley/periodo-legislativo-2006-2010/2006-2007/article/171-por-la-cual-se-establecen-normas-para-promover-el-teletrabajo-y-se-dictan-otras-disposiciones\" title=\"Leer Mas...\">\"POR LA CUAL SE ESTABLECEN NORMAS PARA PROMOVER EL TELETRABAJO Y SE DICTAN OTRAS DISPOSICIONES\"</a>,\n",
       " <a class=\"joodb_titletink\" href=\"/proyectos/index.php/proyectos-ley/periodo-legislativo-2006-2010/2006-2007/article/172-por-la-cual-se-dictan-normas-para-prevenir-erradicar-y-sancionar-toda-forma-de-violencia-contra-las-mujeres-se-reforman-los-codigos-penal-de-procedimiento-penal-la-ley-294-de-1996-y-se-dictan-otras-disposiciones\" title=\"Leer Mas...\">\"POR LA CUAL SE DICTAN NORMAS PARA PREVENIR, ERRADICAR Y SANCIONAR TODA FORMA DE VIOLENCIA CONTRA LAS MUJERES, SE REFORMAN LOS CÓDIGOS PENAL, DE PROCEDIMIENTO PENAL, LA LEY 294 DE 1996 Y SE DICTAN OTRAS DISPOSICIONES\"</a>,\n",
       " <a class=\"joodb_titletink\" href=\"/proyectos/index.php/proyectos-ley/periodo-legislativo-2006-2010/2006-2007/article/173-por-medio-de-la-cual-se-promueven-fomentan-las-manifestaciones-y-expresiones-artisticas-de-la-poblacion-con-algun-tipo-de-limitacion-fisica-psiquica-y-sensorial\" title=\"Leer Mas...\">\"POR MEDIO DE LA CUAL SE PROMUEVEN, FOMENTAN LAS MANIFESTACIONES Y EXPRESIONES ARTÍSTICAS DE LA POBLACIÓN CON ALGÚN TIPO DE LIMITACIÓN FÍSICA, PSÍQUICA Y SENSORIAL\"</a>,\n",
       " <a class=\"joodb_titletink\" href=\"/proyectos/index.php/proyectos-ley/periodo-legislativo-2006-2010/2006-2007/article/174-por-medio-de-la-cual-se-declara-el-2007-el-ano-de-la-promocion-el-cumplimiento-y-el-restablecimiento-de-los-derechos-de-la-personas-desplazadas-por-la-violencia-y-se-dictan-otras-disposiciones\" title=\"Leer Mas...\">\"POR MEDIO DE LA CUAL SE DECLARA EL 2007 EL AÑO DE LA PROMOCIÓN, EL CUMPLIMIENTO Y EL RESTABLECIMIENTO DE LOS DERECHOS DE LA PERSONAS DESPLAZADAS POR LA VIOLENCIA Y SE DICTAN OTRAS DISPOSICIONES\"</a>,\n",
       " <a class=\"joodb_titletink\" href=\"/proyectos/index.php/proyectos-ley/periodo-legislativo-2006-2010/2006-2007/article/175-por-medio-de-la-cual-se-crea-e-implementa-el-programa-agro-ingreso-seguro-ais\" title=\"Leer Mas...\">\"POR MEDIO DE LA CUAL SE CREA E IMPLEMENTA EL PROGRAMA AGRO INGRESO SEGURO, AIS\"</a>,\n",
       " <a class=\"joodb_titletink\" href=\"/proyectos/index.php/proyectos-ley/periodo-legislativo-2006-2010/2006-2007/article/176-por-la-cual-se-crea-el-programa-de-escuelas-para-la-democracia-y-se-dictan-otras-disposiciones\" title=\"Leer Mas...\">\"POR LA CUAL SE CREA EL PROGRAMA DE ESCUELAS PARA LA DEMOCRACIA Y SE DICTAN OTRAS DISPOSICIONES\"</a>,\n",
       " <a class=\"joodb_titletink\" href=\"/proyectos/index.php/proyectos-ley/periodo-legislativo-2006-2010/2006-2007/article/177-por-la-cual-se-aumentan-las-penas-para-los-delitos-contra-la-salud-publica-de-que-trata-el-titulo-xii-capitulo-i-del-codigo-penal\" title=\"Leer Mas...\">\"POR LA CUAL SE AUMENTAN LAS PENAS PARA LOS DELITOS CONTRA LA SALUD PÚBLICA, DE QUE TRATA EL TÍTULO XII, CAPÍTULO I, DEL CÓDIGO PENAL\"</a>,\n",
       " <a class=\"joodb_titletink\" href=\"/proyectos/index.php/proyectos-ley/periodo-legislativo-2006-2010/2006-2007/article/178-por-medio-de-la-cual-se-establece-el-programa-de-las-casas-de-la-productividad-comunitaria-y-se-dictan-otras-disposiciones\" title=\"Leer Mas...\">\"POR MEDIO DE LA CUAL SE ESTABLECE EL PROGRAMA DE LAS CASAS DE LA PRODUCTIVIDAD COMUNITARIA Y SE DICTAN OTRAS DISPOSICIONES\"</a>,\n",
       " <a class=\"joodb_titletink\" href=\"/proyectos/index.php/proyectos-ley/periodo-legislativo-2006-2010/2006-2007/article/179-por-medio-de-la-cual-se-aprueba-el-acuerdo-de-promocion-comercial-entre-la-republica-de-colombia-y-los-estados-unidos-de-america-sus-cartas-adjuntas-y-sus-entendimientos-suscritos-en-washington-el-22-de-noviembre-de-2006\" title=\"Leer Mas...\">\"POR MEDIO DE LA CUAL SE APRUEBA EL \"ACUERDO DE PROMOCIÓN COMERCIAL ENTRE LA REPÚBLICA DE COLOMBIA Y LOS ESTADOS UNIDOS DE AMÉRICA\", SUS \"CARTAS ADJUNTAS\" Y SUS \"ENTENDIMIENTOS\", SUSCRITOS EN WASHINGTON EL 22 DE NOVIEMBRE DE 2006\"</a>,\n",
       " <a class=\"joodb_titletink\" href=\"/proyectos/index.php/proyectos-ley/periodo-legislativo-2006-2010/2006-2007/article/180-por-la-cual-se-rinde-homenaje-a-la-memoria-del-politico-intelectual-profesor-e-investigador-social-gerardo-molina-en-el-centenario-de-su-nacimiento-y-se-ordena-en-reconocimiento-a-su-vida-y-obra-la-publicacion-de-sus-textos-y-otras-disposiciones\" title=\"Leer Mas...\">\"POR LA CUAL SE RINDE HOMENAJE A LA MEMORIA DEL POLÍTICO, INTELECTUAL, PROFESOR E INVESTIGADOR SOCIAL, GERARDO MOLINA EN EL CENTENARIO DE SU NACIMIENTO Y SE ORDENA, EN RECONOCIMIENTO A SU VIDA Y OBRA, LA PUBLICACIÓN DE SUS TEXTOS Y OTRAS DISPOSICIONES\"</a>,\n",
       " <a class=\"joodb_titletink\" href=\"/proyectos/index.php/proyectos-ley/periodo-legislativo-2006-2010/2006-2007/article/181-por-medio-de-la-cual-se-implementa-la-jornada-nocturna-en-las-universidades-publicas\" title=\"Leer Mas...\">\"POR MEDIO DE LA CUAL SE IMPLEMENTA LA JORNADA NOCTURNA EN LAS UNIVERSIDADES PÚBLICAS\"</a>,\n",
       " <a class=\"joodb_titletink\" href=\"/proyectos/index.php/proyectos-ley/periodo-legislativo-2006-2010/2006-2007/article/182-por-medio-de-la-cual-se-establece-la-naturaleza-y-caracteristicas-de-las-cooperativas-y-pre-cooperativas-de-trabajo-asociado-y-se-dictan-otras-disposiciones\" title=\"Leer Mas...\">\"POR MEDIO DE LA CUAL SE ESTABLECE LA NATURALEZA Y CARACTERÍSTICAS DE LAS COOPERATIVAS Y PRE COOPERATIVAS DE TRABAJO ASOCIADO Y SE DICTAN OTRAS DISPOSICIONES\"</a>,\n",
       " <a class=\"joodb_titletink\" href=\"/proyectos/index.php/proyectos-ley/periodo-legislativo-2006-2010/2006-2007/article/183-por-la-cual-se-modifica-el-articulo-315-del-codigo-civil-relativo-a-la-emancipacion-judicial\" title=\"Leer Mas...\">\"POR LA CUAL SE MODIFICA EL ARTÍCULO 315 DEL CÓDIGO CIVIL, RELATIVO A LA EMANCIPACIÓN JUDICIAL\"</a>,\n",
       " <a class=\"joodb_titletink\" href=\"/proyectos/index.php/proyectos-ley/periodo-legislativo-2006-2010/2006-2007/article/184-por-medio-de-la-cual-se-reforman-parcialmente-los-articulos-80-81-85-y-86-del-decreto-410-de-1971-codigo-del-comercio\" title=\"Leer Mas...\">\"POR MEDIO DE LA CUAL SE REFORMAN PARCIALMENTE LOS ARTÍCULOS 80, 81, 85 Y 86 DEL DECRETO 410 DE 1971 (CÓDIGO DEL COMERCIO)\"</a>,\n",
       " <a class=\"joodb_titletink\" href=\"/proyectos/index.php/proyectos-ley/periodo-legislativo-2006-2010/2006-2007/article/185-por-la-cual-se-desarrolla-el-articulo-53-de-la-constitucion-politica-y-se-expide-el-estatuto-del-trabajo\" title=\"Leer Mas...\">\"POR LA CUAL SE DESARROLLA EL ARTÍCULO 53 DE LA CONSTITUCIÓN POLÍTICA Y SE EXPIDE EL ESTATUTO DEL TRABAJO\"</a>,\n",
       " <a class=\"joodb_titletink\" href=\"/proyectos/index.php/proyectos-ley/periodo-legislativo-2006-2010/2006-2007/article/186-por-medio-de-la-cual-se-aprueba-el-estatuto-migratorio-permanente-entre-colombia-y-ecuador-firmado-en-bogota-el-veinticuatro-24-de-agosto-de-dos-mil-2000\" title=\"Leer Mas...\">\"POR MEDIO DE LA CUAL SE APRUEBA EL \"ESTATUTO MIGRATORIO PERMANENTE\" ENTRE COLOMBIA Y ECUADOR, FIRMADO EN BOGOTÁ, EL VEINTICUATRO (24) DE AGOSTO DE DOS MIL (2000)\"</a>,\n",
       " <a class=\"joodb_titletink\" href=\"/proyectos/index.php/proyectos-ley/periodo-legislativo-2006-2010/2006-2007/article/187-por-medio-de-la-cual-se-aprueba-el-acuerdo-de-cooperacion-para-la-promocion-de-la-ciencia-y-la-tecnologia-nucleares-en-america-latina-y-el-caribe-hecho-en-viena-a-los-veinticinco-25-dias-del-mes-de-septiembre-de-mil-novecientos-noventa-y-ocho-1998\" title=\"Leer Mas...\">\"POR MEDIO DE LA CUAL SE APRUEBA EL \"ACUERDO DE COOPERACIÓN PARA LA PROMOCIÓN DE LA CIENCIA Y LA TECNOLOGÍA NUCLEARES EN AMÉRICA LATINA Y EL CARIBE\", HECHO EN VIENA A LOS VEINTICINCO (25) DÍAS DEL MES DE SEPTIEMBRE DE MIL NOVECIENTOS NOVENTA Y OCHO (1998)\"</a>,\n",
       " <a class=\"joodb_titletink\" href=\"/proyectos/index.php/proyectos-ley/periodo-legislativo-2006-2010/2006-2007/article/188-por-medio-de-la-cual-se-aprueba-el-acuerdo-de-libre-comercio-entre-la-republica-de-colombia-y-la-republica-de-chile-protocolo-adicional-al-acuerdo-de-complementacion-economica-para-el-establecimiento-de-un-espacio-economico-ampliado-entre-colombia-y-chile-ace-24-del-6-de-diciembre-de-1993-suscrito-en-santiago-chile-el-27-de-noviembre-de-2006\" title=\"Leer Mas...\">\"POR MEDIO DE LA CUAL SE APRUEBA EL \"ACUERDO DE LIBRE COMERCIO ENTRE LA REPÚBLICA DE COLOMBIA Y LA REPÚBLICA DE CHILE - PROTOCOLO ADICIONAL AL ACUERDO DE COMPLEMENTACIÓN ECONÓMICA PARA EL ESTABLECIMIENTO DE UN ESPACIO ECONÓMICO AMPLIADO ENTRE COLOMBIA Y CHILE (ACE 24) DEL 6 DE DICIEMBRE DE 1993\", SUSCRITO EN SANTIAGO, CHILE, EL 27 DE NOVIEMBRE DE 2006\"</a>,\n",
       " <a class=\"joodb_titletink\" href=\"/proyectos/index.php/proyectos-ley/periodo-legislativo-2006-2010/2006-2007/article/189-por-medio-de-la-cual-se-modifica-la-ley-664-de-julio-30-de-2001\" title=\"Leer Mas...\">\"POR MEDIO DE LA CUAL SE MODIFICA LA LEY 664 DE JULIO 30 DE 2001\"</a>,\n",
       " <a class=\"joodb_titletink\" href=\"/proyectos/index.php/proyectos-ley/periodo-legislativo-2006-2010/2006-2007/article/190-por-medio-de-la-cual-se-autoriza-a-la-asamblea-departamental-del-vaupes-para-emitir-la-estampilla-pro-salud-vaupes\" title=\"Leer Mas...\">\"POR MEDIO DE LA CUAL SE AUTORIZA A LA ASAMBLEA DEPARTAMENTAL DEL VAUPÉS PARA EMITIR LA ESTAMPILLA PRO-SALUD VAUPÉS\"</a>,\n",
       " <a class=\"joodb_titletink\" href=\"/proyectos/index.php/proyectos-ley/periodo-legislativo-2006-2010/2006-2007/article/191-por-la-cual-se-autoriza-la-emision-de-la-estampilla-pro-desarrollo-academico-cientifico-y-tecnico-de-la-universidad-publica-del-norte-de-santander-y-se-dictan-otras-disposiciones\" title=\"Leer Mas...\">\"POR LA CUAL SE AUTORIZA LA EMISIÓN DE LA ESTAMPILLA PRO DESARROLLO ACADÉMICO, CIENTÍFICO Y TÉCNICO DE LA UNIVERSIDAD PÚBLICA DEL NORTE DE SANTANDER Y SE DICTAN OTRAS DISPOSICIONES\"</a>,\n",
       " <a class=\"joodb_titletink\" href=\"/proyectos/index.php/proyectos-ley/periodo-legislativo-2006-2010/2006-2007/article/192-por-la-cual-se-modifica-la-ley-551-de-diciembre-30-de-1999\" title=\"Leer Mas...\">\"POR LA CUAL SE MODIFICA LA LEY 551 DE DICIEMBRE 30 DE 1999\"</a>,\n",
       " <a class=\"joodb_titletink\" href=\"/proyectos/index.php/proyectos-ley/periodo-legislativo-2006-2010/2006-2007/article/193-por-la-cual-se-autoriza-a-la-asamblea-departamental-del-meta-para-ordenar-la-emision-de-la-estampilla-universidad-de-los-llanos-32-anos-construyendo-orinoquia-y-se-dictan-otras-disposiciones\" title=\"Leer Mas...\">\" POR LA CUAL SE AUTORIZA A LA ASAMBLEA DEPARTAMENTAL DEL META PARA ORDENAR LA EMISIÓN DE LA ESTAMPILLA UNIVERSIDAD DE LOS LLANOS 32 AÑOS CONSTRUYENDO ORINOQUIA Y SE DICTAN OTRAS DISPOSICIONES\"</a>,\n",
       " <a class=\"joodb_titletink\" href=\"/proyectos/index.php/proyectos-ley/periodo-legislativo-2006-2010/2006-2007/article/194-por-medio-de-la-cual-se-modifica-el-articulo-4-de-la-ley-30-de-1971-y-se-dictan-otras-disposiciones\" title=\"Leer Mas...\">\"POR MEDIO DE LA CUAL SE MODIFICA EL ARTÍCULO 4º DE LA LEY 30 DE 1971 Y SE DICTAN OTRAS DISPOSICIONES\"</a>,\n",
       " <a class=\"joodb_titletink\" href=\"/proyectos/index.php/proyectos-ley/periodo-legislativo-2006-2010/2006-2007/article/195-por-la-cual-se-declara-el-6-de-enero-dia-nacional-de-la-musica-vallenata\" title=\"Leer Mas...\">\"POR LA CUAL SE DECLARA EL 6 DE ENERO DÍA NACIONAL DE LA MÚSICA VALLENATA\"</a>,\n",
       " <a class=\"joodb_titletink\" href=\"/proyectos/index.php/proyectos-ley/periodo-legislativo-2006-2010/2006-2007/article/196-por-medio-de-la-cual-se-crea-la-estampilla-pro-desarrollo-de-la-universidad-de-cundinamarca-udec-y-se-dictan-otras-proposiciones\" title=\"Leer Mas...\">\" POR MEDIO DE LA CUAL SE CREA LA ESTAMPILLA PRO-DESARROLLO DE LA UNIVERSIDAD DE CUNDINAMARCA, UDEC, Y SE DICTAN OTRAS PROPOSICIONES\"</a>,\n",
       " <a class=\"joodb_titletink\" href=\"/proyectos/index.php/proyectos-ley/periodo-legislativo-2006-2010/2006-2007/article/197-por-la-cual-se-desarrolla-el-articulo-53-de-la-constitucion-politica-y-se-dictan-otras-disposiciones\" title=\"Leer Mas...\">\"POR LA CUAL SE DESARROLLA EL ARTÍCULO 53 DE LA CONSTITUCIÓN POLÍTICA, Y SE DICTAN OTRAS DISPOSICIONES\"</a>,\n",
       " <a class=\"joodb_titletink\" href=\"/proyectos/index.php/proyectos-ley/periodo-legislativo-2006-2010/2006-2007/article/198-por-la-cual-se-establecen-normas-sobre-territorio-costero-en-colombia-y-se-dictan-otras-disposiciones\" title=\"Leer Mas...\">\"POR LA CUAL SE ESTABLECEN NORMAS SOBRE TERRITORIO COSTERO EN COLOMBIA Y SE DICTAN OTRAS DISPOSICIONES\"</a>,\n",
       " <a class=\"joodb_titletink\" href=\"/proyectos/index.php/proyectos-ley/periodo-legislativo-2006-2010/2006-2007/article/199-por-medio-de-la-cual-se-dictan-normas-para-la-regulacion-y-modernizacion-de-las-sociedades-de-mejoras-publicas\" title=\"Leer Mas...\">\"POR MEDIO DE LA CUAL SE DICTAN NORMAS PARA LA REGULACIÓN Y MODERNIZACIÓN DE LAS SOCIEDADES DE MEJORAS PÚBLICAS\"</a>,\n",
       " <a class=\"joodb_titletink\" href=\"/proyectos/index.php/proyectos-ley/periodo-legislativo-2006-2010/2006-2007/article/200-por-la-cual-se-expide-el-plan-nacional-de-desarrollo-2006-2010\" title=\"Leer Mas...\">\"POR LA CUAL SE EXPIDE EL PLAN NACIONAL DE DESARROLLO 2006-2010\"</a>,\n",
       " <a class=\"joodb_titletink\" href=\"/proyectos/index.php/proyectos-ley/periodo-legislativo-2006-2010/2006-2007/article/201-mediante-la-cual-se-adoptan-medidas-para-preservar-la-identidad-del-carnaval-del-distrito-especial-industrial-y-portuario-de-barranquilla-patrimonio-cultural-de-la-nacion\" title=\"Leer Mas...\">\"MEDIANTE LA CUAL SE ADOPTAN MEDIDAS PARA PRESERVAR LA IDENTIDAD DEL CARNAVAL DEL DISTRITO ESPECIAL, INDUSTRIAL Y PORTUARIO DE BARRANQUILLA, PATRIMONIO CULTURAL DE LA NACIÓN\"</a>,\n",
       " <a class=\"joodb_titletink\" href=\"/proyectos/index.php/proyectos-ley/periodo-legislativo-2006-2010/2006-2007/article/202-por-medio-de-la-cual-se-aprueban-las-enmiendas-a-la-constitucion-de-la-organizacion-internacional-para-las-migraciones-oim-adoptadas-mediante-resolucion-numero-997-lxxvi-del-consejo-de-la-organizacion-internacional-para-las-migraciones-aprobada-en-su-421-sesion-en-ginebra-suiza-el-24-de-noviembre-de-1998\" title=\"Leer Mas...\">\"POR MEDIO DE LA CUAL SE APRUEBAN LAS \"ENMIENDAS A LA CONSTITUCIÓN DE LA ORGANIZACIÓN INTERNACIONAL PARA LAS MIGRACIONES, OIM\", ADOPTADAS MEDIANTE RESOLUCIÓN NÚMERO 997 (LXXVI) DEL CONSEJO DE LA ORGANIZACIÓN INTERNACIONAL PARA LAS MIGRACIONES, APROBADA EN SU 421ª SESIÓN, EN GINEBRA, SUIZA, EL 24 DE NOVIEMBRE DE 1998\"</a>,\n",
       " <a class=\"joodb_titletink\" href=\"/proyectos/index.php/proyectos-ley/periodo-legislativo-2006-2010/2006-2007/article/203-por-la-cual-se-crea-la-abogacia-general-del-estado-se-dictan-normas-para-su-funcionamiento-y-se-determina-su-estructura-y-organizacion\" title=\"Leer Mas...\">\"POR LA CUAL SE CREA LA ABOGACÍA GENERAL DEL ESTADO, SE DICTAN NORMAS PARA SU FUNCIONAMIENTO Y SE DETERMINA SU ESTRUCTURA Y ORGANIZACIÓN\"</a>,\n",
       " <a class=\"joodb_titletink\" href=\"/proyectos/index.php/proyectos-ley/periodo-legislativo-2006-2010/2006-2007/article/204-por-la-cual-se-establecen-algunas-inhabilidades-para-ocupar-cargos-de-eleccion-popular-y-altas-dignidades-en-todas-las-ramas-del-poder-publico\" title=\"Leer Mas...\">\"POR LA CUAL SE ESTABLECEN ALGUNAS INHABILIDADES PARA OCUPAR CARGOS DE ELECCIÓN POPULAR Y ALTAS DIGNIDADES EN TODAS LAS RAMAS DEL PODER PUBLICO\"</a>,\n",
       " <a class=\"joodb_titletink\" href=\"/proyectos/index.php/proyectos-ley/periodo-legislativo-2006-2010/2006-2007/article/205-por-medio-de-la-cual-se-modifica-y-adiciona-el-articulo-311-de-la-ley-5-de-1992\" title=\"Leer Mas...\">\"POR MEDIO DE LA CUAL SE MODIFICA Y ADICIONA EL ARTÍCULO 311 DE LA LEY 5ª DE 1992\"</a>,\n",
       " <a class=\"joodb_titletink\" href=\"/proyectos/index.php/proyectos-ley/periodo-legislativo-2006-2010/2006-2007/article/206-por-la-cual-se-regulan-las-tasas-por-la-prestacion-de-los-servicios-de-la-registraduria-nacional-del-estado-civil-y-se-dictan-otras-disposiciones\" title=\"Leer Mas...\">\"POR LA CUAL SE REGULAN LAS TASAS POR LA PRESTACIÓN DE LOS SERVICIOS DE LA REGISTRADURÍA NACIONAL DEL ESTADO CIVIL Y SE DICTAN OTRAS DISPOSICIONES\"</a>,\n",
       " <a class=\"joodb_titletink\" href=\"/proyectos/index.php/proyectos-ley/periodo-legislativo-2006-2010/2006-2007/article/207-por-la-cual-se-fija-el-termino-de-caducidad-para-la-accion-de-revision-de-que-trata-el-articulo-20-de-la-ley-797-de-2003\" title=\"Leer Mas...\">\"POR LA CUAL SE FIJA EL TÉRMINO DE CADUCIDAD PARA LA ACCIÓN DE REVISIÓN DE QUE TRATA EL ARTÍCULO 20 DE LA LEY 797 DE 2003\"</a>,\n",
       " <a class=\"joodb_titletink\" href=\"/proyectos/index.php/proyectos-ley/periodo-legislativo-2006-2010/2006-2007/article/208-por-la-cual-se-modifican-algunos-articulos-de-la-ley-44-de-1980-y-se-impone-una-sancion-por-su-incumplimiento\" title=\"Leer Mas...\">\"POR LA CUAL SE MODIFICAN ALGUNOS ARTÍCULOS DE LA LEY 44 DE 1980 Y SE IMPONE UNA SANCIÓN POR SU INCUMPLIMIENTO\"</a>,\n",
       " <a class=\"joodb_titletink\" href=\"/proyectos/index.php/proyectos-ley/periodo-legislativo-2006-2010/2006-2007/article/209-por-medio-de-la-cual-se-rinde-honores-a-la-memoria-del-presidente-carlos-lleras-restrepo\" title=\"Leer Mas...\">\"POR MEDIO DE LA CUAL SE RINDE HONORES A LA MEMORIA DEL PRESIDENTE CARLOS LLERAS RESTREPO\"</a>,\n",
       " <a class=\"joodb_titletink\" href=\"/proyectos/index.php/proyectos-ley/periodo-legislativo-2006-2010/2006-2007/article/210-por-la-cual-se-reglamenta-el-ejercicio-de-la-profesion-de-administrador-policial-y-se-dictan-otras-disposiciones\" title=\"Leer Mas...\">\"POR LA CUAL SE REGLAMENTA EL EJERCICIO DE LA PROFESIÓN DE ADMINISTRADOR POLICIAL Y SE DICTAN OTRAS DISPOSICIONES\"</a>,\n",
       " <a class=\"joodb_titletink\" href=\"/proyectos/index.php/proyectos-ley/periodo-legislativo-2006-2010/2006-2007/article/211-por-la-cual-se-reforma-el-codigo-procesal-del-trabajo-y-de-la-seguridad-social-para-hacer-efectiva-la-oralidad-en-sus-procesos\" title=\"Leer Mas...\">\"POR LA CUAL SE REFORMA EL CÓDIGO PROCESAL DEL TRABAJO Y DE LA SEGURIDAD SOCIAL PARA HACER EFECTIVA LA ORALIDAD EN SUS PROCESOS\"</a>,\n",
       " <a class=\"joodb_titletink\" href=\"/proyectos/index.php/proyectos-ley/periodo-legislativo-2006-2010/2006-2007/article/212-por-medio-de-la-cual-se-crea-la-sociedad-por-acciones-simplificada\" title=\"Leer Mas...\">\"POR MEDIO DE LA CUAL SE CREA LA SOCIEDAD POR ACCIONES SIMPLIFICADA\"</a>,\n",
       " <a class=\"joodb_titletink\" href=\"/proyectos/index.php/proyectos-ley/periodo-legislativo-2006-2010/2006-2007/article/213-por-la-cual-se-modifica-la-ley-685-de-2001-codigo-de-minas\" title=\"Leer Mas...\">\"POR LA CUAL SE MODIFICA LA LEY 685 DE 2001, CÓDIGO DE MINAS\"</a>,\n",
       " <a class=\"joodb_titletink\" href=\"/proyectos/index.php/proyectos-ley/periodo-legislativo-2006-2010/2006-2007/article/214-por-medio-de-la-cual-se-reforma-parcialmente-el-inciso-6-del-paragrafo-transitorio-del-articulo-9-y-el-numeral-5-del-articulo-31-de-la-ley-909-de-2004\" title=\"Leer Mas...\">\"POR MEDIO DE LA CUAL SE REFORMA PARCIALMENTE EL INCISO 6° DEL PARÁGRAFO TRANSITORIO DEL ARTÍCULO 9º Y EL NUMERAL 5 DEL ARTÍCULO 31 DE LA LEY 909 DE 2004\"</a>,\n",
       " <a class=\"joodb_titletink\" href=\"/proyectos/index.php/proyectos-ley/periodo-legislativo-2006-2010/2006-2007/article/215-por-medio-de-la-cual-se-declara-como-patrimonio-cultural-de-la-nacion-la-feria-nacional-agropecuaria-de-guadalajara-de-buga-en-el-departamento-del-valle-del-cauca-y-se-dictan-otras-disposiciones\" title=\"Leer Mas...\">\"POR MEDIO DE LA CUAL SE DECLARA COMO PATRIMONIO CULTURAL DE LA NACIÓN, LA FERIA NACIONAL AGROPECUARIA DE GUADALAJARA DE BUGA, EN EL DEPARTAMENTO DEL VALLE DEL CAUCA Y SE DICTAN OTRAS DISPOSICIONES\"</a>,\n",
       " <a class=\"joodb_titletink\" href=\"/proyectos/index.php/proyectos-ley/periodo-legislativo-2006-2010/2006-2007/article/216-por-medio-de-la-cual-se-declara-como-patrimonio-cultural-de-la-nacion-la-feria-de-cali-y-a-la-feria-taurina-de-cali-en-el-departamento-del-valle-del-cauca-y-se-dictan-otras-disposiciones\" title=\"Leer Mas...\">\"POR MEDIO DE LA CUAL SE DECLARA COMO PATRIMONIO CULTURAL DE LA NACION, LA FERIA DE CALI Y A LA FERIA TAURINA DE CALI, EN EL DEPARTAMENTO DEL VALLE DEL CAUCA Y SE DICTAN OTRAS DISPOSICIONES\"</a>,\n",
       " <a class=\"joodb_titletink\" href=\"/proyectos/index.php/proyectos-ley/periodo-legislativo-2006-2010/2006-2007/article/217-por-medio-de-la-cual-se-promueve-la-vasectomia-como-forma-para-fomentar-la-paternidad-responsable-y-se-establecen-estimulos-para-los-ciudadanos\" title=\"Leer Mas...\">\"POR MEDIO DE LA CUAL SE PROMUEVE LA VASECTOMÍA COMO FORMA PARA FOMENTAR LA PATERNIDAD RESPONSABLE Y SE ESTABLECEN ESTÍMULOS PARA LOS CIUDADANOS\"</a>,\n",
       " <a class=\"joodb_titletink\" href=\"/proyectos/index.php/proyectos-ley/periodo-legislativo-2006-2010/2006-2007/article/218-por-medio-de-la-cual-la-nacion-se-asocia-a-la-celebracion-de-los-cincuenta-anos-del-colegio-nacionalizado-femenino-de-villavicencio-se-autorizan-apropiaciones-presupuestales-y-se-dictan-otras-disposiciones\" title=\"Leer Mas...\">\"POR MEDIO DE LA CUAL LA NACIÓN SE ASOCIA A LA CELEBRACIÓN DE LOS CINCUENTA AÑOS DEL COLEGIO NACIONALIZADO FEMENINO DE VILLAVICENCIO, SE AUTORIZAN APROPIACIONES PRESUPUESTALES Y SE DICTAN OTRAS DISPOSICIONES\"</a>,\n",
       " <a class=\"joodb_titletink\" href=\"/proyectos/index.php/proyectos-ley/periodo-legislativo-2006-2010/2006-2007/article/219-por-la-cual-se-desarrolla-la-telemedicina-en-colombia-y-se-articula-la-plataforma-de-las-tecnologias-de-la-informacion-y-el-conocimiento\" title=\"Leer Mas...\">\"POR LA CUAL SE DESARROLLA LA TELEMEDICINA EN COLOMBIA Y SE ARTICULA LA PLATAFORMA DE LAS TECNOLOGÍAS DE LA INFORMACIÓN Y EL CONOCIMIENTO\"</a>,\n",
       " <a class=\"joodb_titletink\" href=\"/proyectos/index.php/proyectos-ley/periodo-legislativo-2006-2010/2006-2007/article/220-por-medio-de-la-cual-se-reconoce-el-derecho-a-la-actualizacion-de-la-primera-mesada-pensional\" title=\"Leer Mas...\">\"POR MEDIO DE LA CUAL SE RECONOCE EL DERECHO A LA ACTUALIZACIÓN DE LA PRIMERA MESADA PENSIONAL\"</a>,\n",
       " <a class=\"joodb_titletink\" href=\"/proyectos/index.php/proyectos-ley/periodo-legislativo-2006-2010/2006-2007/article/221-por-la-cual-se-modifica-la-ley-472-de-1998-y-se-dictan-otras-disposiciones\" title=\"Leer Mas...\">\"POR LA CUAL SE MODIFICA LA LEY 472 DE 1998 Y SE DICTAN OTRAS DISPOSICIONES\"</a>,\n",
       " <a class=\"joodb_titletink\" href=\"/proyectos/index.php/proyectos-ley/periodo-legislativo-2006-2010/2006-2007/article/222-por-la-cual-se-reconoce-el-entrenador-deportivo-se-crea-el-sistema-unico-de-acreditacion-y-certificacion-del-sistema-nacional-del-deporte-y-se-dictan-otras-disposiciones\" title=\"Leer Mas...\">\"POR LA CUAL SE RECONOCE EL ENTRENADOR DEPORTIVO, SE CREA EL SISTEMA ÚNICO DE ACREDITACIÓN Y CERTIFICACIÓN DEL SISTEMA NACIONAL DEL DEPORTE  Y SE DICTAN OTRAS DISPOSICIONES\"</a>,\n",
       " <a class=\"joodb_titletink\" href=\"/proyectos/index.php/proyectos-ley/periodo-legislativo-2006-2010/2006-2007/article/223-por-medio-de-la-cual-se-modifican-la-ley-48-de-1993-y-la-ley-961-de-2005\" title=\"Leer Mas...\">\"POR MEDIO DE LA CUAL SE MODIFICAN LA LEY 48 DE 1993 Y LA LEY 961 DE 2005\"</a>,\n",
       " <a class=\"joodb_titletink\" href=\"/proyectos/index.php/proyectos-ley/periodo-legislativo-2006-2010/2006-2007/article/224-por-la-cual-se-introduce-una-causal-de-divorcio\" title=\"Leer Mas...\">\"POR LA CUAL SE INTRODUCE UNA CAUSAL DE DIVORCIO\"</a>,\n",
       " <a class=\"joodb_titletink\" href=\"/proyectos/index.php/proyectos-ley/periodo-legislativo-2006-2010/2006-2007/article/225-por-la-cual-se-introduce-una-causal-de-divorcio\" title=\"Leer Mas...\">\"POR LA CUAL SE INTRODUCE UNA CAUSAL DE DIVORCIO\"</a>,\n",
       " <a class=\"joodb_titletink\" href=\"/proyectos/index.php/proyectos-ley/periodo-legislativo-2006-2010/2006-2007/article/226-por-la-cual-se-modifica-el-articulo-305-del-codigo-penal\" title=\"Leer Mas...\">\"POR LA CUAL SE MODIFICA EL ARTÍCULO 305 DEL CÓDIGO PENAL\"</a>,\n",
       " <a class=\"joodb_titletink\" href=\"/proyectos/index.php/proyectos-ley/periodo-legislativo-2006-2010/2006-2007/article/227-por-la-cual-la-nacion-rinde-homenaje-al-municipio-de-cabrera-departamento-de-santander-se-asocia-a-la-celebracion-de-los-200-anos-de-su-fundacion-y-se-dictan-otras-disposiciones\" title=\"Leer Mas...\">\"POR LA CUAL LA NACIÓN RINDE HOMENAJE AL MUNICIPIO DE CABRERA, DEPARTAMENTO DE SANTANDER, SE ASOCIA A LA CELEBRACIÓN DE LOS 200 AÑOS DE SU FUNDACIÓN Y SE DICTAN OTRAS DISPOSICIONES\"</a>,\n",
       " <a class=\"joodb_titletink\" href=\"/proyectos/index.php/proyectos-ley/periodo-legislativo-2006-2010/2006-2007/article/228-por-la-cual-la-nacion-rinde-homenaje-y-exalta-la-vida-publica-del-ilustre-ciudadano-roberto-camacho-weverberg-ex-congresista-de-colombia-y-se-asocia-a-la-conmemoracion-del-primer-ano-de-su-fallecimiento\" title=\"Leer Mas...\">\"POR LA CUAL LA NACIÓN RINDE HOMENAJE Y EXALTA LA VIDA PÚBLICA DEL ILUSTRE CIUDADANO ROBERTO CAMACHO WEVERBERG, EX CONGRESISTA DE COLOMBIA, Y SE ASOCIA A LA CONMEMORACIÓN DEL PRIMER AÑO DE SU FALLECIMIENTO\"</a>,\n",
       " <a class=\"joodb_titletink\" href=\"/proyectos/index.php/proyectos-ley/periodo-legislativo-2006-2010/2006-2007/article/229-por-la-cual-se-dictan-normas-que-fijan-el-procedimiento-para-suplir-las-faltas-absolutas-y-temporales-de-gobernadores-y-alcaldes-municipales-y-distritales-y-se-dictan-otras-disposiciones\" title=\"Leer Mas...\">\"POR LA CUAL SE DICTAN NORMAS QUE FIJAN EL PROCEDIMIENTO PARA SUPLIR LAS FALTAS ABSOLUTAS Y TEMPORALES DE GOBERNADORES Y ALCALDES MUNICIPALES Y DISTRITALES Y SE DICTAN OTRAS DISPOSICIONES\"</a>,\n",
       " <a class=\"joodb_titletink\" href=\"/proyectos/index.php/proyectos-ley/periodo-legislativo-2006-2010/2006-2007/article/230-por-el-cual-se-reglamente-el-ejercicio-de-la-profesion-de-locucion-en-colombia\" title=\"Leer Mas...\">\"POR EL CUAL SE REGLAMENTE EL EJERCICIO DE LA PROFESIÓN DE LOCUCIÓN EN COLOMBIA\"</a>,\n",
       " <a class=\"joodb_titletink\" href=\"/proyectos/index.php/proyectos-ley/periodo-legislativo-2006-2010/2006-2007/article/231-por-medio-de-la-cual-se-implementa-el-sistema-de-prestacion-del-servicio-publico-de-transporte-alternativo-de-pasajeros-en-la-modalidad-de-tricimovil-y-motocarro-y-se-establecen-otras-disposiciones\" title=\"Leer Mas...\">\"POR MEDIO DE LA CUAL SE IMPLEMENTA EL SISTEMA DE PRESTACIÓN DEL SERVICIO PÚBLICO DE TRANSPORTE ALTERNATIVO DE PASAJEROS EN LA MODALIDAD DE TRICIMÓVIL Y MOTOCARRO Y SE ESTABLECEN OTRAS DISPOSICIONES\"</a>,\n",
       " <a class=\"joodb_titletink\" href=\"/proyectos/index.php/proyectos-ley/periodo-legislativo-2006-2010/2006-2007/article/232-a-traves-de-la-cual-se-modifica-la-ley-687-del-15-de-agosto-de-2001-y-se-establecen-nuevos-criterios-de-atencion-integral-del-adulto-mayor-en-los-centros-vida\" title=\"Leer Mas...\">\"A TRAVÉS DE LA CUAL SE MODIFICA LA LEY 687 DEL 15 DE AGOSTO DE 2001 Y SE ESTABLECEN NUEVOS CRITERIOS DE ATENCIÓN INTEGRAL DEL ADULTO MAYOR EN LOS CENTROS VIDA\"</a>,\n",
       " <a class=\"joodb_titletink\" href=\"/proyectos/index.php/proyectos-ley/periodo-legislativo-2006-2010/2006-2007/article/233-por-medio-de-la-cual-la-nacion-se-asocia-a-la-celebracion-de-los-veinticinco-anos-de-fundacion-de-la-universidad-militar-nueva-granada\" title=\"Leer Mas...\">\"POR MEDIO DE LA CUAL LA NACIÓN SE ASOCIA A LA CELEBRACIÓN DE LOS VEINTICINCO AÑOS DE FUNDACIÓN DE LA UNIVERSIDAD MILITAR NUEVA GRANADA\"</a>,\n",
       " <a class=\"joodb_titletink\" href=\"/proyectos/index.php/proyectos-ley/periodo-legislativo-2006-2010/2006-2007/article/234-por-la-cual-se-crea-la-catedra-de-derechos-humanos-deberes-y-garantias-y-pedagogia-de-la-reconciliacion-y-se-dictan-otras-disposiciones\" title=\"Leer Mas...\">\"POR LA CUAL SE CREA LA CÁTEDRA DE DERECHOS HUMANOS, DEBERES Y GARANTÍAS Y PEDAGOGÍA DE LA RECONCILIACIÓN Y SE DICTAN OTRAS DISPOSICIONES\"</a>,\n",
       " <a class=\"joodb_titletink\" href=\"/proyectos/index.php/proyectos-ley/periodo-legislativo-2006-2010/2006-2007/article/235-por-la-cual-se-establece-el-salario-basico-para-los-profesionales\" title=\"Leer Mas...\">\"POR LA CUAL SE ESTABLECE EL SALARIO BÁSICO PARA LOS PROFESIONALES\"</a>,\n",
       " <a class=\"joodb_titletink\" href=\"/proyectos/index.php/proyectos-ley/periodo-legislativo-2006-2010/2006-2007/article/236-por-la-cual-se-dictan-normas-sobre-el-fomento-de-la-musica-colombiana\" title=\"Leer Mas...\">\"POR LA CUAL SE DICTAN NORMAS SOBRE EL FOMENTO DE LA MÚSICA COLOMBIANA\"</a>,\n",
       " <a class=\"joodb_titletink\" href=\"/proyectos/index.php/proyectos-ley/periodo-legislativo-2006-2010/2006-2007/article/237-por-medio-de-la-cual-se-instrumenta-la-cultura-de-basura-cero\" title=\"Leer Mas...\">\"POR MEDIO DE LA CUAL SE INSTRUMENTA LA CULTURA DE BASURA CERO\"</a>,\n",
       " <a class=\"joodb_titletink\" href=\"/proyectos/index.php/proyectos-ley/periodo-legislativo-2006-2010/2006-2007/article/238-por-la-cual-se-dictan-disposiciones-para-prevenir-la-injerencia-de-los-factores-delincuenciales-en-los-procesos-electorales-se-modifican-y-adicionan-algunas-disposiciones-de-las-leyes-130-de-1994-163-de-1994-y-del-decreto-ley-2241-de-1986-y-se-dictan-otras-disposiciones\" title=\"Leer Mas...\">\"POR LA CUAL SE DICTAN DISPOSICIONES PARA PREVENIR LA INJERENCIA DE LOS FACTORES DELINCUENCIALES EN LOS PROCESOS ELECTORALES, SE MODIFICAN Y ADICIONAN ALGUNAS DISPOSICIONES DE LAS LEYES 130 DE 1994, 163 DE 1994 Y DEL DECRETO-LEY 2241 DE 1986 Y SE DICTAN OTRAS DISPOSICIONES\"</a>,\n",
       " <a class=\"joodb_titletink\" href=\"/proyectos/index.php/proyectos-ley/periodo-legislativo-2006-2010/2006-2007/article/239-por-la-cual-se-reglamenta-la-adecuada-y-efectiva-participacion-de-las-comunidades-afrocolombianas-e-indigenas-en-los-niveles-decisorios-de-la-administracion-publica\" title=\"Leer Mas...\">\"POR LA CUAL SE REGLAMENTA LA ADECUADA Y EFECTIVA PARTICIPACIÓN DE LAS COMUNIDADES AFROCOLOMBIANAS E INDÍGENAS EN LOS NIVELES DECISORIOS DE LA ADMINISTRACIÓN PÚBLICA\"</a>,\n",
       " <a class=\"joodb_titletink\" href=\"/proyectos/index.php/proyectos-ley/periodo-legislativo-2006-2010/2006-2007/article/240-por-medio-de-la-cual-se-formulan-lineamientos-y-politicas-generales-para-la-implementacion-de-los-pgirs-y-se-establece-el-reciclaje-como-instrumento-de-recursos-para-todos\" title=\"Leer Mas...\">\"POR MEDIO DE LA CUAL SE FORMULAN LINEAMIENTOS Y POLÍTICAS GENERALES PARA LA IMPLEMENTACIÓN DE LOS PGIRS Y SE ESTABLECE EL RECICLAJE COMO INSTRUMENTO DE RECURSOS PARA TODOS\"</a>,\n",
       " <a class=\"joodb_titletink\" href=\"/proyectos/index.php/proyectos-ley/periodo-legislativo-2006-2010/2006-2007/article/241-por-medio-de-la-cual-se-establece-en-el-congreso-de-la-republica-el-dia-de-los-ninos-ninas-y-adolescentes-congresistas\" title=\"Leer Mas...\">\"POR MEDIO DE LA CUAL SE ESTABLECE EN EL CONGRESO DE LA REPÚBLICA EL DÍA DE LOS NIÑOS, NIÑAS Y ADOLESCENTES CONGRESISTAS\"</a>,\n",
       " <a class=\"joodb_titletink\" href=\"/proyectos/index.php/proyectos-ley/periodo-legislativo-2006-2010/2006-2007/article/242-por-medio-de-la-cual-se-hace-una-adicion-al-codigo-penal-ley-599-de-2000-se-crea-el-tipo-penal-denegacion-de-salud-y-se-dictan-otras-disposiciones\" title=\"Leer Mas...\">\"POR MEDIO DE LA CUAL SE HACE UNA ADICIÓN AL CÓDIGO PENAL (LEY 599 DE 2000), SE CREA EL TIPO PENAL \"DENEGACIÓN DE SALUD\", Y SE DICTAN OTRAS DISPOSICIONES\"</a>,\n",
       " <a class=\"joodb_titletink\" href=\"/proyectos/index.php/proyectos-ley/periodo-legislativo-2006-2010/2006-2007/article/243-por-la-cual-se-incorpora-a-la-red-nacional-de-carreteras-una-via-ubicada-en-el-departamento-de-la-guajira-entre-los-municipios-de-riohacha-y-albania\" title=\"Leer Mas...\">\"POR LA CUAL SE INCORPORA A LA RED NACIONAL DE CARRETERAS UNA VÍA UBICADA EN EL DEPARTAMENTO DE LA GUAJIRA, ENTRE LOS MUNICIPIOS DE RIOHACHA Y ALBANIA\"</a>,\n",
       " <a class=\"joodb_titletink\" href=\"/proyectos/index.php/proyectos-ley/periodo-legislativo-2006-2010/2006-2007/article/244-por-la-cual-se-modifica-parcialmente-la-ley-841-del-7-de-octubre-de-2003-y-se-dictan-otras-disposiciones\" title=\"Leer Mas...\">\"POR LA CUAL SE MODIFICA PARCIALMENTE LA LEY 841 DEL 7 DE OCTUBRE DE 2003 Y SE DICTAN OTRAS DISPOSICIONES\"</a>,\n",
       " <a class=\"joodb_titletink\" href=\"/proyectos/index.php/proyectos-ley/periodo-legislativo-2006-2010/2006-2007/article/245-por-medio-de-la-cual-se-establecen-normas-relativas-al-regimen-de-accion-comunal-en-colombia-y-se-consagran-los-estimulos-comunales\" title=\"Leer Mas...\">\"POR MEDIO DE LA CUAL SE ESTABLECEN NORMAS RELATIVAS AL RÉGIMEN DE ACCIÓN COMUNAL EN COLOMBIA Y SE CONSAGRAN LOS ESTÍMULOS COMUNALES\"</a>,\n",
       " <a class=\"joodb_titletink\" href=\"/proyectos/index.php/proyectos-ley/periodo-legislativo-2006-2010/2006-2007/article/246-por-la-cual-se-reconoce-igualdad-de-derechos-herenciales-a-los-companeros-permanentes-en-las-uniones-maritales-de-hecho-se-regulan-las-obligaciones-alimentarias-entre-ellos-se-hacen-los-correspondientes-ajustes-a-los-ordenes-hereditarios-y-se-dictan-otras-disposiciones\" title=\"Leer Mas...\">\"POR LA CUAL SE RECONOCE IGUALDAD DE DERECHOS HERENCIALES A LOS COMPAÑEROS PERMANENTES EN LAS UNIONES MARITALES DE HECHO, SE REGULAN LAS OBLIGACIONES ALIMENTARIAS ENTRE ELLOS, SE HACEN LOS CORRESPONDIENTES AJUSTES A LOS ÓRDENES HEREDITARIOS Y SE DICTAN OTRAS DISPOSICIONES\"</a>]"
      ]
     },
     "execution_count": 14,
     "metadata": {},
     "output_type": "execute_result"
    }
   ],
   "source": [
    "soup.find_all('a', class_='joodb_titletink')\n"
   ]
  },
  {
   "cell_type": "code",
   "execution_count": 39,
   "metadata": {},
   "outputs": [],
   "source": [
    "#contiene todas las \n",
    "titulos_leyes = soup.find_all('a', class_='joodb_titletink')\n"
   ]
  },
  {
   "cell_type": "code",
   "execution_count": null,
   "metadata": {},
   "outputs": [],
   "source": []
  },
  {
   "cell_type": "code",
   "execution_count": 43,
   "metadata": {},
   "outputs": [],
   "source": [
    "# for i in titulos_leyes:\n",
    "#     print(i['href'])"
   ]
  },
  {
   "cell_type": "code",
   "execution_count": 42,
   "metadata": {},
   "outputs": [],
   "source": [
    "# for i in titulos_leyes:\n",
    "#     print(i.get_text())"
   ]
  },
  {
   "cell_type": "markdown",
   "metadata": {},
   "source": [
    "\"https://leyes.senado.gov.co\""
   ]
  },
  {
   "cell_type": "code",
   "execution_count": 27,
   "metadata": {},
   "outputs": [],
   "source": [
    "domain = \"https://leyes.senado.gov.co\""
   ]
  },
  {
   "cell_type": "code",
   "execution_count": 26,
   "metadata": {},
   "outputs": [],
   "source": [
    "ley_specifica_1 = '/proyectos/index.php/proyectos-ley/periodo-legislativo-2006-2010/2006-2007/article/1-por-la-cual-se-otorgan-facultades-extraordinarias-al-presidente-de-la-republica-y-se-dictan-otras-disposiciones'"
   ]
  },
  {
   "cell_type": "code",
   "execution_count": 30,
   "metadata": {},
   "outputs": [
    {
     "name": "stderr",
     "output_type": "stream",
     "text": [
      "C:\\Users\\emili\\.conda\\envs\\crime\\lib\\site-packages\\urllib3\\connectionpool.py:1043: InsecureRequestWarning: Unverified HTTPS request is being made to host 'leyes.senado.gov.co'. Adding certificate verification is strongly advised. See: https://urllib3.readthedocs.io/en/1.26.x/advanced-usage.html#ssl-warnings\n",
      "  warnings.warn(\n"
     ]
    },
    {
     "data": {
      "text/plain": [
       "<Response [200]>"
      ]
     },
     "execution_count": 30,
     "metadata": {},
     "output_type": "execute_result"
    }
   ],
   "source": [
    "page1 = requests.get(domain+ley_specifica_1,\n",
    "                    verify=False)\n",
    "page1"
   ]
  },
  {
   "cell_type": "code",
   "execution_count": 31,
   "metadata": {},
   "outputs": [],
   "source": [
    "soup1 = BeautifulSoup(page1.content, 'html.parser')"
   ]
  },
  {
   "cell_type": "code",
   "execution_count": 76,
   "metadata": {
    "scrolled": false
   },
   "outputs": [],
   "source": [
    "# print(soup1.prettify())"
   ]
  },
  {
   "cell_type": "code",
   "execution_count": 82,
   "metadata": {},
   "outputs": [],
   "source": [
    "desc_ley = soup1.find_all('td')\n"
   ]
  },
  {
   "cell_type": "code",
   "execution_count": 137,
   "metadata": {},
   "outputs": [
    {
     "data": {
      "text/plain": [
       "[<td align=\"center\" colspan=\"2\"><strong>TRAMITE EN SENADO DE LA REPUBLICA</strong></td>,\n",
       " <td width=\"32%\">Autor:</td>,\n",
       " <td width=\"68%\">Ministerio de Protección Social: Doctor Diego Palacio Betancourt</td>,\n",
       " <td>Origen:</td>,\n",
       " <td>Senado de la Republica</td>,\n",
       " <td>Fecha de Presentación:</td>,\n",
       " <td>20 Julio 2006</td>,\n",
       " <td>Repartido a Comisión:</td>,\n",
       " <td>Septima</td>,\n",
       " <td>Ponente Primer Debate:</td>,\n",
       " <td>H.S. Miguel Pineda V, Jairo Merlano F, Dilian Francisca Toro Torres, Diaz Maloff, Claudia Rodriguez, Luis Carlos Avellaneda, Ivan Diaz M, German Aguirre.</td>,\n",
       " <td>Ponente Segundo Debate:</td>,\n",
       " <td></td>,\n",
       " <td>Fecha de Aprobación Primer Debate:</td>,\n",
       " <td>01 Enero 0000</td>,\n",
       " <td>Fecha de Aprobación Segundo Debate:</td>,\n",
       " <td>01 Enero 0000</td>,\n",
       " <td>Estado:</td>,\n",
       " <td><b>Ley 1122 del 09 de Enero de 2007</b></td>,\n",
       " <td>Exposición de Motivos:</td>,\n",
       " <td>Primera Ponencia:</td>,\n",
       " <td>Segunda Ponencia:</td>,\n",
       " <td>Texto Plenaria: </td>,\n",
       " <td>Conciliación</td>,\n",
       " <td><a href=\"http://servoaspr.imprenta.gov.co:7778/gacetap/gaceta.mostrar_documento?p_tipo=05&amp;p_numero=01&amp;p_consec=14709\" target=\"_blank\">Gaceta 243/06</a></td>,\n",
       " <td><a href=\"/proyectos/\" target=\"_blank\"></a></td>,\n",
       " <td><a href=\"/proyectos/\" target=\"_blank\"></a></td>,\n",
       " <td><a href=\"/proyectos/\" target=\"_blank\"></a></td>,\n",
       " <td><a href=\"/proyectos/\" target=\"_blank\"></a></td>,\n",
       " <td align=\"center\" colspan=\"2\"><strong>TRAMITE EN CAMARA DE  REPRESENTANTES</strong></td>,\n",
       " <td width=\"32%\">Ponentes Primer Debate:</td>,\n",
       " <td width=\"68%\"></td>,\n",
       " <td>Ponentes Segundo Debate:</td>,\n",
       " <td></td>,\n",
       " <td>Fecha de Aprobación Primer Debate:</td>,\n",
       " <td>01 Enero 0000</td>,\n",
       " <td>Fecha de Aprobación Segundo Debate:</td>,\n",
       " <td>01 Enero 0000</td>,\n",
       " <td>Estado:</td>,\n",
       " <td><b></b></td>,\n",
       " <td>Exposición de Motivos:</td>,\n",
       " <td>Primera Ponencia:</td>,\n",
       " <td>Segunda Ponencia:</td>,\n",
       " <td>Texto Plenaria: </td>,\n",
       " <td>Conciliación</td>,\n",
       " <td><a href=\"/proyectos/\" target=\"_blank\"></a></td>,\n",
       " <td><a href=\"/proyectos/\" target=\"_blank\"></a></td>,\n",
       " <td><a href=\"/proyectos/\" target=\"_blank\"></a></td>,\n",
       " <td><a href=\"/proyectos/\" target=\"_blank\"></a></td>,\n",
       " <td><a href=\"/proyectos/\" target=\"_blank\"></a></td>,\n",
       " <td width=\"32%\"><strong>Tema: </strong></td>,\n",
       " <td width=\"68%\"></td>,\n",
       " <td class=\"odd\" colspan=\"3\" height=\"8\"><div>\n",
       " <div align=\"center\">Durante los años 2004 y 2005 el Gobierno Nacional, el Congreso de la República, los partidos, los gremios, los medios de comunicación, las entidades territoriales y sus Federaciones, los aseguradores, los prestadores y en general todo el sector de la salud a lo largo y ancho del país, desarrollaron una amplia discusión acerca del sistema general de seguridad social en salud, sus logros y dificultades, y sus posibles reformas a instancias de una comisión accidental conformada en el honorable Senado de la República. Dado que se trata de la gestión de recursos públicos del sistema general de seguridad social en salud se hace necesario regular y controlar; Por esta razón, y dada la importancia de este tema para un buen funcionamiento del sector de la salud, se solicita al honorable Congreso de la República otorgar facultades para expedir normas con fuerza de ley en esta materia</div>\n",
       " </div></td>,\n",
       " <td align=\"left\" class=\"odd\" height=\"8\" width=\"200\"><span style=\"text-align: left\"><a class=\"backbutton\" href=\"javascript:history.back();\" title=\"» Back\"><img alt=\"» Back\" src=\"/proyectos/components/com_joodb/assets/images/back.png\"/></a></span></td>,\n",
       " <td class=\"odd\" width=\"659\"> </td>,\n",
       " <td align=\"right\" class=\"odd\" width=\"200\"><a class=\"nextbutton\" href=\"/proyectos/index.php/proyectos-ley/periodo-legislativo-2006-2010/2006-2007/article/2-por-medio-del-cual-se-regula-el-trabajo-asociado-cooperativo?position=2&amp;total=246\" title=\"Next entry\"><img alt=\"Next entry\" src=\"/proyectos/components/com_joodb/assets/images/next.png\"/></a></td>]"
      ]
     },
     "execution_count": 137,
     "metadata": {},
     "output_type": "execute_result"
    }
   ],
   "source": [
    "desc_ley"
   ]
  },
  {
   "cell_type": "code",
   "execution_count": 147,
   "metadata": {},
   "outputs": [
    {
     "data": {
      "text/plain": [
       "56"
      ]
     },
     "execution_count": 147,
     "metadata": {},
     "output_type": "execute_result"
    }
   ],
   "source": [
    "len(desc_ley)"
   ]
  },
  {
   "cell_type": "code",
   "execution_count": 145,
   "metadata": {},
   "outputs": [
    {
     "name": "stdout",
     "output_type": "stream",
     "text": [
      "['2', 'center']\n",
      "['32%']\n",
      "['68%']\n",
      "[]\n",
      "[]\n",
      "[]\n",
      "[]\n",
      "[]\n",
      "[]\n",
      "[]\n",
      "[]\n",
      "[]\n",
      "[]\n",
      "[]\n",
      "[]\n",
      "[]\n",
      "[]\n",
      "[]\n",
      "[]\n",
      "[]\n",
      "[]\n",
      "[]\n",
      "[]\n",
      "[]\n",
      "[]\n",
      "[]\n",
      "[]\n",
      "[]\n",
      "[]\n",
      "['2', 'center']\n",
      "['32%']\n",
      "['68%']\n",
      "[]\n",
      "[]\n",
      "[]\n",
      "[]\n",
      "[]\n",
      "[]\n",
      "[]\n",
      "[]\n",
      "[]\n",
      "[]\n",
      "[]\n",
      "[]\n",
      "[]\n",
      "[]\n",
      "[]\n",
      "[]\n",
      "[]\n",
      "[]\n",
      "['32%']\n",
      "['68%']\n",
      "['8', '3', ['odd']]\n",
      "['200', '8', 'left', ['odd']]\n",
      "['659', ['odd']]\n",
      "['200', 'right', ['odd']]\n"
     ]
    }
   ],
   "source": [
    "for i in desc_ley:\n",
    "    print(list(i.attrs.values()))"
   ]
  },
  {
   "cell_type": "code",
   "execution_count": 131,
   "metadata": {},
   "outputs": [
    {
     "ename": "TypeError",
     "evalue": "'NoneType' object is not callable",
     "output_type": "error",
     "traceback": [
      "\u001b[1;31m---------------------------------------------------------------------------\u001b[0m",
      "\u001b[1;31mTypeError\u001b[0m                                 Traceback (most recent call last)",
      "Input \u001b[1;32mIn [131]\u001b[0m, in \u001b[0;36m<cell line: 1>\u001b[1;34m()\u001b[0m\n\u001b[1;32m----> 1\u001b[0m \u001b[38;5;28mtype\u001b[39m(\u001b[43mdesc_ley\u001b[49m\u001b[43m[\u001b[49m\u001b[38;5;241;43m-\u001b[39;49m\u001b[38;5;241;43m9\u001b[39;49m\u001b[43m]\u001b[49m\u001b[38;5;241;43m.\u001b[39;49m\u001b[43mget_tags\u001b[49m\u001b[43m(\u001b[49m\u001b[43m)\u001b[49m)\n",
      "\u001b[1;31mTypeError\u001b[0m: 'NoneType' object is not callable"
     ]
    }
   ],
   "source": [
    "type(desc_ley[-9].get_tags())"
   ]
  },
  {
   "cell_type": "code",
   "execution_count": 94,
   "metadata": {},
   "outputs": [
    {
     "data": {
      "text/plain": [
       "True"
      ]
     },
     "execution_count": 94,
     "metadata": {},
     "output_type": "execute_result"
    }
   ],
   "source": [
    "desc_ley[5].get_text() in ['Autor:','Origen:','Fecha de Presentación:','Repartido a Comisión:','Ponente Primer Debate:']"
   ]
  },
  {
   "cell_type": "code",
   "execution_count": 143,
   "metadata": {},
   "outputs": [],
   "source": [
    "desc_ley[-5].attr"
   ]
  },
  {
   "cell_type": "code",
   "execution_count": 120,
   "metadata": {},
   "outputs": [
    {
     "ename": "KeyError",
     "evalue": "'class'",
     "output_type": "error",
     "traceback": [
      "\u001b[1;31m---------------------------------------------------------------------------\u001b[0m",
      "\u001b[1;31mKeyError\u001b[0m                                  Traceback (most recent call last)",
      "Input \u001b[1;32mIn [120]\u001b[0m, in \u001b[0;36m<cell line: 1>\u001b[1;34m()\u001b[0m\n\u001b[0;32m      1\u001b[0m \u001b[38;5;28;01mfor\u001b[39;00m i \u001b[38;5;129;01min\u001b[39;00m \u001b[38;5;28miter\u001b[39m(desc_ley):\n\u001b[1;32m----> 2\u001b[0m     \u001b[38;5;28mprint\u001b[39m(\u001b[43mi\u001b[49m\u001b[43m[\u001b[49m\u001b[38;5;124;43m'\u001b[39;49m\u001b[38;5;124;43mclass\u001b[39;49m\u001b[38;5;124;43m'\u001b[39;49m\u001b[43m]\u001b[49m)\n",
      "File \u001b[1;32m~\\.conda\\envs\\crime\\lib\\site-packages\\bs4\\element.py:1486\u001b[0m, in \u001b[0;36mTag.__getitem__\u001b[1;34m(self, key)\u001b[0m\n\u001b[0;32m   1483\u001b[0m \u001b[38;5;28;01mdef\u001b[39;00m \u001b[38;5;21m__getitem__\u001b[39m(\u001b[38;5;28mself\u001b[39m, key):\n\u001b[0;32m   1484\u001b[0m     \u001b[38;5;124;03m\"\"\"tag[key] returns the value of the 'key' attribute for the Tag,\u001b[39;00m\n\u001b[0;32m   1485\u001b[0m \u001b[38;5;124;03m    and throws an exception if it's not there.\"\"\"\u001b[39;00m\n\u001b[1;32m-> 1486\u001b[0m     \u001b[38;5;28;01mreturn\u001b[39;00m \u001b[38;5;28;43mself\u001b[39;49m\u001b[38;5;241;43m.\u001b[39;49m\u001b[43mattrs\u001b[49m\u001b[43m[\u001b[49m\u001b[43mkey\u001b[49m\u001b[43m]\u001b[49m\n",
      "\u001b[1;31mKeyError\u001b[0m: 'class'"
     ]
    }
   ],
   "source": [
    "for i in iter(desc_ley):\n",
    "    print(i['class'])"
   ]
  },
  {
   "cell_type": "code",
   "execution_count": null,
   "metadata": {},
   "outputs": [],
   "source": []
  },
  {
   "cell_type": "code",
   "execution_count": 148,
   "metadata": {},
   "outputs": [
    {
     "name": "stdout",
     "output_type": "stream",
     "text": [
      "Autor: Ministerio de Protección Social: Doctor Diego Palacio Betancourt\n",
      "Origen: Senado de la Republica\n",
      "Fecha de Presentación: 20 Julio 2006\n",
      "Repartido a Comisión: Septima\n",
      "Ponente Primer Debate: H.S. Miguel Pineda V, Jairo Merlano F, Dilian Francisca Toro Torres, Diaz Maloff, Claudia Rodriguez, Luis Carlos Avellaneda, Ivan Diaz M, German Aguirre.\n",
      "Resumen: \n",
      "Durante los años 2004 y 2005 el Gobierno Nacional, el Congreso de la República, los partidos, los gremios, los medios de comunicación, las entidades territoriales y sus Federaciones, los aseguradores, los prestadores y en general todo el sector de la salud a lo largo y ancho del país, desarrollaron una amplia discusión acerca del sistema general de seguridad social en salud, sus logros y dificultades, y sus posibles reformas a instancias de una comisión accidental conformada en el honorable Senado de la República. Dado que se trata de la gestión de recursos públicos del sistema general de seguridad social en salud se hace necesario regular y controlar; Por esta razón, y dada la importancia de este tema para un buen funcionamiento del sector de la salud, se solicita al honorable Congreso de la República otorgar facultades para expedir normas con fuerza de ley en esta materia\n",
      "\n"
     ]
    }
   ],
   "source": [
    "ley_especifica_iter = iter(desc_ley)\n",
    "for i in ley_especifica_iter :\n",
    "    if i.get_text() in ['Autor:','Origen:','Fecha de Presentación:','Repartido a Comisión:','Ponente Primer Debate:']:\n",
    "        print(i.get_text(),next(ley_especifica_iter).get_text())\n",
    "    if list(i.attrs.values()) == ['8', '3', ['odd']]:\n",
    "        print('Resumen:',i.get_text())"
   ]
  },
  {
   "cell_type": "code",
   "execution_count": 183,
   "metadata": {},
   "outputs": [
    {
     "name": "stdout",
     "output_type": "stream",
     "text": [
      "Autor: H.R. Gloria Stella Diaz Ortiz\r\n",
      "H.S. Alexandra Moreno Piraquive, Manuel Antonio Virguez\n",
      "Origen: Camara de Representantes\n",
      "Fecha de Presentación: 03 Agosto 2006\n",
      "Repartido a Comisión: Primera\n",
      "Ponente Primer Debate: H.S. Luis Fernando Velasco Chavez\n",
      "Estado: Archivado\n",
      "Estado: Archivado\n",
      "Resumen: \n",
      "El proyecto de ley revisa las normas del Código Civil en la materia y las adecúa, incluyendo en ellas a los compañeros permanentes para otorgarles igual trato en su vocación hereditaria, que el que corresponde a los cónyuges matrimoniales.\n",
      "\n"
     ]
    }
   ],
   "source": [
    "ley_especifica_iter = iter(desc_ley)\n",
    "for i in ley_especifica_iter :\n",
    "    if i.get_text() in ['Autor:',\n",
    "                        'Origen:',\n",
    "                        'Fecha de Presentación:',\n",
    "                        'Repartido a Comisión:',\n",
    "                        'Ponente Primer Debate:',\n",
    "                        'Estado:']:\n",
    "        print(i.get_text(),next(ley_especifica_iter).get_text())\n",
    "    if list(i.attrs.values()) == ['8', '3', ['odd']]:\n",
    "        print('Resumen:',i.get_text())"
   ]
  },
  {
   "cell_type": "markdown",
   "metadata": {},
   "source": [
    "* Autor:\n",
    "* Origen:\n",
    "* Fecha de Presentación:\n",
    "* Repartido a Comisión:\n",
    "* Ponente Primer Debate:\n",
    "* Estado:\n",
    "* Resumen:"
   ]
  },
  {
   "cell_type": "code",
   "execution_count": 150,
   "metadata": {},
   "outputs": [],
   "source": [
    "import requests\n",
    "from bs4 import BeautifulSoup"
   ]
  },
  {
   "cell_type": "code",
   "execution_count": 149,
   "metadata": {},
   "outputs": [
    {
     "name": "stderr",
     "output_type": "stream",
     "text": [
      "C:\\Users\\emili\\.conda\\envs\\crime\\lib\\site-packages\\urllib3\\connectionpool.py:1043: InsecureRequestWarning: Unverified HTTPS request is being made to host 'leyes.senado.gov.co'. Adding certificate verification is strongly advised. See: https://urllib3.readthedocs.io/en/1.26.x/advanced-usage.html#ssl-warnings\n",
      "  warnings.warn(\n"
     ]
    },
    {
     "data": {
      "text/plain": [
       "<Response [200]>"
      ]
     },
     "execution_count": 149,
     "metadata": {},
     "output_type": "execute_result"
    }
   ],
   "source": [
    "import requests\n",
    "page_2006_2007 = requests.get(\"https://leyes.senado.gov.co/proyectos/index.php/proyectos-ley/periodo-legislativo-2006-2010/2006-2007?option=com_joodb&view=catalog&format=html&reset=false&ordering=&orderby=&Itemid=292&task=&search=&searchfield=&limit=0\",\n",
    "                    verify=False)\n",
    "page_2006_2007"
   ]
  },
  {
   "cell_type": "code",
   "execution_count": 151,
   "metadata": {},
   "outputs": [],
   "source": [
    "soup_leyes = BeautifulSoup(page_2006_2007.content, 'html.parser')\n",
    "titulos_leyes = soup_leyes.find_all('a', class_='joodb_titletink')\n"
   ]
  },
  {
   "cell_type": "code",
   "execution_count": 154,
   "metadata": {},
   "outputs": [],
   "source": [
    "domain_leyes = \"https://leyes.senado.gov.co\""
   ]
  },
  {
   "cell_type": "code",
   "execution_count": null,
   "metadata": {},
   "outputs": [],
   "source": [
    "# for i in titulos_leyes:\n",
    "#     print(i['href'])\n",
    "# for i in titulos_leyes:\n",
    "#     print(i.get_text())"
   ]
  },
  {
   "cell_type": "code",
   "execution_count": 160,
   "metadata": {},
   "outputs": [],
   "source": [
    "y = {}\n",
    "y['a'] = [1,2,3]\n",
    "\n"
   ]
  },
  {
   "cell_type": "code",
   "execution_count": 161,
   "metadata": {},
   "outputs": [],
   "source": []
  },
  {
   "cell_type": "code",
   "execution_count": 184,
   "metadata": {},
   "outputs": [],
   "source": [
    "dict_df = {}\n",
    "dict_df['Titulo:'] = []\n",
    "dict_df['Autor:'] = []\n",
    "dict_df['Origen:'] = []\n",
    "dict_df['Fecha de Presentación:'] = []\n",
    "dict_df['Repartido a Comisión:'] = []\n",
    "dict_df['Ponente Primer Debate:'] = []\n",
    "dict_df['Estado:'] = []\n",
    "dict_df['Resumen:'] = []"
   ]
  },
  {
   "cell_type": "code",
   "execution_count": null,
   "metadata": {},
   "outputs": [],
   "source": [
    "#falta corregir una cosa con el Estado, que aparece 2 veces "
   ]
  },
  {
   "cell_type": "code",
   "execution_count": 185,
   "metadata": {},
   "outputs": [
    {
     "name": "stderr",
     "output_type": "stream",
     "text": [
      "C:\\Users\\emili\\.conda\\envs\\crime\\lib\\site-packages\\urllib3\\connectionpool.py:1043: InsecureRequestWarning: Unverified HTTPS request is being made to host 'leyes.senado.gov.co'. Adding certificate verification is strongly advised. See: https://urllib3.readthedocs.io/en/1.26.x/advanced-usage.html#ssl-warnings\n",
      "  warnings.warn(\n",
      "C:\\Users\\emili\\.conda\\envs\\crime\\lib\\site-packages\\urllib3\\connectionpool.py:1043: InsecureRequestWarning: Unverified HTTPS request is being made to host 'leyes.senado.gov.co'. Adding certificate verification is strongly advised. See: https://urllib3.readthedocs.io/en/1.26.x/advanced-usage.html#ssl-warnings\n",
      "  warnings.warn(\n",
      "C:\\Users\\emili\\.conda\\envs\\crime\\lib\\site-packages\\urllib3\\connectionpool.py:1043: InsecureRequestWarning: Unverified HTTPS request is being made to host 'leyes.senado.gov.co'. Adding certificate verification is strongly advised. See: https://urllib3.readthedocs.io/en/1.26.x/advanced-usage.html#ssl-warnings\n",
      "  warnings.warn(\n"
     ]
    },
    {
     "ename": "KeyboardInterrupt",
     "evalue": "",
     "output_type": "error",
     "traceback": [
      "\u001b[1;31m---------------------------------------------------------------------------\u001b[0m",
      "\u001b[1;31mKeyboardInterrupt\u001b[0m                         Traceback (most recent call last)",
      "Input \u001b[1;32mIn [185]\u001b[0m, in \u001b[0;36m<cell line: 1>\u001b[1;34m()\u001b[0m\n\u001b[0;32m      1\u001b[0m \u001b[38;5;28;01mfor\u001b[39;00m i \u001b[38;5;129;01min\u001b[39;00m titulos_leyes:\n\u001b[0;32m      2\u001b[0m     dict_df[\u001b[38;5;124m'\u001b[39m\u001b[38;5;124mTitulo:\u001b[39m\u001b[38;5;124m'\u001b[39m]\u001b[38;5;241m.\u001b[39mappend(i\u001b[38;5;241m.\u001b[39mget_text())\n\u001b[1;32m----> 3\u001b[0m     page_ley \u001b[38;5;241m=\u001b[39m \u001b[43mrequests\u001b[49m\u001b[38;5;241;43m.\u001b[39;49m\u001b[43mget\u001b[49m\u001b[43m(\u001b[49m\u001b[43mdomain_leyes\u001b[49m\u001b[38;5;241;43m+\u001b[39;49m\u001b[43mi\u001b[49m\u001b[43m[\u001b[49m\u001b[38;5;124;43m'\u001b[39;49m\u001b[38;5;124;43mhref\u001b[39;49m\u001b[38;5;124;43m'\u001b[39;49m\u001b[43m]\u001b[49m\u001b[43m,\u001b[49m\n\u001b[0;32m      4\u001b[0m \u001b[43m                    \u001b[49m\u001b[43mverify\u001b[49m\u001b[38;5;241;43m=\u001b[39;49m\u001b[38;5;28;43;01mFalse\u001b[39;49;00m\u001b[43m)\u001b[49m\n\u001b[0;32m      5\u001b[0m     soup \u001b[38;5;241m=\u001b[39m BeautifulSoup(page_ley\u001b[38;5;241m.\u001b[39mcontent, \u001b[38;5;124m'\u001b[39m\u001b[38;5;124mhtml.parser\u001b[39m\u001b[38;5;124m'\u001b[39m)\n\u001b[0;32m      6\u001b[0m     desc_ley \u001b[38;5;241m=\u001b[39m soup\u001b[38;5;241m.\u001b[39mfind_all(\u001b[38;5;124m'\u001b[39m\u001b[38;5;124mtd\u001b[39m\u001b[38;5;124m'\u001b[39m)\n",
      "File \u001b[1;32m~\\.conda\\envs\\crime\\lib\\site-packages\\requests\\api.py:75\u001b[0m, in \u001b[0;36mget\u001b[1;34m(url, params, **kwargs)\u001b[0m\n\u001b[0;32m     64\u001b[0m \u001b[38;5;28;01mdef\u001b[39;00m \u001b[38;5;21mget\u001b[39m(url, params\u001b[38;5;241m=\u001b[39m\u001b[38;5;28;01mNone\u001b[39;00m, \u001b[38;5;241m*\u001b[39m\u001b[38;5;241m*\u001b[39mkwargs):\n\u001b[0;32m     65\u001b[0m     \u001b[38;5;124mr\u001b[39m\u001b[38;5;124;03m\"\"\"Sends a GET request.\u001b[39;00m\n\u001b[0;32m     66\u001b[0m \n\u001b[0;32m     67\u001b[0m \u001b[38;5;124;03m    :param url: URL for the new :class:`Request` object.\u001b[39;00m\n\u001b[1;32m   (...)\u001b[0m\n\u001b[0;32m     72\u001b[0m \u001b[38;5;124;03m    :rtype: requests.Response\u001b[39;00m\n\u001b[0;32m     73\u001b[0m \u001b[38;5;124;03m    \"\"\"\u001b[39;00m\n\u001b[1;32m---> 75\u001b[0m     \u001b[38;5;28;01mreturn\u001b[39;00m request(\u001b[38;5;124m'\u001b[39m\u001b[38;5;124mget\u001b[39m\u001b[38;5;124m'\u001b[39m, url, params\u001b[38;5;241m=\u001b[39mparams, \u001b[38;5;241m*\u001b[39m\u001b[38;5;241m*\u001b[39mkwargs)\n",
      "File \u001b[1;32m~\\.conda\\envs\\crime\\lib\\site-packages\\requests\\api.py:61\u001b[0m, in \u001b[0;36mrequest\u001b[1;34m(method, url, **kwargs)\u001b[0m\n\u001b[0;32m     57\u001b[0m \u001b[38;5;66;03m# By using the 'with' statement we are sure the session is closed, thus we\u001b[39;00m\n\u001b[0;32m     58\u001b[0m \u001b[38;5;66;03m# avoid leaving sockets open which can trigger a ResourceWarning in some\u001b[39;00m\n\u001b[0;32m     59\u001b[0m \u001b[38;5;66;03m# cases, and look like a memory leak in others.\u001b[39;00m\n\u001b[0;32m     60\u001b[0m \u001b[38;5;28;01mwith\u001b[39;00m sessions\u001b[38;5;241m.\u001b[39mSession() \u001b[38;5;28;01mas\u001b[39;00m session:\n\u001b[1;32m---> 61\u001b[0m     \u001b[38;5;28;01mreturn\u001b[39;00m session\u001b[38;5;241m.\u001b[39mrequest(method\u001b[38;5;241m=\u001b[39mmethod, url\u001b[38;5;241m=\u001b[39murl, \u001b[38;5;241m*\u001b[39m\u001b[38;5;241m*\u001b[39mkwargs)\n",
      "File \u001b[1;32m~\\.conda\\envs\\crime\\lib\\site-packages\\requests\\sessions.py:529\u001b[0m, in \u001b[0;36mSession.request\u001b[1;34m(self, method, url, params, data, headers, cookies, files, auth, timeout, allow_redirects, proxies, hooks, stream, verify, cert, json)\u001b[0m\n\u001b[0;32m    524\u001b[0m send_kwargs \u001b[38;5;241m=\u001b[39m {\n\u001b[0;32m    525\u001b[0m     \u001b[38;5;124m'\u001b[39m\u001b[38;5;124mtimeout\u001b[39m\u001b[38;5;124m'\u001b[39m: timeout,\n\u001b[0;32m    526\u001b[0m     \u001b[38;5;124m'\u001b[39m\u001b[38;5;124mallow_redirects\u001b[39m\u001b[38;5;124m'\u001b[39m: allow_redirects,\n\u001b[0;32m    527\u001b[0m }\n\u001b[0;32m    528\u001b[0m send_kwargs\u001b[38;5;241m.\u001b[39mupdate(settings)\n\u001b[1;32m--> 529\u001b[0m resp \u001b[38;5;241m=\u001b[39m \u001b[38;5;28mself\u001b[39m\u001b[38;5;241m.\u001b[39msend(prep, \u001b[38;5;241m*\u001b[39m\u001b[38;5;241m*\u001b[39msend_kwargs)\n\u001b[0;32m    531\u001b[0m \u001b[38;5;28;01mreturn\u001b[39;00m resp\n",
      "File \u001b[1;32m~\\.conda\\envs\\crime\\lib\\site-packages\\requests\\sessions.py:645\u001b[0m, in \u001b[0;36mSession.send\u001b[1;34m(self, request, **kwargs)\u001b[0m\n\u001b[0;32m    642\u001b[0m start \u001b[38;5;241m=\u001b[39m preferred_clock()\n\u001b[0;32m    644\u001b[0m \u001b[38;5;66;03m# Send the request\u001b[39;00m\n\u001b[1;32m--> 645\u001b[0m r \u001b[38;5;241m=\u001b[39m adapter\u001b[38;5;241m.\u001b[39msend(request, \u001b[38;5;241m*\u001b[39m\u001b[38;5;241m*\u001b[39mkwargs)\n\u001b[0;32m    647\u001b[0m \u001b[38;5;66;03m# Total elapsed time of the request (approximately)\u001b[39;00m\n\u001b[0;32m    648\u001b[0m elapsed \u001b[38;5;241m=\u001b[39m preferred_clock() \u001b[38;5;241m-\u001b[39m start\n",
      "File \u001b[1;32m~\\.conda\\envs\\crime\\lib\\site-packages\\requests\\adapters.py:440\u001b[0m, in \u001b[0;36mHTTPAdapter.send\u001b[1;34m(self, request, stream, timeout, verify, cert, proxies)\u001b[0m\n\u001b[0;32m    438\u001b[0m \u001b[38;5;28;01mtry\u001b[39;00m:\n\u001b[0;32m    439\u001b[0m     \u001b[38;5;28;01mif\u001b[39;00m \u001b[38;5;129;01mnot\u001b[39;00m chunked:\n\u001b[1;32m--> 440\u001b[0m         resp \u001b[38;5;241m=\u001b[39m \u001b[43mconn\u001b[49m\u001b[38;5;241;43m.\u001b[39;49m\u001b[43murlopen\u001b[49m\u001b[43m(\u001b[49m\n\u001b[0;32m    441\u001b[0m \u001b[43m            \u001b[49m\u001b[43mmethod\u001b[49m\u001b[38;5;241;43m=\u001b[39;49m\u001b[43mrequest\u001b[49m\u001b[38;5;241;43m.\u001b[39;49m\u001b[43mmethod\u001b[49m\u001b[43m,\u001b[49m\n\u001b[0;32m    442\u001b[0m \u001b[43m            \u001b[49m\u001b[43murl\u001b[49m\u001b[38;5;241;43m=\u001b[39;49m\u001b[43murl\u001b[49m\u001b[43m,\u001b[49m\n\u001b[0;32m    443\u001b[0m \u001b[43m            \u001b[49m\u001b[43mbody\u001b[49m\u001b[38;5;241;43m=\u001b[39;49m\u001b[43mrequest\u001b[49m\u001b[38;5;241;43m.\u001b[39;49m\u001b[43mbody\u001b[49m\u001b[43m,\u001b[49m\n\u001b[0;32m    444\u001b[0m \u001b[43m            \u001b[49m\u001b[43mheaders\u001b[49m\u001b[38;5;241;43m=\u001b[39;49m\u001b[43mrequest\u001b[49m\u001b[38;5;241;43m.\u001b[39;49m\u001b[43mheaders\u001b[49m\u001b[43m,\u001b[49m\n\u001b[0;32m    445\u001b[0m \u001b[43m            \u001b[49m\u001b[43mredirect\u001b[49m\u001b[38;5;241;43m=\u001b[39;49m\u001b[38;5;28;43;01mFalse\u001b[39;49;00m\u001b[43m,\u001b[49m\n\u001b[0;32m    446\u001b[0m \u001b[43m            \u001b[49m\u001b[43massert_same_host\u001b[49m\u001b[38;5;241;43m=\u001b[39;49m\u001b[38;5;28;43;01mFalse\u001b[39;49;00m\u001b[43m,\u001b[49m\n\u001b[0;32m    447\u001b[0m \u001b[43m            \u001b[49m\u001b[43mpreload_content\u001b[49m\u001b[38;5;241;43m=\u001b[39;49m\u001b[38;5;28;43;01mFalse\u001b[39;49;00m\u001b[43m,\u001b[49m\n\u001b[0;32m    448\u001b[0m \u001b[43m            \u001b[49m\u001b[43mdecode_content\u001b[49m\u001b[38;5;241;43m=\u001b[39;49m\u001b[38;5;28;43;01mFalse\u001b[39;49;00m\u001b[43m,\u001b[49m\n\u001b[0;32m    449\u001b[0m \u001b[43m            \u001b[49m\u001b[43mretries\u001b[49m\u001b[38;5;241;43m=\u001b[39;49m\u001b[38;5;28;43mself\u001b[39;49m\u001b[38;5;241;43m.\u001b[39;49m\u001b[43mmax_retries\u001b[49m\u001b[43m,\u001b[49m\n\u001b[0;32m    450\u001b[0m \u001b[43m            \u001b[49m\u001b[43mtimeout\u001b[49m\u001b[38;5;241;43m=\u001b[39;49m\u001b[43mtimeout\u001b[49m\n\u001b[0;32m    451\u001b[0m \u001b[43m        \u001b[49m\u001b[43m)\u001b[49m\n\u001b[0;32m    453\u001b[0m     \u001b[38;5;66;03m# Send the request.\u001b[39;00m\n\u001b[0;32m    454\u001b[0m     \u001b[38;5;28;01melse\u001b[39;00m:\n\u001b[0;32m    455\u001b[0m         \u001b[38;5;28;01mif\u001b[39;00m \u001b[38;5;28mhasattr\u001b[39m(conn, \u001b[38;5;124m'\u001b[39m\u001b[38;5;124mproxy_pool\u001b[39m\u001b[38;5;124m'\u001b[39m):\n",
      "File \u001b[1;32m~\\.conda\\envs\\crime\\lib\\site-packages\\urllib3\\connectionpool.py:703\u001b[0m, in \u001b[0;36mHTTPConnectionPool.urlopen\u001b[1;34m(self, method, url, body, headers, retries, redirect, assert_same_host, timeout, pool_timeout, release_conn, chunked, body_pos, **response_kw)\u001b[0m\n\u001b[0;32m    700\u001b[0m     \u001b[38;5;28mself\u001b[39m\u001b[38;5;241m.\u001b[39m_prepare_proxy(conn)\n\u001b[0;32m    702\u001b[0m \u001b[38;5;66;03m# Make the request on the httplib connection object.\u001b[39;00m\n\u001b[1;32m--> 703\u001b[0m httplib_response \u001b[38;5;241m=\u001b[39m \u001b[38;5;28;43mself\u001b[39;49m\u001b[38;5;241;43m.\u001b[39;49m\u001b[43m_make_request\u001b[49m\u001b[43m(\u001b[49m\n\u001b[0;32m    704\u001b[0m \u001b[43m    \u001b[49m\u001b[43mconn\u001b[49m\u001b[43m,\u001b[49m\n\u001b[0;32m    705\u001b[0m \u001b[43m    \u001b[49m\u001b[43mmethod\u001b[49m\u001b[43m,\u001b[49m\n\u001b[0;32m    706\u001b[0m \u001b[43m    \u001b[49m\u001b[43murl\u001b[49m\u001b[43m,\u001b[49m\n\u001b[0;32m    707\u001b[0m \u001b[43m    \u001b[49m\u001b[43mtimeout\u001b[49m\u001b[38;5;241;43m=\u001b[39;49m\u001b[43mtimeout_obj\u001b[49m\u001b[43m,\u001b[49m\n\u001b[0;32m    708\u001b[0m \u001b[43m    \u001b[49m\u001b[43mbody\u001b[49m\u001b[38;5;241;43m=\u001b[39;49m\u001b[43mbody\u001b[49m\u001b[43m,\u001b[49m\n\u001b[0;32m    709\u001b[0m \u001b[43m    \u001b[49m\u001b[43mheaders\u001b[49m\u001b[38;5;241;43m=\u001b[39;49m\u001b[43mheaders\u001b[49m\u001b[43m,\u001b[49m\n\u001b[0;32m    710\u001b[0m \u001b[43m    \u001b[49m\u001b[43mchunked\u001b[49m\u001b[38;5;241;43m=\u001b[39;49m\u001b[43mchunked\u001b[49m\u001b[43m,\u001b[49m\n\u001b[0;32m    711\u001b[0m \u001b[43m\u001b[49m\u001b[43m)\u001b[49m\n\u001b[0;32m    713\u001b[0m \u001b[38;5;66;03m# If we're going to release the connection in ``finally:``, then\u001b[39;00m\n\u001b[0;32m    714\u001b[0m \u001b[38;5;66;03m# the response doesn't need to know about the connection. Otherwise\u001b[39;00m\n\u001b[0;32m    715\u001b[0m \u001b[38;5;66;03m# it will also try to release it and we'll have a double-release\u001b[39;00m\n\u001b[0;32m    716\u001b[0m \u001b[38;5;66;03m# mess.\u001b[39;00m\n\u001b[0;32m    717\u001b[0m response_conn \u001b[38;5;241m=\u001b[39m conn \u001b[38;5;28;01mif\u001b[39;00m \u001b[38;5;129;01mnot\u001b[39;00m release_conn \u001b[38;5;28;01melse\u001b[39;00m \u001b[38;5;28;01mNone\u001b[39;00m\n",
      "File \u001b[1;32m~\\.conda\\envs\\crime\\lib\\site-packages\\urllib3\\connectionpool.py:449\u001b[0m, in \u001b[0;36mHTTPConnectionPool._make_request\u001b[1;34m(self, conn, method, url, timeout, chunked, **httplib_request_kw)\u001b[0m\n\u001b[0;32m    444\u001b[0m             httplib_response \u001b[38;5;241m=\u001b[39m conn\u001b[38;5;241m.\u001b[39mgetresponse()\n\u001b[0;32m    445\u001b[0m         \u001b[38;5;28;01mexcept\u001b[39;00m \u001b[38;5;167;01mBaseException\u001b[39;00m \u001b[38;5;28;01mas\u001b[39;00m e:\n\u001b[0;32m    446\u001b[0m             \u001b[38;5;66;03m# Remove the TypeError from the exception chain in\u001b[39;00m\n\u001b[0;32m    447\u001b[0m             \u001b[38;5;66;03m# Python 3 (including for exceptions like SystemExit).\u001b[39;00m\n\u001b[0;32m    448\u001b[0m             \u001b[38;5;66;03m# Otherwise it looks like a bug in the code.\u001b[39;00m\n\u001b[1;32m--> 449\u001b[0m             \u001b[43msix\u001b[49m\u001b[38;5;241;43m.\u001b[39;49m\u001b[43mraise_from\u001b[49m\u001b[43m(\u001b[49m\u001b[43me\u001b[49m\u001b[43m,\u001b[49m\u001b[43m \u001b[49m\u001b[38;5;28;43;01mNone\u001b[39;49;00m\u001b[43m)\u001b[49m\n\u001b[0;32m    450\u001b[0m \u001b[38;5;28;01mexcept\u001b[39;00m (SocketTimeout, BaseSSLError, SocketError) \u001b[38;5;28;01mas\u001b[39;00m e:\n\u001b[0;32m    451\u001b[0m     \u001b[38;5;28mself\u001b[39m\u001b[38;5;241m.\u001b[39m_raise_timeout(err\u001b[38;5;241m=\u001b[39me, url\u001b[38;5;241m=\u001b[39murl, timeout_value\u001b[38;5;241m=\u001b[39mread_timeout)\n",
      "File \u001b[1;32m<string>:3\u001b[0m, in \u001b[0;36mraise_from\u001b[1;34m(value, from_value)\u001b[0m\n",
      "File \u001b[1;32m~\\.conda\\envs\\crime\\lib\\site-packages\\urllib3\\connectionpool.py:444\u001b[0m, in \u001b[0;36mHTTPConnectionPool._make_request\u001b[1;34m(self, conn, method, url, timeout, chunked, **httplib_request_kw)\u001b[0m\n\u001b[0;32m    441\u001b[0m \u001b[38;5;28;01mexcept\u001b[39;00m \u001b[38;5;167;01mTypeError\u001b[39;00m:\n\u001b[0;32m    442\u001b[0m     \u001b[38;5;66;03m# Python 3\u001b[39;00m\n\u001b[0;32m    443\u001b[0m     \u001b[38;5;28;01mtry\u001b[39;00m:\n\u001b[1;32m--> 444\u001b[0m         httplib_response \u001b[38;5;241m=\u001b[39m \u001b[43mconn\u001b[49m\u001b[38;5;241;43m.\u001b[39;49m\u001b[43mgetresponse\u001b[49m\u001b[43m(\u001b[49m\u001b[43m)\u001b[49m\n\u001b[0;32m    445\u001b[0m     \u001b[38;5;28;01mexcept\u001b[39;00m \u001b[38;5;167;01mBaseException\u001b[39;00m \u001b[38;5;28;01mas\u001b[39;00m e:\n\u001b[0;32m    446\u001b[0m         \u001b[38;5;66;03m# Remove the TypeError from the exception chain in\u001b[39;00m\n\u001b[0;32m    447\u001b[0m         \u001b[38;5;66;03m# Python 3 (including for exceptions like SystemExit).\u001b[39;00m\n\u001b[0;32m    448\u001b[0m         \u001b[38;5;66;03m# Otherwise it looks like a bug in the code.\u001b[39;00m\n\u001b[0;32m    449\u001b[0m         six\u001b[38;5;241m.\u001b[39mraise_from(e, \u001b[38;5;28;01mNone\u001b[39;00m)\n",
      "File \u001b[1;32m~\\.conda\\envs\\crime\\lib\\http\\client.py:1371\u001b[0m, in \u001b[0;36mHTTPConnection.getresponse\u001b[1;34m(self)\u001b[0m\n\u001b[0;32m   1369\u001b[0m \u001b[38;5;28;01mtry\u001b[39;00m:\n\u001b[0;32m   1370\u001b[0m     \u001b[38;5;28;01mtry\u001b[39;00m:\n\u001b[1;32m-> 1371\u001b[0m         \u001b[43mresponse\u001b[49m\u001b[38;5;241;43m.\u001b[39;49m\u001b[43mbegin\u001b[49m\u001b[43m(\u001b[49m\u001b[43m)\u001b[49m\n\u001b[0;32m   1372\u001b[0m     \u001b[38;5;28;01mexcept\u001b[39;00m \u001b[38;5;167;01mConnectionError\u001b[39;00m:\n\u001b[0;32m   1373\u001b[0m         \u001b[38;5;28mself\u001b[39m\u001b[38;5;241m.\u001b[39mclose()\n",
      "File \u001b[1;32m~\\.conda\\envs\\crime\\lib\\http\\client.py:319\u001b[0m, in \u001b[0;36mHTTPResponse.begin\u001b[1;34m(self)\u001b[0m\n\u001b[0;32m    317\u001b[0m \u001b[38;5;66;03m# read until we get a non-100 response\u001b[39;00m\n\u001b[0;32m    318\u001b[0m \u001b[38;5;28;01mwhile\u001b[39;00m \u001b[38;5;28;01mTrue\u001b[39;00m:\n\u001b[1;32m--> 319\u001b[0m     version, status, reason \u001b[38;5;241m=\u001b[39m \u001b[38;5;28;43mself\u001b[39;49m\u001b[38;5;241;43m.\u001b[39;49m\u001b[43m_read_status\u001b[49m\u001b[43m(\u001b[49m\u001b[43m)\u001b[49m\n\u001b[0;32m    320\u001b[0m     \u001b[38;5;28;01mif\u001b[39;00m status \u001b[38;5;241m!=\u001b[39m CONTINUE:\n\u001b[0;32m    321\u001b[0m         \u001b[38;5;28;01mbreak\u001b[39;00m\n",
      "File \u001b[1;32m~\\.conda\\envs\\crime\\lib\\http\\client.py:280\u001b[0m, in \u001b[0;36mHTTPResponse._read_status\u001b[1;34m(self)\u001b[0m\n\u001b[0;32m    279\u001b[0m \u001b[38;5;28;01mdef\u001b[39;00m \u001b[38;5;21m_read_status\u001b[39m(\u001b[38;5;28mself\u001b[39m):\n\u001b[1;32m--> 280\u001b[0m     line \u001b[38;5;241m=\u001b[39m \u001b[38;5;28mstr\u001b[39m(\u001b[38;5;28;43mself\u001b[39;49m\u001b[38;5;241;43m.\u001b[39;49m\u001b[43mfp\u001b[49m\u001b[38;5;241;43m.\u001b[39;49m\u001b[43mreadline\u001b[49m\u001b[43m(\u001b[49m\u001b[43m_MAXLINE\u001b[49m\u001b[43m \u001b[49m\u001b[38;5;241;43m+\u001b[39;49m\u001b[43m \u001b[49m\u001b[38;5;241;43m1\u001b[39;49m\u001b[43m)\u001b[49m, \u001b[38;5;124m\"\u001b[39m\u001b[38;5;124miso-8859-1\u001b[39m\u001b[38;5;124m\"\u001b[39m)\n\u001b[0;32m    281\u001b[0m     \u001b[38;5;28;01mif\u001b[39;00m \u001b[38;5;28mlen\u001b[39m(line) \u001b[38;5;241m>\u001b[39m _MAXLINE:\n\u001b[0;32m    282\u001b[0m         \u001b[38;5;28;01mraise\u001b[39;00m LineTooLong(\u001b[38;5;124m\"\u001b[39m\u001b[38;5;124mstatus line\u001b[39m\u001b[38;5;124m\"\u001b[39m)\n",
      "File \u001b[1;32m~\\.conda\\envs\\crime\\lib\\socket.py:704\u001b[0m, in \u001b[0;36mSocketIO.readinto\u001b[1;34m(self, b)\u001b[0m\n\u001b[0;32m    702\u001b[0m \u001b[38;5;28;01mwhile\u001b[39;00m \u001b[38;5;28;01mTrue\u001b[39;00m:\n\u001b[0;32m    703\u001b[0m     \u001b[38;5;28;01mtry\u001b[39;00m:\n\u001b[1;32m--> 704\u001b[0m         \u001b[38;5;28;01mreturn\u001b[39;00m \u001b[38;5;28;43mself\u001b[39;49m\u001b[38;5;241;43m.\u001b[39;49m\u001b[43m_sock\u001b[49m\u001b[38;5;241;43m.\u001b[39;49m\u001b[43mrecv_into\u001b[49m\u001b[43m(\u001b[49m\u001b[43mb\u001b[49m\u001b[43m)\u001b[49m\n\u001b[0;32m    705\u001b[0m     \u001b[38;5;28;01mexcept\u001b[39;00m timeout:\n\u001b[0;32m    706\u001b[0m         \u001b[38;5;28mself\u001b[39m\u001b[38;5;241m.\u001b[39m_timeout_occurred \u001b[38;5;241m=\u001b[39m \u001b[38;5;28;01mTrue\u001b[39;00m\n",
      "File \u001b[1;32m~\\.conda\\envs\\crime\\lib\\ssl.py:1241\u001b[0m, in \u001b[0;36mSSLSocket.recv_into\u001b[1;34m(self, buffer, nbytes, flags)\u001b[0m\n\u001b[0;32m   1237\u001b[0m     \u001b[38;5;28;01mif\u001b[39;00m flags \u001b[38;5;241m!=\u001b[39m \u001b[38;5;241m0\u001b[39m:\n\u001b[0;32m   1238\u001b[0m         \u001b[38;5;28;01mraise\u001b[39;00m \u001b[38;5;167;01mValueError\u001b[39;00m(\n\u001b[0;32m   1239\u001b[0m           \u001b[38;5;124m\"\u001b[39m\u001b[38;5;124mnon-zero flags not allowed in calls to recv_into() on \u001b[39m\u001b[38;5;132;01m%s\u001b[39;00m\u001b[38;5;124m\"\u001b[39m \u001b[38;5;241m%\u001b[39m\n\u001b[0;32m   1240\u001b[0m           \u001b[38;5;28mself\u001b[39m\u001b[38;5;241m.\u001b[39m\u001b[38;5;18m__class__\u001b[39m)\n\u001b[1;32m-> 1241\u001b[0m     \u001b[38;5;28;01mreturn\u001b[39;00m \u001b[38;5;28;43mself\u001b[39;49m\u001b[38;5;241;43m.\u001b[39;49m\u001b[43mread\u001b[49m\u001b[43m(\u001b[49m\u001b[43mnbytes\u001b[49m\u001b[43m,\u001b[49m\u001b[43m \u001b[49m\u001b[43mbuffer\u001b[49m\u001b[43m)\u001b[49m\n\u001b[0;32m   1242\u001b[0m \u001b[38;5;28;01melse\u001b[39;00m:\n\u001b[0;32m   1243\u001b[0m     \u001b[38;5;28;01mreturn\u001b[39;00m \u001b[38;5;28msuper\u001b[39m()\u001b[38;5;241m.\u001b[39mrecv_into(buffer, nbytes, flags)\n",
      "File \u001b[1;32m~\\.conda\\envs\\crime\\lib\\ssl.py:1099\u001b[0m, in \u001b[0;36mSSLSocket.read\u001b[1;34m(self, len, buffer)\u001b[0m\n\u001b[0;32m   1097\u001b[0m \u001b[38;5;28;01mtry\u001b[39;00m:\n\u001b[0;32m   1098\u001b[0m     \u001b[38;5;28;01mif\u001b[39;00m buffer \u001b[38;5;129;01mis\u001b[39;00m \u001b[38;5;129;01mnot\u001b[39;00m \u001b[38;5;28;01mNone\u001b[39;00m:\n\u001b[1;32m-> 1099\u001b[0m         \u001b[38;5;28;01mreturn\u001b[39;00m \u001b[38;5;28;43mself\u001b[39;49m\u001b[38;5;241;43m.\u001b[39;49m\u001b[43m_sslobj\u001b[49m\u001b[38;5;241;43m.\u001b[39;49m\u001b[43mread\u001b[49m\u001b[43m(\u001b[49m\u001b[38;5;28;43mlen\u001b[39;49m\u001b[43m,\u001b[49m\u001b[43m \u001b[49m\u001b[43mbuffer\u001b[49m\u001b[43m)\u001b[49m\n\u001b[0;32m   1100\u001b[0m     \u001b[38;5;28;01melse\u001b[39;00m:\n\u001b[0;32m   1101\u001b[0m         \u001b[38;5;28;01mreturn\u001b[39;00m \u001b[38;5;28mself\u001b[39m\u001b[38;5;241m.\u001b[39m_sslobj\u001b[38;5;241m.\u001b[39mread(\u001b[38;5;28mlen\u001b[39m)\n",
      "\u001b[1;31mKeyboardInterrupt\u001b[0m: "
     ]
    }
   ],
   "source": [
    "for i in titulos_leyes:\n",
    "    dict_df['Titulo:'].append(i.get_text())\n",
    "    page_ley = requests.get(domain_leyes+i['href'],\n",
    "                    verify=False)\n",
    "    soup = BeautifulSoup(page_ley.content, 'html.parser')\n",
    "    desc_ley = soup.find_all('td')\n",
    "    ley_especifica_iter = iter(desc_ley)\n",
    "    for i in ley_especifica_iter :\n",
    "        if i.get_text() in ['Autor:',\n",
    "                            'Origen:',\n",
    "                            'Fecha de Presentación:',\n",
    "                            'Repartido a Comisión:',\n",
    "                            'Ponente Primer Debate:',\n",
    "                            'Estado:']:\n",
    "            dict_df[i.get_text()].append(next(ley_especifica_iter).get_text())\n",
    "        if list(i.attrs.values()) == ['8', '3', ['odd']]:\n",
    "            dict_df['Resumen:'].append(i.get_text())\n"
   ]
  },
  {
   "cell_type": "code",
   "execution_count": 175,
   "metadata": {},
   "outputs": [
    {
     "name": "stdout",
     "output_type": "stream",
     "text": [
      "Titulo:\n",
      "Autor:\n",
      "Origen:\n",
      "Fecha de Presentación:\n",
      "Repartido a Comisión:\n",
      "Ponente Primer Debate:\n",
      "Estado:\n",
      "Resumen:\n"
     ]
    }
   ],
   "source": [
    "for i in dict_df.keys():\n",
    "#     print(len(dict_df[i]))\n",
    "    print(i)"
   ]
  },
  {
   "cell_type": "code",
   "execution_count": 186,
   "metadata": {},
   "outputs": [
    {
     "data": {
      "text/plain": [
       "{'Titulo:': ['\"POR LA CUAL SE OTORGAN FACULTADES EXTRAORDINARIAS AL PRESIDENTE DE LA REPÚBLICA Y SE DICTAN OTRAS DISPOSICIONES\"',\n",
       "  '\"POR MEDIO DEL CUAL SE REGULA EL TRABAJO ASOCIADO COOPERATIVO\"',\n",
       "  '\"POR LA CUAL SE MODIFICA LA LEY 82 DE 1993, LEY MUJER CABEZA DE FAMILIA Y SE DICTAN OTRAS DISPOSICIONES\"'],\n",
       " 'Autor:': ['Ministerio de Protección Social: Doctor Diego Palacio Betancourt',\n",
       "  'Ministro de Protección Social: Doctor Diego Palacio Betancourt'],\n",
       " 'Origen:': ['Senado de la Republica', 'Senado de la Republica'],\n",
       " 'Fecha de Presentación:': ['20 Julio 2006', '20 Julio 2006'],\n",
       " 'Repartido a Comisión:': ['Septima', 'Septima'],\n",
       " 'Ponente Primer Debate:': ['H.S. Miguel Pineda V, Jairo Merlano F, Dilian Francisca Toro Torres, Diaz Maloff, Claudia Rodriguez, Luis Carlos Avellaneda, Ivan Diaz M, German Aguirre.',\n",
       "  'H.S. Reginaldo Montes Alvarez'],\n",
       " 'Estado:': ['Ley 1122 del 09 de Enero de 2007',\n",
       "  '',\n",
       "  'Archivado por retiro autor el día 30 de Junio de 2010',\n",
       "  ''],\n",
       " 'Resumen:': ['\\nDurante los años 2004 y 2005 el Gobierno Nacional, el Congreso de la República, los partidos, los gremios, los medios de comunicación, las entidades territoriales y sus Federaciones, los aseguradores, los prestadores y en general todo el sector de la salud a lo largo y ancho del país, desarrollaron una amplia discusión acerca del sistema general de seguridad social en salud, sus logros y dificultades, y sus posibles reformas a instancias de una comisión accidental conformada en el honorable Senado de la República. Dado que se trata de la gestión de recursos públicos del sistema general de seguridad social en salud se hace necesario regular y controlar; Por esta razón, y dada la importancia de este tema para un buen funcionamiento del sector de la salud, se solicita al honorable Congreso de la República otorgar facultades para expedir normas con fuerza de ley en esta materia\\n',\n",
       "  '\\nLa esencia del proyecto, es facilitar la participación de todos los productores de biomasa, particularmente los de palma de aceite, los que tengan también algunos excedentes que puedan ser convertidos próximamente en biodiésel, es decir combustible que de acuerdo con la misma ley mínimo en un porcentaje del 10% debe ser parte de una mezcla para motores diésel.\\n']}"
      ]
     },
     "execution_count": 186,
     "metadata": {},
     "output_type": "execute_result"
    }
   ],
   "source": [
    "dict_df"
   ]
  },
  {
   "cell_type": "code",
   "execution_count": 171,
   "metadata": {},
   "outputs": [],
   "source": [
    "import pandas as pd "
   ]
  },
  {
   "cell_type": "code",
   "execution_count": 177,
   "metadata": {},
   "outputs": [],
   "source": [
    "df = pd.DataFrame(data=dict_df)"
   ]
  },
  {
   "cell_type": "code",
   "execution_count": 178,
   "metadata": {},
   "outputs": [
    {
     "data": {
      "text/html": [
       "<div>\n",
       "<style scoped>\n",
       "    .dataframe tbody tr th:only-of-type {\n",
       "        vertical-align: middle;\n",
       "    }\n",
       "\n",
       "    .dataframe tbody tr th {\n",
       "        vertical-align: top;\n",
       "    }\n",
       "\n",
       "    .dataframe thead th {\n",
       "        text-align: right;\n",
       "    }\n",
       "</style>\n",
       "<table border=\"1\" class=\"dataframe\">\n",
       "  <thead>\n",
       "    <tr style=\"text-align: right;\">\n",
       "      <th></th>\n",
       "      <th>Titulo:</th>\n",
       "      <th>Autor:</th>\n",
       "      <th>Origen:</th>\n",
       "      <th>Fecha de Presentación:</th>\n",
       "      <th>Repartido a Comisión:</th>\n",
       "      <th>Ponente Primer Debate:</th>\n",
       "      <th>Resumen:</th>\n",
       "    </tr>\n",
       "  </thead>\n",
       "  <tbody>\n",
       "    <tr>\n",
       "      <th>0</th>\n",
       "      <td>\"POR LA CUAL SE OTORGAN FACULTADES EXTRAORDINA...</td>\n",
       "      <td>Ministerio de Protección Social: Doctor Diego ...</td>\n",
       "      <td>Senado de la Republica</td>\n",
       "      <td>20 Julio 2006</td>\n",
       "      <td>Septima</td>\n",
       "      <td>H.S. Miguel Pineda V, Jairo Merlano F, Dilian ...</td>\n",
       "      <td>\\nDurante los años 2004 y 2005 el Gobierno Nac...</td>\n",
       "    </tr>\n",
       "    <tr>\n",
       "      <th>1</th>\n",
       "      <td>\"POR MEDIO DEL CUAL SE REGULA EL TRABAJO ASOCI...</td>\n",
       "      <td>Ministro de Protección Social: Doctor Diego Pa...</td>\n",
       "      <td>Senado de la Republica</td>\n",
       "      <td>20 Julio 2006</td>\n",
       "      <td>Septima</td>\n",
       "      <td>H.S. Reginaldo Montes Alvarez</td>\n",
       "      <td>\\nLa esencia del proyecto, es facilitar la par...</td>\n",
       "    </tr>\n",
       "    <tr>\n",
       "      <th>2</th>\n",
       "      <td>\"POR LA CUAL SE MODIFICA LA LEY 82 DE 1993, LE...</td>\n",
       "      <td>H.S. Claudia Rodriguez de Castellanos, Luis Fe...</td>\n",
       "      <td>Senado de la Republica</td>\n",
       "      <td>20 Julio 2006</td>\n",
       "      <td>Septima</td>\n",
       "      <td>H.S. Claudia Rodriguez, Piedad Cordoba Ruiz, D...</td>\n",
       "      <td>\\nEs entonces imperativo enmarcar los ingentes...</td>\n",
       "    </tr>\n",
       "    <tr>\n",
       "      <th>3</th>\n",
       "      <td>\"POR LA CUAL SE MODIFICA EL ARTICULO 233 DE LA...</td>\n",
       "      <td>H.S. Piedad Zucardi de Garcia</td>\n",
       "      <td>Senado de la Republica</td>\n",
       "      <td>20 Julio 2006</td>\n",
       "      <td>Primera</td>\n",
       "      <td>H.S. Juan Fernando Cristo Bustos</td>\n",
       "      <td>\\nel presente proyecto de ley, que consagra el...</td>\n",
       "    </tr>\n",
       "    <tr>\n",
       "      <th>4</th>\n",
       "      <td>\"POR EL CUAL SE REGLAMENTA EL HABEAS DATA Y EL...</td>\n",
       "      <td>H.S. Ruben Dario Quintero, Mario Londoño, Juan...</td>\n",
       "      <td>Senado de la Republica</td>\n",
       "      <td>20 Julio 2006</td>\n",
       "      <td>Primera</td>\n",
       "      <td>H.S. Luis Fernando Velasco, Ruben Dario Quinte...</td>\n",
       "      <td>\\npretendemos desarrollar dos derechos fundame...</td>\n",
       "    </tr>\n",
       "    <tr>\n",
       "      <th>...</th>\n",
       "      <td>...</td>\n",
       "      <td>...</td>\n",
       "      <td>...</td>\n",
       "      <td>...</td>\n",
       "      <td>...</td>\n",
       "      <td>...</td>\n",
       "      <td>...</td>\n",
       "    </tr>\n",
       "    <tr>\n",
       "      <th>241</th>\n",
       "      <td>\"POR MEDIO DE LA CUAL SE HACE UNA ADICIÓN AL C...</td>\n",
       "      <td>H.R. Guillermo Antonio Santos,Pedro Nelson Par...</td>\n",
       "      <td>Camara de Representantes</td>\n",
       "      <td>01 Agosto 2006</td>\n",
       "      <td>Primera</td>\n",
       "      <td>H.S. Luis Fernando Velasco Chavez</td>\n",
       "      <td>\\nes preciso tipificar como delito la denegaci...</td>\n",
       "    </tr>\n",
       "    <tr>\n",
       "      <th>242</th>\n",
       "      <td>\"POR LA CUAL SE INCORPORA A LA RED NACIONAL DE...</td>\n",
       "      <td>H.R. Bladimir Nicolas Cuello Daza</td>\n",
       "      <td>Camara de Representantes</td>\n",
       "      <td>23 Noviembre 2006</td>\n",
       "      <td>Cuarta</td>\n",
       "      <td>H.S. Manuel Virguez Piraquive</td>\n",
       "      <td>\\nEl objeto del proyecto de ley es la posibili...</td>\n",
       "    </tr>\n",
       "    <tr>\n",
       "      <th>243</th>\n",
       "      <td>\"POR LA CUAL SE MODIFICA PARCIALMENTE LA LEY 8...</td>\n",
       "      <td>H.R. Alfonso Acosta Osio</td>\n",
       "      <td>Camara de Representantes</td>\n",
       "      <td>20 Septiembre 2006</td>\n",
       "      <td>Sexta</td>\n",
       "      <td>H.S. Ivan Moreno Rojas</td>\n",
       "      <td>\\nel ejercicio profesional de los bacteriólogo...</td>\n",
       "    </tr>\n",
       "    <tr>\n",
       "      <th>244</th>\n",
       "      <td>\"POR MEDIO DE LA CUAL SE ESTABLECEN NORMAS REL...</td>\n",
       "      <td>H.R. Manuel Enriquez Rosero, Venus Alveiro Silva</td>\n",
       "      <td>Camara de Representantes</td>\n",
       "      <td>06 Octubre 2005</td>\n",
       "      <td>Septima</td>\n",
       "      <td></td>\n",
       "      <td>\\n\\n</td>\n",
       "    </tr>\n",
       "    <tr>\n",
       "      <th>245</th>\n",
       "      <td>\"POR LA CUAL SE RECONOCE IGUALDAD DE DERECHOS ...</td>\n",
       "      <td>H.R. Gloria Stella Diaz Ortiz\\r\\nH.S. Alexandr...</td>\n",
       "      <td>Camara de Representantes</td>\n",
       "      <td>03 Agosto 2006</td>\n",
       "      <td>Primera</td>\n",
       "      <td>H.S. Luis Fernando Velasco Chavez</td>\n",
       "      <td>\\nEl proyecto de ley revisa las normas del Cód...</td>\n",
       "    </tr>\n",
       "  </tbody>\n",
       "</table>\n",
       "<p>246 rows × 7 columns</p>\n",
       "</div>"
      ],
      "text/plain": [
       "                                               Titulo:  \\\n",
       "0    \"POR LA CUAL SE OTORGAN FACULTADES EXTRAORDINA...   \n",
       "1    \"POR MEDIO DEL CUAL SE REGULA EL TRABAJO ASOCI...   \n",
       "2    \"POR LA CUAL SE MODIFICA LA LEY 82 DE 1993, LE...   \n",
       "3    \"POR LA CUAL SE MODIFICA EL ARTICULO 233 DE LA...   \n",
       "4    \"POR EL CUAL SE REGLAMENTA EL HABEAS DATA Y EL...   \n",
       "..                                                 ...   \n",
       "241  \"POR MEDIO DE LA CUAL SE HACE UNA ADICIÓN AL C...   \n",
       "242  \"POR LA CUAL SE INCORPORA A LA RED NACIONAL DE...   \n",
       "243  \"POR LA CUAL SE MODIFICA PARCIALMENTE LA LEY 8...   \n",
       "244  \"POR MEDIO DE LA CUAL SE ESTABLECEN NORMAS REL...   \n",
       "245  \"POR LA CUAL SE RECONOCE IGUALDAD DE DERECHOS ...   \n",
       "\n",
       "                                                Autor:  \\\n",
       "0    Ministerio de Protección Social: Doctor Diego ...   \n",
       "1    Ministro de Protección Social: Doctor Diego Pa...   \n",
       "2    H.S. Claudia Rodriguez de Castellanos, Luis Fe...   \n",
       "3                        H.S. Piedad Zucardi de Garcia   \n",
       "4    H.S. Ruben Dario Quintero, Mario Londoño, Juan...   \n",
       "..                                                 ...   \n",
       "241  H.R. Guillermo Antonio Santos,Pedro Nelson Par...   \n",
       "242                  H.R. Bladimir Nicolas Cuello Daza   \n",
       "243                           H.R. Alfonso Acosta Osio   \n",
       "244   H.R. Manuel Enriquez Rosero, Venus Alveiro Silva   \n",
       "245  H.R. Gloria Stella Diaz Ortiz\\r\\nH.S. Alexandr...   \n",
       "\n",
       "                      Origen: Fecha de Presentación: Repartido a Comisión:  \\\n",
       "0      Senado de la Republica          20 Julio 2006               Septima   \n",
       "1      Senado de la Republica          20 Julio 2006               Septima   \n",
       "2      Senado de la Republica          20 Julio 2006               Septima   \n",
       "3      Senado de la Republica          20 Julio 2006               Primera   \n",
       "4      Senado de la Republica          20 Julio 2006               Primera   \n",
       "..                        ...                    ...                   ...   \n",
       "241  Camara de Representantes         01 Agosto 2006               Primera   \n",
       "242  Camara de Representantes      23 Noviembre 2006                Cuarta   \n",
       "243  Camara de Representantes     20 Septiembre 2006                 Sexta   \n",
       "244  Camara de Representantes        06 Octubre 2005               Septima   \n",
       "245  Camara de Representantes         03 Agosto 2006               Primera   \n",
       "\n",
       "                                Ponente Primer Debate:  \\\n",
       "0    H.S. Miguel Pineda V, Jairo Merlano F, Dilian ...   \n",
       "1                        H.S. Reginaldo Montes Alvarez   \n",
       "2    H.S. Claudia Rodriguez, Piedad Cordoba Ruiz, D...   \n",
       "3                     H.S. Juan Fernando Cristo Bustos   \n",
       "4    H.S. Luis Fernando Velasco, Ruben Dario Quinte...   \n",
       "..                                                 ...   \n",
       "241                  H.S. Luis Fernando Velasco Chavez   \n",
       "242                      H.S. Manuel Virguez Piraquive   \n",
       "243                             H.S. Ivan Moreno Rojas   \n",
       "244                                                      \n",
       "245                  H.S. Luis Fernando Velasco Chavez   \n",
       "\n",
       "                                              Resumen:  \n",
       "0    \\nDurante los años 2004 y 2005 el Gobierno Nac...  \n",
       "1    \\nLa esencia del proyecto, es facilitar la par...  \n",
       "2    \\nEs entonces imperativo enmarcar los ingentes...  \n",
       "3    \\nel presente proyecto de ley, que consagra el...  \n",
       "4    \\npretendemos desarrollar dos derechos fundame...  \n",
       "..                                                 ...  \n",
       "241  \\nes preciso tipificar como delito la denegaci...  \n",
       "242  \\nEl objeto del proyecto de ley es la posibili...  \n",
       "243  \\nel ejercicio profesional de los bacteriólogo...  \n",
       "244                                               \\n\\n  \n",
       "245  \\nEl proyecto de ley revisa las normas del Cód...  \n",
       "\n",
       "[246 rows x 7 columns]"
      ]
     },
     "execution_count": 178,
     "metadata": {},
     "output_type": "execute_result"
    }
   ],
   "source": [
    "df"
   ]
  }
 ],
 "metadata": {
  "kernelspec": {
   "display_name": "Python 3",
   "language": "python",
   "name": "python3"
  },
  "language_info": {
   "codemirror_mode": {
    "name": "ipython",
    "version": 3
   },
   "file_extension": ".py",
   "mimetype": "text/x-python",
   "name": "python",
   "nbconvert_exporter": "python",
   "pygments_lexer": "ipython3",
   "version": "3.8.3"
  }
 },
 "nbformat": 4,
 "nbformat_minor": 5
}
